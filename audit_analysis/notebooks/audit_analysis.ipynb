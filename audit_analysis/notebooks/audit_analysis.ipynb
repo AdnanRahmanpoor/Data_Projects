{
 "cells": [
  {
   "cell_type": "markdown",
   "id": "118e6bf5",
   "metadata": {},
   "source": [
    "# Audit Analysis Project"
   ]
  },
  {
   "cell_type": "markdown",
   "id": "27776d9a",
   "metadata": {},
   "source": [
    "### Importing libraries"
   ]
  },
  {
   "cell_type": "code",
   "execution_count": 2,
   "id": "8042dfec",
   "metadata": {},
   "outputs": [],
   "source": [
    "import pandas as pd"
   ]
  },
  {
   "cell_type": "markdown",
   "id": "e5974255",
   "metadata": {},
   "source": [
    "### Importing Datasets"
   ]
  },
  {
   "cell_type": "code",
   "execution_count": 4,
   "id": "7e07fd6f",
   "metadata": {},
   "outputs": [],
   "source": [
    "# General Ledger dataset\n",
    "gl_df = pd.read_csv('../data/general_ledger.csv', parse_dates=[\"date\"])\n",
    "\n",
    "# Vendors Dataset\n",
    "vendors_df = pd.read_csv('../data/vendors.csv')\n",
    "\n",
    "# Payments Dataset\n",
    "payments_df = pd.read_csv('../data/vendor_payments.csv', parse_dates=[\"payment_date\"])\n",
    "\n",
    "# Expenses Dataset\n",
    "expenses_df = pd.read_csv('../data/employee_expenses.csv', parse_dates=[\"date\"])"
   ]
  },
  {
   "cell_type": "markdown",
   "id": "ab972eca",
   "metadata": {},
   "source": [
    "### Viewing the Datasets"
   ]
  },
  {
   "cell_type": "code",
   "execution_count": 7,
   "id": "584cdeea",
   "metadata": {},
   "outputs": [
    {
     "data": {
      "application/vnd.microsoft.datawrangler.viewer.v0+json": {
       "columns": [
        {
         "name": "index",
         "rawType": "int64",
         "type": "integer"
        },
        {
         "name": "date",
         "rawType": "datetime64[ns]",
         "type": "datetime"
        },
        {
         "name": "time",
         "rawType": "object",
         "type": "string"
        },
        {
         "name": "user",
         "rawType": "object",
         "type": "string"
        },
        {
         "name": "account",
         "rawType": "object",
         "type": "string"
        },
        {
         "name": "amount",
         "rawType": "float64",
         "type": "float"
        },
        {
         "name": "description",
         "rawType": "object",
         "type": "string"
        }
       ],
       "conversionMethod": "pd.DataFrame",
       "ref": "af73e3b4-53d5-45d2-b124-bf04fa3a87df",
       "rows": [
        [
         "0",
         "2025-02-01 00:00:00",
         "03:35:16",
         "guerreroashley",
         "1001-Cash",
         "-47498.92",
         "Scene there much reach."
        ],
        [
         "1",
         "2025-03-04 00:00:00",
         "15:24:28",
         "jennifermiller",
         "5001-COGS",
         "-25510.81",
         "Anything care today possible seek vote form."
        ],
        [
         "2",
         "2024-10-21 00:00:00",
         "21:49:39",
         "kmcbride",
         "4001-Revenue",
         "23647.12",
         "Politics remain factor reason boy."
        ],
        [
         "3",
         "2025-03-20 00:00:00",
         "09:57:20",
         "jose05",
         "3001-Equity",
         "-41306.12",
         "Time way body cultural game floor."
        ],
        [
         "4",
         "2024-12-06 00:00:00",
         "19:53:47",
         "elowe",
         "2001-AP",
         "-46821.73",
         "Reveal gas cut water most actually think great."
        ]
       ],
       "shape": {
        "columns": 6,
        "rows": 5
       }
      },
      "text/html": [
       "<div>\n",
       "<style scoped>\n",
       "    .dataframe tbody tr th:only-of-type {\n",
       "        vertical-align: middle;\n",
       "    }\n",
       "\n",
       "    .dataframe tbody tr th {\n",
       "        vertical-align: top;\n",
       "    }\n",
       "\n",
       "    .dataframe thead th {\n",
       "        text-align: right;\n",
       "    }\n",
       "</style>\n",
       "<table border=\"1\" class=\"dataframe\">\n",
       "  <thead>\n",
       "    <tr style=\"text-align: right;\">\n",
       "      <th></th>\n",
       "      <th>date</th>\n",
       "      <th>time</th>\n",
       "      <th>user</th>\n",
       "      <th>account</th>\n",
       "      <th>amount</th>\n",
       "      <th>description</th>\n",
       "    </tr>\n",
       "  </thead>\n",
       "  <tbody>\n",
       "    <tr>\n",
       "      <th>0</th>\n",
       "      <td>2025-02-01</td>\n",
       "      <td>03:35:16</td>\n",
       "      <td>guerreroashley</td>\n",
       "      <td>1001-Cash</td>\n",
       "      <td>-47498.92</td>\n",
       "      <td>Scene there much reach.</td>\n",
       "    </tr>\n",
       "    <tr>\n",
       "      <th>1</th>\n",
       "      <td>2025-03-04</td>\n",
       "      <td>15:24:28</td>\n",
       "      <td>jennifermiller</td>\n",
       "      <td>5001-COGS</td>\n",
       "      <td>-25510.81</td>\n",
       "      <td>Anything care today possible seek vote form.</td>\n",
       "    </tr>\n",
       "    <tr>\n",
       "      <th>2</th>\n",
       "      <td>2024-10-21</td>\n",
       "      <td>21:49:39</td>\n",
       "      <td>kmcbride</td>\n",
       "      <td>4001-Revenue</td>\n",
       "      <td>23647.12</td>\n",
       "      <td>Politics remain factor reason boy.</td>\n",
       "    </tr>\n",
       "    <tr>\n",
       "      <th>3</th>\n",
       "      <td>2025-03-20</td>\n",
       "      <td>09:57:20</td>\n",
       "      <td>jose05</td>\n",
       "      <td>3001-Equity</td>\n",
       "      <td>-41306.12</td>\n",
       "      <td>Time way body cultural game floor.</td>\n",
       "    </tr>\n",
       "    <tr>\n",
       "      <th>4</th>\n",
       "      <td>2024-12-06</td>\n",
       "      <td>19:53:47</td>\n",
       "      <td>elowe</td>\n",
       "      <td>2001-AP</td>\n",
       "      <td>-46821.73</td>\n",
       "      <td>Reveal gas cut water most actually think great.</td>\n",
       "    </tr>\n",
       "  </tbody>\n",
       "</table>\n",
       "</div>"
      ],
      "text/plain": [
       "        date      time            user       account    amount  \\\n",
       "0 2025-02-01  03:35:16  guerreroashley     1001-Cash -47498.92   \n",
       "1 2025-03-04  15:24:28  jennifermiller     5001-COGS -25510.81   \n",
       "2 2024-10-21  21:49:39        kmcbride  4001-Revenue  23647.12   \n",
       "3 2025-03-20  09:57:20          jose05   3001-Equity -41306.12   \n",
       "4 2024-12-06  19:53:47           elowe       2001-AP -46821.73   \n",
       "\n",
       "                                       description  \n",
       "0                          Scene there much reach.  \n",
       "1     Anything care today possible seek vote form.  \n",
       "2               Politics remain factor reason boy.  \n",
       "3               Time way body cultural game floor.  \n",
       "4  Reveal gas cut water most actually think great.  "
      ]
     },
     "execution_count": 7,
     "metadata": {},
     "output_type": "execute_result"
    }
   ],
   "source": [
    "gl_df.head()"
   ]
  },
  {
   "cell_type": "code",
   "execution_count": 8,
   "id": "80284638",
   "metadata": {},
   "outputs": [
    {
     "data": {
      "application/vnd.microsoft.datawrangler.viewer.v0+json": {
       "columns": [
        {
         "name": "index",
         "rawType": "int64",
         "type": "integer"
        },
        {
         "name": "vendor_id",
         "rawType": "object",
         "type": "string"
        },
        {
         "name": "vendor_name",
         "rawType": "object",
         "type": "string"
        }
       ],
       "conversionMethod": "pd.DataFrame",
       "ref": "71a5f828-7b32-4290-8461-02590719f15d",
       "rows": [
        [
         "0",
         "6d26ff75-100e-482a-847d-4f861a697158",
         "Calderon, Andersen and Orozco"
        ],
        [
         "1",
         "3c6388fc-f50c-4196-ad78-58fe867c0919",
         "Simpson, Wilcox and Johnson"
        ],
        [
         "2",
         "ad675cd9-8696-4a5d-a1b8-2afa5499e9cc",
         "Wade, Silva and Young"
        ],
        [
         "3",
         "cbf1d728-0039-49d9-80df-473849773197",
         "Burns Inc"
        ],
        [
         "4",
         "d666f295-d7d6-427d-bf63-aae378afc7f5",
         "Wells, Mills and Guzman"
        ]
       ],
       "shape": {
        "columns": 2,
        "rows": 5
       }
      },
      "text/html": [
       "<div>\n",
       "<style scoped>\n",
       "    .dataframe tbody tr th:only-of-type {\n",
       "        vertical-align: middle;\n",
       "    }\n",
       "\n",
       "    .dataframe tbody tr th {\n",
       "        vertical-align: top;\n",
       "    }\n",
       "\n",
       "    .dataframe thead th {\n",
       "        text-align: right;\n",
       "    }\n",
       "</style>\n",
       "<table border=\"1\" class=\"dataframe\">\n",
       "  <thead>\n",
       "    <tr style=\"text-align: right;\">\n",
       "      <th></th>\n",
       "      <th>vendor_id</th>\n",
       "      <th>vendor_name</th>\n",
       "    </tr>\n",
       "  </thead>\n",
       "  <tbody>\n",
       "    <tr>\n",
       "      <th>0</th>\n",
       "      <td>6d26ff75-100e-482a-847d-4f861a697158</td>\n",
       "      <td>Calderon, Andersen and Orozco</td>\n",
       "    </tr>\n",
       "    <tr>\n",
       "      <th>1</th>\n",
       "      <td>3c6388fc-f50c-4196-ad78-58fe867c0919</td>\n",
       "      <td>Simpson, Wilcox and Johnson</td>\n",
       "    </tr>\n",
       "    <tr>\n",
       "      <th>2</th>\n",
       "      <td>ad675cd9-8696-4a5d-a1b8-2afa5499e9cc</td>\n",
       "      <td>Wade, Silva and Young</td>\n",
       "    </tr>\n",
       "    <tr>\n",
       "      <th>3</th>\n",
       "      <td>cbf1d728-0039-49d9-80df-473849773197</td>\n",
       "      <td>Burns Inc</td>\n",
       "    </tr>\n",
       "    <tr>\n",
       "      <th>4</th>\n",
       "      <td>d666f295-d7d6-427d-bf63-aae378afc7f5</td>\n",
       "      <td>Wells, Mills and Guzman</td>\n",
       "    </tr>\n",
       "  </tbody>\n",
       "</table>\n",
       "</div>"
      ],
      "text/plain": [
       "                              vendor_id                    vendor_name\n",
       "0  6d26ff75-100e-482a-847d-4f861a697158  Calderon, Andersen and Orozco\n",
       "1  3c6388fc-f50c-4196-ad78-58fe867c0919    Simpson, Wilcox and Johnson\n",
       "2  ad675cd9-8696-4a5d-a1b8-2afa5499e9cc          Wade, Silva and Young\n",
       "3  cbf1d728-0039-49d9-80df-473849773197                      Burns Inc\n",
       "4  d666f295-d7d6-427d-bf63-aae378afc7f5        Wells, Mills and Guzman"
      ]
     },
     "execution_count": 8,
     "metadata": {},
     "output_type": "execute_result"
    }
   ],
   "source": [
    "vendors_df.head()"
   ]
  },
  {
   "cell_type": "code",
   "execution_count": 9,
   "id": "170f01ba",
   "metadata": {},
   "outputs": [
    {
     "data": {
      "application/vnd.microsoft.datawrangler.viewer.v0+json": {
       "columns": [
        {
         "name": "index",
         "rawType": "int64",
         "type": "integer"
        },
        {
         "name": "vendor_id",
         "rawType": "object",
         "type": "string"
        },
        {
         "name": "vendor_name",
         "rawType": "object",
         "type": "string"
        },
        {
         "name": "payment_date",
         "rawType": "datetime64[ns]",
         "type": "datetime"
        },
        {
         "name": "amount",
         "rawType": "float64",
         "type": "float"
        },
        {
         "name": "invoice_no",
         "rawType": "object",
         "type": "string"
        }
       ],
       "conversionMethod": "pd.DataFrame",
       "ref": "ec950a21-4380-4fc8-a66e-2eadb2c05a90",
       "rows": [
        [
         "0",
         "f953a74c-d90f-4baf-a4b9-f7b6fba0e5fa",
         "Best, White and Moss",
         "2025-01-02 00:00:00",
         "4191.68",
         "INV-2099"
        ],
        [
         "1",
         "483ae855-84c2-400b-ae8a-28825777dbf5",
         "Peterson-Harris",
         "2024-11-15 00:00:00",
         "7201.84",
         "INV-0697"
        ],
        [
         "2",
         "261a092d-8440-4317-95a8-c1d8a2322300",
         "Gray, Fernandez and Golden",
         "2025-02-02 00:00:00",
         "1095.39",
         "INV-3292"
        ],
        [
         "3",
         "196745c8-ba6c-4e1b-9b6a-bfb44f67175d",
         "Leach, Stephens and Jackson",
         "2024-11-29 00:00:00",
         "7730.58",
         "INV-7464"
        ],
        [
         "4",
         "d35622d2-003b-456a-b12f-813f8aa1edf8",
         "Moran Inc",
         "2025-04-05 00:00:00",
         "151.3",
         "INV-7704"
        ]
       ],
       "shape": {
        "columns": 5,
        "rows": 5
       }
      },
      "text/html": [
       "<div>\n",
       "<style scoped>\n",
       "    .dataframe tbody tr th:only-of-type {\n",
       "        vertical-align: middle;\n",
       "    }\n",
       "\n",
       "    .dataframe tbody tr th {\n",
       "        vertical-align: top;\n",
       "    }\n",
       "\n",
       "    .dataframe thead th {\n",
       "        text-align: right;\n",
       "    }\n",
       "</style>\n",
       "<table border=\"1\" class=\"dataframe\">\n",
       "  <thead>\n",
       "    <tr style=\"text-align: right;\">\n",
       "      <th></th>\n",
       "      <th>vendor_id</th>\n",
       "      <th>vendor_name</th>\n",
       "      <th>payment_date</th>\n",
       "      <th>amount</th>\n",
       "      <th>invoice_no</th>\n",
       "    </tr>\n",
       "  </thead>\n",
       "  <tbody>\n",
       "    <tr>\n",
       "      <th>0</th>\n",
       "      <td>f953a74c-d90f-4baf-a4b9-f7b6fba0e5fa</td>\n",
       "      <td>Best, White and Moss</td>\n",
       "      <td>2025-01-02</td>\n",
       "      <td>4191.68</td>\n",
       "      <td>INV-2099</td>\n",
       "    </tr>\n",
       "    <tr>\n",
       "      <th>1</th>\n",
       "      <td>483ae855-84c2-400b-ae8a-28825777dbf5</td>\n",
       "      <td>Peterson-Harris</td>\n",
       "      <td>2024-11-15</td>\n",
       "      <td>7201.84</td>\n",
       "      <td>INV-0697</td>\n",
       "    </tr>\n",
       "    <tr>\n",
       "      <th>2</th>\n",
       "      <td>261a092d-8440-4317-95a8-c1d8a2322300</td>\n",
       "      <td>Gray, Fernandez and Golden</td>\n",
       "      <td>2025-02-02</td>\n",
       "      <td>1095.39</td>\n",
       "      <td>INV-3292</td>\n",
       "    </tr>\n",
       "    <tr>\n",
       "      <th>3</th>\n",
       "      <td>196745c8-ba6c-4e1b-9b6a-bfb44f67175d</td>\n",
       "      <td>Leach, Stephens and Jackson</td>\n",
       "      <td>2024-11-29</td>\n",
       "      <td>7730.58</td>\n",
       "      <td>INV-7464</td>\n",
       "    </tr>\n",
       "    <tr>\n",
       "      <th>4</th>\n",
       "      <td>d35622d2-003b-456a-b12f-813f8aa1edf8</td>\n",
       "      <td>Moran Inc</td>\n",
       "      <td>2025-04-05</td>\n",
       "      <td>151.30</td>\n",
       "      <td>INV-7704</td>\n",
       "    </tr>\n",
       "  </tbody>\n",
       "</table>\n",
       "</div>"
      ],
      "text/plain": [
       "                              vendor_id                  vendor_name  \\\n",
       "0  f953a74c-d90f-4baf-a4b9-f7b6fba0e5fa         Best, White and Moss   \n",
       "1  483ae855-84c2-400b-ae8a-28825777dbf5              Peterson-Harris   \n",
       "2  261a092d-8440-4317-95a8-c1d8a2322300   Gray, Fernandez and Golden   \n",
       "3  196745c8-ba6c-4e1b-9b6a-bfb44f67175d  Leach, Stephens and Jackson   \n",
       "4  d35622d2-003b-456a-b12f-813f8aa1edf8                    Moran Inc   \n",
       "\n",
       "  payment_date   amount invoice_no  \n",
       "0   2025-01-02  4191.68   INV-2099  \n",
       "1   2024-11-15  7201.84   INV-0697  \n",
       "2   2025-02-02  1095.39   INV-3292  \n",
       "3   2024-11-29  7730.58   INV-7464  \n",
       "4   2025-04-05   151.30   INV-7704  "
      ]
     },
     "execution_count": 9,
     "metadata": {},
     "output_type": "execute_result"
    }
   ],
   "source": [
    "payments_df.head()"
   ]
  },
  {
   "cell_type": "code",
   "execution_count": 10,
   "id": "cae19f19",
   "metadata": {},
   "outputs": [
    {
     "data": {
      "application/vnd.microsoft.datawrangler.viewer.v0+json": {
       "columns": [
        {
         "name": "index",
         "rawType": "int64",
         "type": "integer"
        },
        {
         "name": "employee_id",
         "rawType": "int64",
         "type": "integer"
        },
        {
         "name": "employee_name",
         "rawType": "object",
         "type": "string"
        },
        {
         "name": "date",
         "rawType": "datetime64[ns]",
         "type": "datetime"
        },
        {
         "name": "category",
         "rawType": "object",
         "type": "string"
        },
        {
         "name": "amount",
         "rawType": "float64",
         "type": "float"
        },
        {
         "name": "description",
         "rawType": "object",
         "type": "string"
        }
       ],
       "conversionMethod": "pd.DataFrame",
       "ref": "11a2a418-2c62-4eeb-a083-73ca80ecc42c",
       "rows": [
        [
         "0",
         "9994",
         "Regina Morgan",
         "2024-11-26 00:00:00",
         "Entertainment",
         "1580.26",
         "Usually structure major success pretty."
        ],
        [
         "1",
         "1635",
         "Casey Jones",
         "2025-03-07 00:00:00",
         "Travel",
         "903.64",
         "Inside painting receive not possible."
        ],
        [
         "2",
         "5151",
         "Vanessa Kelly",
         "2024-12-05 00:00:00",
         "Entertainment",
         "1168.67",
         "What start focus her boy."
        ],
        [
         "3",
         "1778",
         "Mark Sanchez",
         "2025-01-16 00:00:00",
         "Entertainment",
         "1091.85",
         "Short include collection."
        ],
        [
         "4",
         "2900",
         "Margaret Bush",
         "2024-11-12 00:00:00",
         "Supplies",
         "1406.25",
         "Truth win serious stand think."
        ]
       ],
       "shape": {
        "columns": 6,
        "rows": 5
       }
      },
      "text/html": [
       "<div>\n",
       "<style scoped>\n",
       "    .dataframe tbody tr th:only-of-type {\n",
       "        vertical-align: middle;\n",
       "    }\n",
       "\n",
       "    .dataframe tbody tr th {\n",
       "        vertical-align: top;\n",
       "    }\n",
       "\n",
       "    .dataframe thead th {\n",
       "        text-align: right;\n",
       "    }\n",
       "</style>\n",
       "<table border=\"1\" class=\"dataframe\">\n",
       "  <thead>\n",
       "    <tr style=\"text-align: right;\">\n",
       "      <th></th>\n",
       "      <th>employee_id</th>\n",
       "      <th>employee_name</th>\n",
       "      <th>date</th>\n",
       "      <th>category</th>\n",
       "      <th>amount</th>\n",
       "      <th>description</th>\n",
       "    </tr>\n",
       "  </thead>\n",
       "  <tbody>\n",
       "    <tr>\n",
       "      <th>0</th>\n",
       "      <td>9994</td>\n",
       "      <td>Regina Morgan</td>\n",
       "      <td>2024-11-26</td>\n",
       "      <td>Entertainment</td>\n",
       "      <td>1580.26</td>\n",
       "      <td>Usually structure major success pretty.</td>\n",
       "    </tr>\n",
       "    <tr>\n",
       "      <th>1</th>\n",
       "      <td>1635</td>\n",
       "      <td>Casey Jones</td>\n",
       "      <td>2025-03-07</td>\n",
       "      <td>Travel</td>\n",
       "      <td>903.64</td>\n",
       "      <td>Inside painting receive not possible.</td>\n",
       "    </tr>\n",
       "    <tr>\n",
       "      <th>2</th>\n",
       "      <td>5151</td>\n",
       "      <td>Vanessa Kelly</td>\n",
       "      <td>2024-12-05</td>\n",
       "      <td>Entertainment</td>\n",
       "      <td>1168.67</td>\n",
       "      <td>What start focus her boy.</td>\n",
       "    </tr>\n",
       "    <tr>\n",
       "      <th>3</th>\n",
       "      <td>1778</td>\n",
       "      <td>Mark Sanchez</td>\n",
       "      <td>2025-01-16</td>\n",
       "      <td>Entertainment</td>\n",
       "      <td>1091.85</td>\n",
       "      <td>Short include collection.</td>\n",
       "    </tr>\n",
       "    <tr>\n",
       "      <th>4</th>\n",
       "      <td>2900</td>\n",
       "      <td>Margaret Bush</td>\n",
       "      <td>2024-11-12</td>\n",
       "      <td>Supplies</td>\n",
       "      <td>1406.25</td>\n",
       "      <td>Truth win serious stand think.</td>\n",
       "    </tr>\n",
       "  </tbody>\n",
       "</table>\n",
       "</div>"
      ],
      "text/plain": [
       "   employee_id  employee_name       date       category   amount  \\\n",
       "0         9994  Regina Morgan 2024-11-26  Entertainment  1580.26   \n",
       "1         1635    Casey Jones 2025-03-07         Travel   903.64   \n",
       "2         5151  Vanessa Kelly 2024-12-05  Entertainment  1168.67   \n",
       "3         1778   Mark Sanchez 2025-01-16  Entertainment  1091.85   \n",
       "4         2900  Margaret Bush 2024-11-12       Supplies  1406.25   \n",
       "\n",
       "                               description  \n",
       "0  Usually structure major success pretty.  \n",
       "1    Inside painting receive not possible.  \n",
       "2                What start focus her boy.  \n",
       "3                Short include collection.  \n",
       "4           Truth win serious stand think.  "
      ]
     },
     "execution_count": 10,
     "metadata": {},
     "output_type": "execute_result"
    }
   ],
   "source": [
    "expenses_df.head()"
   ]
  },
  {
   "cell_type": "markdown",
   "id": "12de2772",
   "metadata": {},
   "source": [
    "## General Ledger Audits"
   ]
  },
  {
   "cell_type": "markdown",
   "id": "2bab8956",
   "metadata": {},
   "source": [
    "### Duplicate Journal Entries"
   ]
  },
  {
   "cell_type": "code",
   "execution_count": 13,
   "id": "7ab889f3",
   "metadata": {},
   "outputs": [
    {
     "data": {
      "text/plain": [
       "'Found 0 duplicate journal entries'"
      ]
     },
     "execution_count": 13,
     "metadata": {},
     "output_type": "execute_result"
    }
   ],
   "source": [
    "duplicate_gl = gl_df[gl_df.duplicated(subset=['date', 'time', 'user', 'account', 'amount', 'description'], keep=False)]\n",
    "\n",
    "f\"Found {len(duplicate_gl)} duplicate journal entries\"\n",
    "# duplicate_gl.sort_values(by=[\"date\", \"time\"]).head() # use this if there are > 0 entries to view them"
   ]
  },
  {
   "cell_type": "markdown",
   "id": "3fb55365",
   "metadata": {},
   "source": [
    "### Weekend/Holidays Postings"
   ]
  },
  {
   "cell_type": "code",
   "execution_count": 14,
   "id": "cf73e119",
   "metadata": {},
   "outputs": [
    {
     "data": {
      "application/vnd.microsoft.datawrangler.viewer.v0+json": {
       "columns": [
        {
         "name": "index",
         "rawType": "int64",
         "type": "integer"
        },
        {
         "name": "date",
         "rawType": "datetime64[ns]",
         "type": "datetime"
        },
        {
         "name": "time",
         "rawType": "object",
         "type": "string"
        },
        {
         "name": "user",
         "rawType": "object",
         "type": "string"
        },
        {
         "name": "account",
         "rawType": "object",
         "type": "string"
        },
        {
         "name": "amount",
         "rawType": "float64",
         "type": "float"
        },
        {
         "name": "description",
         "rawType": "object",
         "type": "string"
        },
        {
         "name": "weekday",
         "rawType": "int32",
         "type": "integer"
        }
       ],
       "conversionMethod": "pd.DataFrame",
       "ref": "e8397304-9975-460e-a5f9-20e7230fb3a9",
       "rows": [
        [
         "0",
         "2025-02-01 00:00:00",
         "03:35:16",
         "guerreroashley",
         "1001-Cash",
         "-47498.92",
         "Scene there much reach.",
         "5"
        ],
        [
         "1",
         "2025-03-04 00:00:00",
         "15:24:28",
         "jennifermiller",
         "5001-COGS",
         "-25510.81",
         "Anything care today possible seek vote form.",
         "1"
        ],
        [
         "2",
         "2024-10-21 00:00:00",
         "21:49:39",
         "kmcbride",
         "4001-Revenue",
         "23647.12",
         "Politics remain factor reason boy.",
         "0"
        ],
        [
         "3",
         "2025-03-20 00:00:00",
         "09:57:20",
         "jose05",
         "3001-Equity",
         "-41306.12",
         "Time way body cultural game floor.",
         "3"
        ],
        [
         "4",
         "2024-12-06 00:00:00",
         "19:53:47",
         "elowe",
         "2001-AP",
         "-46821.73",
         "Reveal gas cut water most actually think great.",
         "4"
        ],
        [
         "5",
         "2025-03-06 00:00:00",
         "20:55:10",
         "brian47",
         "1001-Cash",
         "-28136.2",
         "Though student not more arm catch blue one.",
         "3"
        ],
        [
         "6",
         "2025-02-13 00:00:00",
         "19:43:59",
         "katrina33",
         "3001-Equity",
         "10201.87",
         "Thank discussion factor store method allow contain choice.",
         "3"
        ],
        [
         "7",
         "2024-11-08 00:00:00",
         "10:02:43",
         "nathan26",
         "3001-Equity",
         "-30116.23",
         "Recognize real mention seven loss road follow civil.",
         "4"
        ],
        [
         "8",
         "2024-12-01 00:00:00",
         "18:37:32",
         "tlee",
         "3001-Equity",
         "-8048.02",
         "Born check imagine remember audience.",
         "6"
        ],
        [
         "9",
         "2025-01-01 00:00:00",
         "10:33:56",
         "angel77",
         "2001-AP",
         "8926.57",
         "Attention herself early eight direction surface.",
         "2"
        ],
        [
         "10",
         "2024-10-24 00:00:00",
         "17:00:39",
         "lcunningham",
         "1001-Cash",
         "25880.74",
         "Try southern nice.",
         "3"
        ],
        [
         "11",
         "2024-12-19 00:00:00",
         "01:56:53",
         "virginiaweiss",
         "4001-Revenue",
         "19813.94",
         "Reality including figure guy suddenly while.",
         "3"
        ],
        [
         "12",
         "2025-01-01 00:00:00",
         "18:54:21",
         "pperez",
         "5001-COGS",
         "-22212.87",
         "President surface tax hit beautiful former.",
         "2"
        ],
        [
         "13",
         "2024-12-27 00:00:00",
         "16:08:04",
         "armstrongalexandra",
         "4001-Revenue",
         "45721.31",
         "Put talk better bag.",
         "4"
        ],
        [
         "14",
         "2025-01-29 00:00:00",
         "22:38:06",
         "kim90",
         "5001-COGS",
         "-39778.97",
         "Care marriage open seem eat move perform try.",
         "2"
        ],
        [
         "15",
         "2025-02-25 00:00:00",
         "07:08:05",
         "michelle52",
         "2001-AP",
         "-40328.36",
         "When future name senior.",
         "1"
        ],
        [
         "16",
         "2025-03-06 00:00:00",
         "10:34:44",
         "pwells",
         "5001-COGS",
         "10372.6",
         "Health crime because care they stay though.",
         "3"
        ],
        [
         "17",
         "2024-12-02 00:00:00",
         "14:28:54",
         "gary79",
         "1001-Cash",
         "22973.18",
         "Interesting per capital point style imagine science.",
         "0"
        ],
        [
         "18",
         "2024-10-18 00:00:00",
         "17:02:28",
         "jordanjohn",
         "3001-Equity",
         "-37517.38",
         "Collection itself use send leader describe.",
         "4"
        ],
        [
         "19",
         "2025-02-03 00:00:00",
         "21:44:29",
         "gbaker",
         "2001-AP",
         "-42119.98",
         "Within place western general.",
         "0"
        ],
        [
         "20",
         "2025-03-02 00:00:00",
         "23:21:48",
         "laurathompson",
         "5001-COGS",
         "32940.47",
         "Likely behind alone talk exist.",
         "6"
        ],
        [
         "21",
         "2025-02-02 00:00:00",
         "06:45:06",
         "simonrussell",
         "3001-Equity",
         "38545.17",
         "Ahead some religious ok add purpose.",
         "6"
        ],
        [
         "22",
         "2025-01-02 00:00:00",
         "15:59:37",
         "ortegalinda",
         "5001-COGS",
         "7735.21",
         "Truth any lay forward thought southern type.",
         "3"
        ],
        [
         "23",
         "2024-12-07 00:00:00",
         "22:35:15",
         "harperjames",
         "1001-Cash",
         "-45417.56",
         "Thing per radio open truth strong business nothing.",
         "5"
        ],
        [
         "24",
         "2024-11-22 00:00:00",
         "18:13:49",
         "lkramer",
         "4001-Revenue",
         "27306.83",
         "Can say action blue.",
         "4"
        ],
        [
         "25",
         "2024-11-12 00:00:00",
         "19:07:14",
         "tannermoore",
         "1001-Cash",
         "35531.77",
         "Open ground feel international.",
         "1"
        ],
        [
         "26",
         "2024-10-07 00:00:00",
         "02:56:40",
         "hbeard",
         "1001-Cash",
         "-11987.38",
         "Ready our hour decade garden avoid could place.",
         "0"
        ],
        [
         "27",
         "2024-10-08 00:00:00",
         "03:44:41",
         "clawson",
         "2001-AP",
         "13568.44",
         "Say service nor try stop theory.",
         "1"
        ],
        [
         "28",
         "2024-11-29 00:00:00",
         "01:56:52",
         "murphylaura",
         "5001-COGS",
         "-33734.59",
         "Drug part often kitchen reach ahead.",
         "4"
        ],
        [
         "29",
         "2025-03-17 00:00:00",
         "10:57:00",
         "ukelly",
         "5001-COGS",
         "-29049.3",
         "The fall interesting education black thought.",
         "0"
        ],
        [
         "30",
         "2024-11-01 00:00:00",
         "19:45:24",
         "kevinelliott",
         "5001-COGS",
         "20182.03",
         "Near voice enough moment senior.",
         "4"
        ],
        [
         "31",
         "2025-02-01 00:00:00",
         "21:36:35",
         "fgriffin",
         "1001-Cash",
         "10913.1",
         "Finish red idea green.",
         "5"
        ],
        [
         "32",
         "2024-12-05 00:00:00",
         "20:48:56",
         "mwood",
         "4001-Revenue",
         "3413.99",
         "Already think example east economy everybody quality protect.",
         "3"
        ],
        [
         "33",
         "2024-11-02 00:00:00",
         "23:43:33",
         "daviddavis",
         "4001-Revenue",
         "-33659.75",
         "Today pressure poor think cell.",
         "5"
        ],
        [
         "34",
         "2024-11-08 00:00:00",
         "07:38:26",
         "kmora",
         "2001-AP",
         "-23005.22",
         "Girl ask treatment another.",
         "4"
        ],
        [
         "35",
         "2024-12-25 00:00:00",
         "22:22:10",
         "rodriguezcarlos",
         "3001-Equity",
         "-28038.48",
         "Way marriage according adult usually that among security.",
         "2"
        ],
        [
         "36",
         "2024-12-20 00:00:00",
         "08:11:24",
         "austin23",
         "5001-COGS",
         "34285.19",
         "Option total various Mr street.",
         "4"
        ],
        [
         "37",
         "2024-12-18 00:00:00",
         "04:04:19",
         "ronald18",
         "1001-Cash",
         "-27095.19",
         "Easy company fish there particular.",
         "2"
        ],
        [
         "38",
         "2025-02-14 00:00:00",
         "06:27:00",
         "tracy60",
         "1001-Cash",
         "30504.58",
         "Visit important place travel message billion.",
         "4"
        ],
        [
         "39",
         "2024-12-17 00:00:00",
         "05:55:14",
         "johncole",
         "2001-AP",
         "-23225.91",
         "Recent guess piece up one catch.",
         "1"
        ],
        [
         "40",
         "2024-12-19 00:00:00",
         "04:12:10",
         "jaime29",
         "4001-Revenue",
         "41313.61",
         "Garden because put local wind young skin analysis.",
         "3"
        ],
        [
         "41",
         "2025-01-31 00:00:00",
         "04:42:23",
         "dale78",
         "3001-Equity",
         "37636.76",
         "Reason central certain rest cold price story north.",
         "4"
        ],
        [
         "42",
         "2024-11-05 00:00:00",
         "15:55:04",
         "asilva",
         "5001-COGS",
         "-28737.35",
         "Cell finish foot job wide give piece.",
         "1"
        ],
        [
         "43",
         "2025-03-29 00:00:00",
         "21:47:03",
         "lmcdonald",
         "2001-AP",
         "-10436.81",
         "Walk miss relationship.",
         "5"
        ],
        [
         "44",
         "2025-01-14 00:00:00",
         "14:06:44",
         "christineayers",
         "2001-AP",
         "-35712.84",
         "Doctor card your about relationship social.",
         "1"
        ],
        [
         "45",
         "2025-04-03 00:00:00",
         "16:33:03",
         "erinvargas",
         "4001-Revenue",
         "-25337.25",
         "Method early history.",
         "3"
        ],
        [
         "46",
         "2024-12-24 00:00:00",
         "12:04:52",
         "roberthumphrey",
         "3001-Equity",
         "3897.73",
         "Far key magazine.",
         "1"
        ],
        [
         "47",
         "2024-11-23 00:00:00",
         "01:34:40",
         "fmckenzie",
         "3001-Equity",
         "-7156.62",
         "Agree pull none will quality hear.",
         "5"
        ],
        [
         "48",
         "2025-01-21 00:00:00",
         "20:53:00",
         "lisa53",
         "3001-Equity",
         "-10059.95",
         "Statement price provide catch difficult attorney.",
         "1"
        ],
        [
         "49",
         "2025-03-04 00:00:00",
         "00:57:45",
         "stephenbeltran",
         "4001-Revenue",
         "49732.58",
         "Before system gas who word trip.",
         "1"
        ]
       ],
       "shape": {
        "columns": 7,
        "rows": 1000
       }
      },
      "text/html": [
       "<div>\n",
       "<style scoped>\n",
       "    .dataframe tbody tr th:only-of-type {\n",
       "        vertical-align: middle;\n",
       "    }\n",
       "\n",
       "    .dataframe tbody tr th {\n",
       "        vertical-align: top;\n",
       "    }\n",
       "\n",
       "    .dataframe thead th {\n",
       "        text-align: right;\n",
       "    }\n",
       "</style>\n",
       "<table border=\"1\" class=\"dataframe\">\n",
       "  <thead>\n",
       "    <tr style=\"text-align: right;\">\n",
       "      <th></th>\n",
       "      <th>date</th>\n",
       "      <th>time</th>\n",
       "      <th>user</th>\n",
       "      <th>account</th>\n",
       "      <th>amount</th>\n",
       "      <th>description</th>\n",
       "      <th>weekday</th>\n",
       "    </tr>\n",
       "  </thead>\n",
       "  <tbody>\n",
       "    <tr>\n",
       "      <th>0</th>\n",
       "      <td>2025-02-01</td>\n",
       "      <td>03:35:16</td>\n",
       "      <td>guerreroashley</td>\n",
       "      <td>1001-Cash</td>\n",
       "      <td>-47498.92</td>\n",
       "      <td>Scene there much reach.</td>\n",
       "      <td>5</td>\n",
       "    </tr>\n",
       "    <tr>\n",
       "      <th>1</th>\n",
       "      <td>2025-03-04</td>\n",
       "      <td>15:24:28</td>\n",
       "      <td>jennifermiller</td>\n",
       "      <td>5001-COGS</td>\n",
       "      <td>-25510.81</td>\n",
       "      <td>Anything care today possible seek vote form.</td>\n",
       "      <td>1</td>\n",
       "    </tr>\n",
       "    <tr>\n",
       "      <th>2</th>\n",
       "      <td>2024-10-21</td>\n",
       "      <td>21:49:39</td>\n",
       "      <td>kmcbride</td>\n",
       "      <td>4001-Revenue</td>\n",
       "      <td>23647.12</td>\n",
       "      <td>Politics remain factor reason boy.</td>\n",
       "      <td>0</td>\n",
       "    </tr>\n",
       "    <tr>\n",
       "      <th>3</th>\n",
       "      <td>2025-03-20</td>\n",
       "      <td>09:57:20</td>\n",
       "      <td>jose05</td>\n",
       "      <td>3001-Equity</td>\n",
       "      <td>-41306.12</td>\n",
       "      <td>Time way body cultural game floor.</td>\n",
       "      <td>3</td>\n",
       "    </tr>\n",
       "    <tr>\n",
       "      <th>4</th>\n",
       "      <td>2024-12-06</td>\n",
       "      <td>19:53:47</td>\n",
       "      <td>elowe</td>\n",
       "      <td>2001-AP</td>\n",
       "      <td>-46821.73</td>\n",
       "      <td>Reveal gas cut water most actually think great.</td>\n",
       "      <td>4</td>\n",
       "    </tr>\n",
       "    <tr>\n",
       "      <th>...</th>\n",
       "      <td>...</td>\n",
       "      <td>...</td>\n",
       "      <td>...</td>\n",
       "      <td>...</td>\n",
       "      <td>...</td>\n",
       "      <td>...</td>\n",
       "      <td>...</td>\n",
       "    </tr>\n",
       "    <tr>\n",
       "      <th>995</th>\n",
       "      <td>2024-12-20</td>\n",
       "      <td>08:10:40</td>\n",
       "      <td>johnsonsarah</td>\n",
       "      <td>4001-Revenue</td>\n",
       "      <td>-39077.34</td>\n",
       "      <td>Those tax until.</td>\n",
       "      <td>4</td>\n",
       "    </tr>\n",
       "    <tr>\n",
       "      <th>996</th>\n",
       "      <td>2024-11-05</td>\n",
       "      <td>09:17:50</td>\n",
       "      <td>ricky47</td>\n",
       "      <td>3001-Equity</td>\n",
       "      <td>-26071.79</td>\n",
       "      <td>All gas big those.</td>\n",
       "      <td>1</td>\n",
       "    </tr>\n",
       "    <tr>\n",
       "      <th>997</th>\n",
       "      <td>2025-02-10</td>\n",
       "      <td>11:12:18</td>\n",
       "      <td>susanallen</td>\n",
       "      <td>1001-Cash</td>\n",
       "      <td>16983.40</td>\n",
       "      <td>Live structure natural occur material by mouth...</td>\n",
       "      <td>0</td>\n",
       "    </tr>\n",
       "    <tr>\n",
       "      <th>998</th>\n",
       "      <td>2025-03-19</td>\n",
       "      <td>03:42:28</td>\n",
       "      <td>fmaynard</td>\n",
       "      <td>3001-Equity</td>\n",
       "      <td>-27432.84</td>\n",
       "      <td>Society film recently arm travel and month.</td>\n",
       "      <td>2</td>\n",
       "    </tr>\n",
       "    <tr>\n",
       "      <th>999</th>\n",
       "      <td>2025-02-06</td>\n",
       "      <td>00:53:49</td>\n",
       "      <td>joshua57</td>\n",
       "      <td>4001-Revenue</td>\n",
       "      <td>-44750.89</td>\n",
       "      <td>Form fight top candidate difficult.</td>\n",
       "      <td>3</td>\n",
       "    </tr>\n",
       "  </tbody>\n",
       "</table>\n",
       "<p>1000 rows × 7 columns</p>\n",
       "</div>"
      ],
      "text/plain": [
       "          date      time            user       account    amount  \\\n",
       "0   2025-02-01  03:35:16  guerreroashley     1001-Cash -47498.92   \n",
       "1   2025-03-04  15:24:28  jennifermiller     5001-COGS -25510.81   \n",
       "2   2024-10-21  21:49:39        kmcbride  4001-Revenue  23647.12   \n",
       "3   2025-03-20  09:57:20          jose05   3001-Equity -41306.12   \n",
       "4   2024-12-06  19:53:47           elowe       2001-AP -46821.73   \n",
       "..         ...       ...             ...           ...       ...   \n",
       "995 2024-12-20  08:10:40    johnsonsarah  4001-Revenue -39077.34   \n",
       "996 2024-11-05  09:17:50         ricky47   3001-Equity -26071.79   \n",
       "997 2025-02-10  11:12:18      susanallen     1001-Cash  16983.40   \n",
       "998 2025-03-19  03:42:28        fmaynard   3001-Equity -27432.84   \n",
       "999 2025-02-06  00:53:49        joshua57  4001-Revenue -44750.89   \n",
       "\n",
       "                                           description  weekday  \n",
       "0                              Scene there much reach.        5  \n",
       "1         Anything care today possible seek vote form.        1  \n",
       "2                   Politics remain factor reason boy.        0  \n",
       "3                   Time way body cultural game floor.        3  \n",
       "4      Reveal gas cut water most actually think great.        4  \n",
       "..                                                 ...      ...  \n",
       "995                                   Those tax until.        4  \n",
       "996                                 All gas big those.        1  \n",
       "997  Live structure natural occur material by mouth...        0  \n",
       "998        Society film recently arm travel and month.        2  \n",
       "999                Form fight top candidate difficult.        3  \n",
       "\n",
       "[1000 rows x 7 columns]"
      ]
     },
     "execution_count": 14,
     "metadata": {},
     "output_type": "execute_result"
    }
   ],
   "source": [
    "# Extracting Weekdays (0= Monday)\n",
    "gl_df['weekday'] = gl_df['date'].dt.weekday\n",
    "\n",
    "gl_df"
   ]
  },
  {
   "cell_type": "code",
   "execution_count": 15,
   "id": "c0cb8312",
   "metadata": {},
   "outputs": [
    {
     "data": {
      "text/plain": [
       "'290 entries were posted on weekends'"
      ]
     },
     "execution_count": 15,
     "metadata": {},
     "output_type": "execute_result"
    }
   ],
   "source": [
    "weekend_postings = gl_df[gl_df['weekday'] >= 5]\n",
    "\n",
    "f\"{len(weekend_postings)} entries were posted on weekends\""
   ]
  },
  {
   "cell_type": "code",
   "execution_count": 16,
   "id": "b829e190",
   "metadata": {},
   "outputs": [
    {
     "data": {
      "application/vnd.microsoft.datawrangler.viewer.v0+json": {
       "columns": [
        {
         "name": "index",
         "rawType": "int64",
         "type": "integer"
        },
        {
         "name": "date",
         "rawType": "datetime64[ns]",
         "type": "datetime"
        },
        {
         "name": "time",
         "rawType": "object",
         "type": "string"
        },
        {
         "name": "user",
         "rawType": "object",
         "type": "string"
        },
        {
         "name": "account",
         "rawType": "object",
         "type": "string"
        },
        {
         "name": "amount",
         "rawType": "float64",
         "type": "float"
        }
       ],
       "conversionMethod": "pd.DataFrame",
       "ref": "eccdb7c8-5844-4d7c-b65d-dab0319a9785",
       "rows": [
        [
         "0",
         "2025-02-01 00:00:00",
         "03:35:16",
         "guerreroashley",
         "1001-Cash",
         "-47498.92"
        ],
        [
         "8",
         "2024-12-01 00:00:00",
         "18:37:32",
         "tlee",
         "3001-Equity",
         "-8048.02"
        ],
        [
         "20",
         "2025-03-02 00:00:00",
         "23:21:48",
         "laurathompson",
         "5001-COGS",
         "32940.47"
        ],
        [
         "21",
         "2025-02-02 00:00:00",
         "06:45:06",
         "simonrussell",
         "3001-Equity",
         "38545.17"
        ],
        [
         "23",
         "2024-12-07 00:00:00",
         "22:35:15",
         "harperjames",
         "1001-Cash",
         "-45417.56"
        ]
       ],
       "shape": {
        "columns": 5,
        "rows": 5
       }
      },
      "text/html": [
       "<div>\n",
       "<style scoped>\n",
       "    .dataframe tbody tr th:only-of-type {\n",
       "        vertical-align: middle;\n",
       "    }\n",
       "\n",
       "    .dataframe tbody tr th {\n",
       "        vertical-align: top;\n",
       "    }\n",
       "\n",
       "    .dataframe thead th {\n",
       "        text-align: right;\n",
       "    }\n",
       "</style>\n",
       "<table border=\"1\" class=\"dataframe\">\n",
       "  <thead>\n",
       "    <tr style=\"text-align: right;\">\n",
       "      <th></th>\n",
       "      <th>date</th>\n",
       "      <th>time</th>\n",
       "      <th>user</th>\n",
       "      <th>account</th>\n",
       "      <th>amount</th>\n",
       "    </tr>\n",
       "  </thead>\n",
       "  <tbody>\n",
       "    <tr>\n",
       "      <th>0</th>\n",
       "      <td>2025-02-01</td>\n",
       "      <td>03:35:16</td>\n",
       "      <td>guerreroashley</td>\n",
       "      <td>1001-Cash</td>\n",
       "      <td>-47498.92</td>\n",
       "    </tr>\n",
       "    <tr>\n",
       "      <th>8</th>\n",
       "      <td>2024-12-01</td>\n",
       "      <td>18:37:32</td>\n",
       "      <td>tlee</td>\n",
       "      <td>3001-Equity</td>\n",
       "      <td>-8048.02</td>\n",
       "    </tr>\n",
       "    <tr>\n",
       "      <th>20</th>\n",
       "      <td>2025-03-02</td>\n",
       "      <td>23:21:48</td>\n",
       "      <td>laurathompson</td>\n",
       "      <td>5001-COGS</td>\n",
       "      <td>32940.47</td>\n",
       "    </tr>\n",
       "    <tr>\n",
       "      <th>21</th>\n",
       "      <td>2025-02-02</td>\n",
       "      <td>06:45:06</td>\n",
       "      <td>simonrussell</td>\n",
       "      <td>3001-Equity</td>\n",
       "      <td>38545.17</td>\n",
       "    </tr>\n",
       "    <tr>\n",
       "      <th>23</th>\n",
       "      <td>2024-12-07</td>\n",
       "      <td>22:35:15</td>\n",
       "      <td>harperjames</td>\n",
       "      <td>1001-Cash</td>\n",
       "      <td>-45417.56</td>\n",
       "    </tr>\n",
       "  </tbody>\n",
       "</table>\n",
       "</div>"
      ],
      "text/plain": [
       "         date      time            user      account    amount\n",
       "0  2025-02-01  03:35:16  guerreroashley    1001-Cash -47498.92\n",
       "8  2024-12-01  18:37:32            tlee  3001-Equity  -8048.02\n",
       "20 2025-03-02  23:21:48   laurathompson    5001-COGS  32940.47\n",
       "21 2025-02-02  06:45:06    simonrussell  3001-Equity  38545.17\n",
       "23 2024-12-07  22:35:15     harperjames    1001-Cash -45417.56"
      ]
     },
     "execution_count": 16,
     "metadata": {},
     "output_type": "execute_result"
    }
   ],
   "source": [
    "weekend_postings[['date', 'time', 'user', 'account', 'amount']].head()"
   ]
  },
  {
   "cell_type": "markdown",
   "id": "af628436",
   "metadata": {},
   "source": [
    "### Late-Night Journal Entries"
   ]
  },
  {
   "cell_type": "code",
   "execution_count": 17,
   "id": "2cb4f687",
   "metadata": {},
   "outputs": [
    {
     "data": {
      "text/plain": [
       "'344 entries posted between 10PM & 5 AM'"
      ]
     },
     "execution_count": 17,
     "metadata": {},
     "output_type": "execute_result"
    }
   ],
   "source": [
    "# Convert time to hour\n",
    "gl_df['hour'] = pd.to_datetime(gl_df['time'], format=\"%H:%M:%S\").dt.hour # Creates new column 'hour'\n",
    "late_night_entries = gl_df[(gl_df['hour'] >= 22) | (gl_df['hour'] <= 5)] # save the records which was done after 22:00 and before 05:00\n",
    "\n",
    "f\"{len(late_night_entries)} entries posted between 10PM & 5 AM\"\n"
   ]
  },
  {
   "cell_type": "code",
   "execution_count": 18,
   "id": "6c394baa",
   "metadata": {},
   "outputs": [
    {
     "data": {
      "application/vnd.microsoft.datawrangler.viewer.v0+json": {
       "columns": [
        {
         "name": "index",
         "rawType": "int64",
         "type": "integer"
        },
        {
         "name": "date",
         "rawType": "datetime64[ns]",
         "type": "datetime"
        },
        {
         "name": "time",
         "rawType": "object",
         "type": "string"
        },
        {
         "name": "user",
         "rawType": "object",
         "type": "string"
        },
        {
         "name": "account",
         "rawType": "object",
         "type": "string"
        },
        {
         "name": "amount",
         "rawType": "float64",
         "type": "float"
        }
       ],
       "conversionMethod": "pd.DataFrame",
       "ref": "aa2fb168-5500-4137-b590-8d1df4ab9666",
       "rows": [
        [
         "0",
         "2025-02-01 00:00:00",
         "03:35:16",
         "guerreroashley",
         "1001-Cash",
         "-47498.92"
        ],
        [
         "11",
         "2024-12-19 00:00:00",
         "01:56:53",
         "virginiaweiss",
         "4001-Revenue",
         "19813.94"
        ],
        [
         "14",
         "2025-01-29 00:00:00",
         "22:38:06",
         "kim90",
         "5001-COGS",
         "-39778.97"
        ],
        [
         "20",
         "2025-03-02 00:00:00",
         "23:21:48",
         "laurathompson",
         "5001-COGS",
         "32940.47"
        ],
        [
         "23",
         "2024-12-07 00:00:00",
         "22:35:15",
         "harperjames",
         "1001-Cash",
         "-45417.56"
        ]
       ],
       "shape": {
        "columns": 5,
        "rows": 5
       }
      },
      "text/html": [
       "<div>\n",
       "<style scoped>\n",
       "    .dataframe tbody tr th:only-of-type {\n",
       "        vertical-align: middle;\n",
       "    }\n",
       "\n",
       "    .dataframe tbody tr th {\n",
       "        vertical-align: top;\n",
       "    }\n",
       "\n",
       "    .dataframe thead th {\n",
       "        text-align: right;\n",
       "    }\n",
       "</style>\n",
       "<table border=\"1\" class=\"dataframe\">\n",
       "  <thead>\n",
       "    <tr style=\"text-align: right;\">\n",
       "      <th></th>\n",
       "      <th>date</th>\n",
       "      <th>time</th>\n",
       "      <th>user</th>\n",
       "      <th>account</th>\n",
       "      <th>amount</th>\n",
       "    </tr>\n",
       "  </thead>\n",
       "  <tbody>\n",
       "    <tr>\n",
       "      <th>0</th>\n",
       "      <td>2025-02-01</td>\n",
       "      <td>03:35:16</td>\n",
       "      <td>guerreroashley</td>\n",
       "      <td>1001-Cash</td>\n",
       "      <td>-47498.92</td>\n",
       "    </tr>\n",
       "    <tr>\n",
       "      <th>11</th>\n",
       "      <td>2024-12-19</td>\n",
       "      <td>01:56:53</td>\n",
       "      <td>virginiaweiss</td>\n",
       "      <td>4001-Revenue</td>\n",
       "      <td>19813.94</td>\n",
       "    </tr>\n",
       "    <tr>\n",
       "      <th>14</th>\n",
       "      <td>2025-01-29</td>\n",
       "      <td>22:38:06</td>\n",
       "      <td>kim90</td>\n",
       "      <td>5001-COGS</td>\n",
       "      <td>-39778.97</td>\n",
       "    </tr>\n",
       "    <tr>\n",
       "      <th>20</th>\n",
       "      <td>2025-03-02</td>\n",
       "      <td>23:21:48</td>\n",
       "      <td>laurathompson</td>\n",
       "      <td>5001-COGS</td>\n",
       "      <td>32940.47</td>\n",
       "    </tr>\n",
       "    <tr>\n",
       "      <th>23</th>\n",
       "      <td>2024-12-07</td>\n",
       "      <td>22:35:15</td>\n",
       "      <td>harperjames</td>\n",
       "      <td>1001-Cash</td>\n",
       "      <td>-45417.56</td>\n",
       "    </tr>\n",
       "  </tbody>\n",
       "</table>\n",
       "</div>"
      ],
      "text/plain": [
       "         date      time            user       account    amount\n",
       "0  2025-02-01  03:35:16  guerreroashley     1001-Cash -47498.92\n",
       "11 2024-12-19  01:56:53   virginiaweiss  4001-Revenue  19813.94\n",
       "14 2025-01-29  22:38:06           kim90     5001-COGS -39778.97\n",
       "20 2025-03-02  23:21:48   laurathompson     5001-COGS  32940.47\n",
       "23 2024-12-07  22:35:15     harperjames     1001-Cash -45417.56"
      ]
     },
     "execution_count": 18,
     "metadata": {},
     "output_type": "execute_result"
    }
   ],
   "source": [
    "late_night_entries[['date', 'time', 'user', 'account', 'amount']].head()"
   ]
  },
  {
   "cell_type": "markdown",
   "id": "3e88dd2e",
   "metadata": {},
   "source": [
    "### Suspense Account Usage"
   ]
  },
  {
   "cell_type": "code",
   "execution_count": 21,
   "id": "94177714",
   "metadata": {},
   "outputs": [
    {
     "data": {
      "text/plain": [
       "'0 entries posted to Suspense account'"
      ]
     },
     "execution_count": 21,
     "metadata": {},
     "output_type": "execute_result"
    }
   ],
   "source": [
    "# Filter for suspense account\n",
    "suspense_account = gl_df[gl_df['account'].str.contains('9999', na=False)]\n",
    "\n",
    "f\"{len(suspense_account)} entries posted to Suspense account\"\n",
    "\n",
    "\n",
    "# suspense_account[['date', 'user', 'account', 'amount', 'description']].head() # run when more than 0 entries"
   ]
  },
  {
   "cell_type": "markdown",
   "id": "025e4be1",
   "metadata": {},
   "source": [
    "### Large-Value Entries"
   ]
  },
  {
   "cell_type": "code",
   "execution_count": 24,
   "id": "98f2eaa7",
   "metadata": {},
   "outputs": [
    {
     "data": {
      "text/plain": [
       "'789 entries exceed ±10000'"
      ]
     },
     "execution_count": 24,
     "metadata": {},
     "output_type": "execute_result"
    }
   ],
   "source": [
    "# set a threshold\n",
    "threshold = 10000\n",
    "large_entries = gl_df[gl_df['amount'].abs() > threshold]\n",
    "\n",
    "f\"{len(large_entries)} entries exceed ±{threshold}\""
   ]
  },
  {
   "cell_type": "code",
   "execution_count": 26,
   "id": "074083c4",
   "metadata": {},
   "outputs": [
    {
     "data": {
      "application/vnd.microsoft.datawrangler.viewer.v0+json": {
       "columns": [
        {
         "name": "index",
         "rawType": "int64",
         "type": "integer"
        },
        {
         "name": "date",
         "rawType": "datetime64[ns]",
         "type": "datetime"
        },
        {
         "name": "user",
         "rawType": "object",
         "type": "string"
        },
        {
         "name": "account",
         "rawType": "object",
         "type": "string"
        },
        {
         "name": "amount",
         "rawType": "float64",
         "type": "float"
        }
       ],
       "conversionMethod": "pd.DataFrame",
       "ref": "df8a3999-804a-4791-a2d1-c51b200648b3",
       "rows": [
        [
         "867",
         "2024-10-25 00:00:00",
         "cooperashley",
         "2001-AP",
         "49959.5"
        ],
        [
         "403",
         "2025-01-21 00:00:00",
         "benjaminfowler",
         "1001-Cash",
         "49957.24"
        ],
        [
         "499",
         "2025-02-08 00:00:00",
         "dennis49",
         "4001-Revenue",
         "49937.36"
        ],
        [
         "448",
         "2025-02-16 00:00:00",
         "stephenwalker",
         "3001-Equity",
         "49890.23"
        ],
        [
         "143",
         "2025-01-19 00:00:00",
         "twagner",
         "3001-Equity",
         "49845.44"
        ]
       ],
       "shape": {
        "columns": 4,
        "rows": 5
       }
      },
      "text/html": [
       "<div>\n",
       "<style scoped>\n",
       "    .dataframe tbody tr th:only-of-type {\n",
       "        vertical-align: middle;\n",
       "    }\n",
       "\n",
       "    .dataframe tbody tr th {\n",
       "        vertical-align: top;\n",
       "    }\n",
       "\n",
       "    .dataframe thead th {\n",
       "        text-align: right;\n",
       "    }\n",
       "</style>\n",
       "<table border=\"1\" class=\"dataframe\">\n",
       "  <thead>\n",
       "    <tr style=\"text-align: right;\">\n",
       "      <th></th>\n",
       "      <th>date</th>\n",
       "      <th>user</th>\n",
       "      <th>account</th>\n",
       "      <th>amount</th>\n",
       "    </tr>\n",
       "  </thead>\n",
       "  <tbody>\n",
       "    <tr>\n",
       "      <th>867</th>\n",
       "      <td>2024-10-25</td>\n",
       "      <td>cooperashley</td>\n",
       "      <td>2001-AP</td>\n",
       "      <td>49959.50</td>\n",
       "    </tr>\n",
       "    <tr>\n",
       "      <th>403</th>\n",
       "      <td>2025-01-21</td>\n",
       "      <td>benjaminfowler</td>\n",
       "      <td>1001-Cash</td>\n",
       "      <td>49957.24</td>\n",
       "    </tr>\n",
       "    <tr>\n",
       "      <th>499</th>\n",
       "      <td>2025-02-08</td>\n",
       "      <td>dennis49</td>\n",
       "      <td>4001-Revenue</td>\n",
       "      <td>49937.36</td>\n",
       "    </tr>\n",
       "    <tr>\n",
       "      <th>448</th>\n",
       "      <td>2025-02-16</td>\n",
       "      <td>stephenwalker</td>\n",
       "      <td>3001-Equity</td>\n",
       "      <td>49890.23</td>\n",
       "    </tr>\n",
       "    <tr>\n",
       "      <th>143</th>\n",
       "      <td>2025-01-19</td>\n",
       "      <td>twagner</td>\n",
       "      <td>3001-Equity</td>\n",
       "      <td>49845.44</td>\n",
       "    </tr>\n",
       "  </tbody>\n",
       "</table>\n",
       "</div>"
      ],
      "text/plain": [
       "          date            user       account    amount\n",
       "867 2024-10-25    cooperashley       2001-AP  49959.50\n",
       "403 2025-01-21  benjaminfowler     1001-Cash  49957.24\n",
       "499 2025-02-08        dennis49  4001-Revenue  49937.36\n",
       "448 2025-02-16   stephenwalker   3001-Equity  49890.23\n",
       "143 2025-01-19         twagner   3001-Equity  49845.44"
      ]
     },
     "execution_count": 26,
     "metadata": {},
     "output_type": "execute_result"
    }
   ],
   "source": [
    "large_entries[['date', 'user', 'account', 'amount']].sort_values(by='amount', ascending=False).head()"
   ]
  },
  {
   "cell_type": "markdown",
   "id": "6bfec7ca",
   "metadata": {},
   "source": [
    "### Missing/Vague Descriptions"
   ]
  },
  {
   "cell_type": "code",
   "execution_count": 29,
   "id": "ce43f8ca",
   "metadata": {},
   "outputs": [
    {
     "data": {
      "text/plain": [
       "'2 entries have vague or missing descriptions'"
      ]
     },
     "execution_count": 29,
     "metadata": {},
     "output_type": "execute_result"
    }
   ],
   "source": [
    "# Define Vague Keywords\n",
    "vague_keywords = ['misc', 'adjustment', 'test', 'unknown']\n",
    "\n",
    "# Filter entries with vague keywords or missing descriptions\n",
    "gl_df['desc_clean'] = gl_df['description'].fillna('').str.lower()\n",
    "\n",
    "vague_entries = gl_df[\n",
    "    gl_df['desc_clean'].str.strip().eq('') | # description missing\n",
    "    gl_df['desc_clean'].str.contains('|'.join(vague_keywords)) # description including vague_keywords\n",
    "]\n",
    "\n",
    "f\"{len(vague_entries)} entries have vague or missing descriptions\""
   ]
  },
  {
   "cell_type": "code",
   "execution_count": 30,
   "id": "b8fd37d3",
   "metadata": {},
   "outputs": [
    {
     "data": {
      "application/vnd.microsoft.datawrangler.viewer.v0+json": {
       "columns": [
        {
         "name": "index",
         "rawType": "int64",
         "type": "integer"
        },
        {
         "name": "date",
         "rawType": "datetime64[ns]",
         "type": "datetime"
        },
        {
         "name": "user",
         "rawType": "object",
         "type": "string"
        },
        {
         "name": "amount",
         "rawType": "float64",
         "type": "float"
        },
        {
         "name": "description",
         "rawType": "object",
         "type": "string"
        }
       ],
       "conversionMethod": "pd.DataFrame",
       "ref": "f30d43fb-259d-42cd-8188-6f1a9c51e2f7",
       "rows": [
        [
         "345",
         "2025-03-21 00:00:00",
         "oharris",
         "-30845.9",
         "Test either say husband."
        ],
        [
         "440",
         "2025-01-24 00:00:00",
         "phillipserin",
         "-11641.4",
         "Single true test better."
        ]
       ],
       "shape": {
        "columns": 4,
        "rows": 2
       }
      },
      "text/html": [
       "<div>\n",
       "<style scoped>\n",
       "    .dataframe tbody tr th:only-of-type {\n",
       "        vertical-align: middle;\n",
       "    }\n",
       "\n",
       "    .dataframe tbody tr th {\n",
       "        vertical-align: top;\n",
       "    }\n",
       "\n",
       "    .dataframe thead th {\n",
       "        text-align: right;\n",
       "    }\n",
       "</style>\n",
       "<table border=\"1\" class=\"dataframe\">\n",
       "  <thead>\n",
       "    <tr style=\"text-align: right;\">\n",
       "      <th></th>\n",
       "      <th>date</th>\n",
       "      <th>user</th>\n",
       "      <th>amount</th>\n",
       "      <th>description</th>\n",
       "    </tr>\n",
       "  </thead>\n",
       "  <tbody>\n",
       "    <tr>\n",
       "      <th>345</th>\n",
       "      <td>2025-03-21</td>\n",
       "      <td>oharris</td>\n",
       "      <td>-30845.9</td>\n",
       "      <td>Test either say husband.</td>\n",
       "    </tr>\n",
       "    <tr>\n",
       "      <th>440</th>\n",
       "      <td>2025-01-24</td>\n",
       "      <td>phillipserin</td>\n",
       "      <td>-11641.4</td>\n",
       "      <td>Single true test better.</td>\n",
       "    </tr>\n",
       "  </tbody>\n",
       "</table>\n",
       "</div>"
      ],
      "text/plain": [
       "          date          user   amount               description\n",
       "345 2025-03-21       oharris -30845.9  Test either say husband.\n",
       "440 2025-01-24  phillipserin -11641.4  Single true test better."
      ]
     },
     "execution_count": 30,
     "metadata": {},
     "output_type": "execute_result"
    }
   ],
   "source": [
    "vague_entries[['date', 'user', 'amount', 'description']].head()"
   ]
  },
  {
   "cell_type": "markdown",
   "id": "8d59ff21",
   "metadata": {},
   "source": [
    "### Round-Number Entries"
   ]
  },
  {
   "cell_type": "code",
   "execution_count": 31,
   "id": "504fbde0",
   "metadata": {},
   "outputs": [
    {
     "data": {
      "text/plain": [
       "'0 entries are round thousand values'"
      ]
     },
     "execution_count": 31,
     "metadata": {},
     "output_type": "execute_result"
    }
   ],
   "source": [
    "# Round numbers without cents/fils etc\n",
    "round_entries = gl_df[gl_df['amount'] % 1000 == 0]\n",
    "\n",
    "f\"{len(round_entries)} entries are round thousand values\"\n",
    "\n",
    "# round_entries[['date', 'account', 'amount', 'description']].head() # run if more than 0 entries "
   ]
  },
  {
   "cell_type": "markdown",
   "id": "cb8d5708",
   "metadata": {},
   "source": [
    "### Top Users/Employees posting by Amount"
   ]
  },
  {
   "cell_type": "code",
   "execution_count": 40,
   "id": "d6682f90",
   "metadata": {},
   "outputs": [
    {
     "name": "stdout",
     "output_type": "stream",
     "text": [
      "Top 5 users by total posted amount:\n",
      "user\n",
      "qsmith            56107.63\n",
      "cooperashley      49959.50\n",
      "benjaminfowler    49957.24\n",
      "dennis49          49937.36\n",
      "stephenwalker     49890.23\n",
      "Name: amount, dtype: float64\n"
     ]
    }
   ],
   "source": [
    "top_users = gl_df.groupby('user')['amount'].sum().abs().sort_values(ascending=False).head(5)\n",
    "\n",
    "print(\"Top 5 users by total posted amount:\")\n",
    "print(top_users)"
   ]
  },
  {
   "cell_type": "markdown",
   "id": "c03aeb20",
   "metadata": {},
   "source": [
    "### Benford's Law Test (Fraud Analytics)"
   ]
  },
  {
   "cell_type": "code",
   "execution_count": 41,
   "id": "9bded217",
   "metadata": {},
   "outputs": [],
   "source": [
    "# Import Libraries\n",
    "import matplotlib.pyplot as plt\n",
    "import seaborn as sns\n",
    "import numpy as np"
   ]
  },
  {
   "cell_type": "code",
   "execution_count": 42,
   "id": "5da20942",
   "metadata": {},
   "outputs": [],
   "source": [
    "# Filter positive amounts\n",
    "amounts = gl_df['amount'].abs()\n",
    "first_digits = amounts[amounts > 0].astype(str).str[0].astype(int)\n",
    "\n",
    "# Actual Distribution\n",
    "actual = first_digits.value_counts(normalize=True).sort_index()\n",
    "\n",
    "# Benford expected distribution\n",
    "benford = pd.Series([np.log10(1 + 1/d) for d in range(1, 10)], index=range(1, 10))"
   ]
  },
  {
   "cell_type": "code",
   "execution_count": 43,
   "id": "a37cbc6e",
   "metadata": {},
   "outputs": [
    {
     "data": {
      "image/png": "[encoded data removed]",
      "text/plain": [
       "<Figure size 1000x500 with 1 Axes>"
      ]
     },
     "metadata": {},
     "output_type": "display_data"
    }
   ],
   "source": [
    "# Plotting\n",
    "plt.figure(figsize=(10, 5))\n",
    "sns.barplot(x=benford.index, y=actual.values, color='skyblue', label='Actual')\n",
    "sns.lineplot(x=benford.index, y=benford.values, color='red', label='Benford', marker='o')\n",
    "plt.title(\"Benford's Law Test - First Digit Distribution\")\n",
    "plt.xlabel(\"First Digit\")\n",
    "plt.ylabel(\"Frequency\")\n",
    "plt.legend()\n",
    "plt.show()"
   ]
  },
  {
   "cell_type": "markdown",
   "id": "822e0bd2",
   "metadata": {},
   "source": [
    "## Vendor Payments Audit Checks\n",
    "### Duplicate Vendor Payments"
   ]
  },
  {
   "cell_type": "code",
   "execution_count": 44,
   "id": "fe660f3d",
   "metadata": {},
   "outputs": [
    {
     "data": {
      "text/plain": [
       "'Found 0 duplicate vendor payments'"
      ]
     },
     "execution_count": 44,
     "metadata": {},
     "output_type": "execute_result"
    }
   ],
   "source": [
    "# Check for duplicates across vendors\n",
    "duplicate_payments = payments_df[\n",
    "    payments_df.duplicated(subset=[\"vendor_id\", \"amount\", \"payment_date\"], keep=False)\n",
    "]\n",
    "\n",
    "f\"Found {len(duplicate_payments)} duplicate vendor payments\"\n",
    "\n",
    "# duplicate_payments.sort_values(by=\"payment_date\").head() # run when payment > 0"
   ]
  },
  {
   "cell_type": "markdown",
   "id": "db26acb1",
   "metadata": {},
   "source": [
    "### Payments Above Threshold"
   ]
  },
  {
   "cell_type": "code",
   "execution_count": 46,
   "id": "b0e0651c",
   "metadata": {},
   "outputs": [
    {
     "data": {
      "text/plain": [
       "'Found 0 payments above 15000'"
      ]
     },
     "execution_count": 46,
     "metadata": {},
     "output_type": "execute_result"
    }
   ],
   "source": [
    "# Set Threshold\n",
    "high_payment_threshold = 15000\n",
    "high_payments = payments_df[payments_df[\"amount\"] > high_payment_threshold]\n",
    "\n",
    "f\"Found {len(high_payments)} payments above {high_payment_threshold}\"\n",
    "\n",
    "# high_payments[['payment_date', 'vendor_id', 'amount']].sort_values(by=\"amount\", ascending=False).head() # run when payments > 0"
   ]
  },
  {
   "cell_type": "markdown",
   "id": "9a896d27",
   "metadata": {},
   "source": [
    "### One-time Vendors with High Payments"
   ]
  },
  {
   "cell_type": "code",
   "execution_count": 50,
   "id": "4b435861",
   "metadata": {},
   "outputs": [
    {
     "data": {
      "text/plain": [
       "'0 one-time vendors received high payments'"
      ]
     },
     "execution_count": 50,
     "metadata": {},
     "output_type": "execute_result"
    }
   ],
   "source": [
    "# Count number of payments per vendor\n",
    "payment_counts = payments_df['vendor_id'].value_counts()\n",
    "\n",
    "# Filter one-time vendors\n",
    "one_time_vendors = payment_counts[payment_counts == 1].index\n",
    "one_time_payments = payments_df[payments_df['vendor_id'].isin(one_time_vendors)]\n",
    "\n",
    "# High one-time payments\n",
    "high_one_time = one_time_payments[one_time_payments['amount'] > 10000]\n",
    "\n",
    "f\"{len(high_one_time)} one-time vendors received high payments\"\n",
    "\n",
    "# high_one_time[['vendor_id', 'amount', 'payment_date']].head() # run when payments > 0"
   ]
  },
  {
   "cell_type": "markdown",
   "id": "8287a71c",
   "metadata": {},
   "source": [
    "### Payments on Weekend"
   ]
  },
  {
   "cell_type": "code",
   "execution_count": 51,
   "id": "a4f1079d",
   "metadata": {},
   "outputs": [
    {
     "data": {
      "text/plain": [
       "'138 vendor payments made on weekends'"
      ]
     },
     "execution_count": 51,
     "metadata": {},
     "output_type": "execute_result"
    }
   ],
   "source": [
    "# Get the weekdays\n",
    "payments_df['weekday'] = payments_df['payment_date'].dt.weekday\n",
    "weekend_payments = payments_df[payments_df['weekday'] >= 5]\n",
    "\n",
    "f\"{len(weekend_payments)} vendor payments made on weekends\""
   ]
  },
  {
   "cell_type": "code",
   "execution_count": 52,
   "id": "78522d32",
   "metadata": {},
   "outputs": [
    {
     "data": {
      "application/vnd.microsoft.datawrangler.viewer.v0+json": {
       "columns": [
        {
         "name": "index",
         "rawType": "int64",
         "type": "integer"
        },
        {
         "name": "vendor_id",
         "rawType": "object",
         "type": "string"
        },
        {
         "name": "amount",
         "rawType": "float64",
         "type": "float"
        },
        {
         "name": "payment_date",
         "rawType": "datetime64[ns]",
         "type": "datetime"
        }
       ],
       "conversionMethod": "pd.DataFrame",
       "ref": "16a18a25-1329-4f62-a47b-b63ff19da13a",
       "rows": [
        [
         "2",
         "261a092d-8440-4317-95a8-c1d8a2322300",
         "1095.39",
         "2025-02-02 00:00:00"
        ],
        [
         "4",
         "d35622d2-003b-456a-b12f-813f8aa1edf8",
         "151.3",
         "2025-04-05 00:00:00"
        ],
        [
         "6",
         "a061fa2b-2409-49a5-b3f7-2d3c511a158e",
         "9298.09",
         "2024-11-30 00:00:00"
        ],
        [
         "7",
         "d2059752-7407-4ef2-bd01-527e5f95a105",
         "4128.38",
         "2025-02-01 00:00:00"
        ],
        [
         "13",
         "fc835178-1b21-4a36-aa2a-2d522d2ca7ea",
         "3279.56",
         "2025-01-04 00:00:00"
        ]
       ],
       "shape": {
        "columns": 3,
        "rows": 5
       }
      },
      "text/html": [
       "<div>\n",
       "<style scoped>\n",
       "    .dataframe tbody tr th:only-of-type {\n",
       "        vertical-align: middle;\n",
       "    }\n",
       "\n",
       "    .dataframe tbody tr th {\n",
       "        vertical-align: top;\n",
       "    }\n",
       "\n",
       "    .dataframe thead th {\n",
       "        text-align: right;\n",
       "    }\n",
       "</style>\n",
       "<table border=\"1\" class=\"dataframe\">\n",
       "  <thead>\n",
       "    <tr style=\"text-align: right;\">\n",
       "      <th></th>\n",
       "      <th>vendor_id</th>\n",
       "      <th>amount</th>\n",
       "      <th>payment_date</th>\n",
       "    </tr>\n",
       "  </thead>\n",
       "  <tbody>\n",
       "    <tr>\n",
       "      <th>2</th>\n",
       "      <td>261a092d-8440-4317-95a8-c1d8a2322300</td>\n",
       "      <td>1095.39</td>\n",
       "      <td>2025-02-02</td>\n",
       "    </tr>\n",
       "    <tr>\n",
       "      <th>4</th>\n",
       "      <td>d35622d2-003b-456a-b12f-813f8aa1edf8</td>\n",
       "      <td>151.30</td>\n",
       "      <td>2025-04-05</td>\n",
       "    </tr>\n",
       "    <tr>\n",
       "      <th>6</th>\n",
       "      <td>a061fa2b-2409-49a5-b3f7-2d3c511a158e</td>\n",
       "      <td>9298.09</td>\n",
       "      <td>2024-11-30</td>\n",
       "    </tr>\n",
       "    <tr>\n",
       "      <th>7</th>\n",
       "      <td>d2059752-7407-4ef2-bd01-527e5f95a105</td>\n",
       "      <td>4128.38</td>\n",
       "      <td>2025-02-01</td>\n",
       "    </tr>\n",
       "    <tr>\n",
       "      <th>13</th>\n",
       "      <td>fc835178-1b21-4a36-aa2a-2d522d2ca7ea</td>\n",
       "      <td>3279.56</td>\n",
       "      <td>2025-01-04</td>\n",
       "    </tr>\n",
       "  </tbody>\n",
       "</table>\n",
       "</div>"
      ],
      "text/plain": [
       "                               vendor_id   amount payment_date\n",
       "2   261a092d-8440-4317-95a8-c1d8a2322300  1095.39   2025-02-02\n",
       "4   d35622d2-003b-456a-b12f-813f8aa1edf8   151.30   2025-04-05\n",
       "6   a061fa2b-2409-49a5-b3f7-2d3c511a158e  9298.09   2024-11-30\n",
       "7   d2059752-7407-4ef2-bd01-527e5f95a105  4128.38   2025-02-01\n",
       "13  fc835178-1b21-4a36-aa2a-2d522d2ca7ea  3279.56   2025-01-04"
      ]
     },
     "execution_count": 52,
     "metadata": {},
     "output_type": "execute_result"
    }
   ],
   "source": [
    "weekend_payments[['vendor_id', 'amount', 'payment_date']].head()"
   ]
  },
  {
   "cell_type": "markdown",
   "id": "eaccb744",
   "metadata": {},
   "source": [
    "### Round-Amount Payments"
   ]
  },
  {
   "cell_type": "code",
   "execution_count": 54,
   "id": "cdfb58c3",
   "metadata": {},
   "outputs": [
    {
     "data": {
      "text/plain": [
       "'0 payments are round thousands (possible manipulation)'"
      ]
     },
     "execution_count": 54,
     "metadata": {},
     "output_type": "execute_result"
    }
   ],
   "source": [
    "round_payments = payments_df[payments_df['amount'] % 1000 == 0]\n",
    "\n",
    "f\"{len(round_payments)} payments are round thousands (possible manipulation)\"\n",
    "\n",
    "# round_payments[['vendor_id', 'amount', 'payment_date']].head() # run when payments > 0"
   ]
  },
  {
   "cell_type": "markdown",
   "id": "e0870deb",
   "metadata": {},
   "source": [
    "### Split-Payments (same Vendor, same Date)"
   ]
  },
  {
   "cell_type": "code",
   "execution_count": 55,
   "id": "ccc8c719",
   "metadata": {},
   "outputs": [
    {
     "data": {
      "text/plain": [
       "'15 vendors paid multiple times on same day'"
      ]
     },
     "execution_count": 55,
     "metadata": {},
     "output_type": "execute_result"
    }
   ],
   "source": [
    "# Group by vendor + date and count\n",
    "split_payments = payments_df.groupby(['vendor_id', 'payment_date'])['amount'].count()\n",
    "split_payments = split_payments[split_payments > 1]\n",
    "\n",
    "f\"{len(split_payments)} vendors paid multiple times on same day\""
   ]
  },
  {
   "cell_type": "code",
   "execution_count": 56,
   "id": "5973befb",
   "metadata": {},
   "outputs": [
    {
     "data": {
      "text/plain": [
       "vendor_id                             payment_date\n",
       "07a7324d-7d8d-4d11-a632-bad3ad18ee42  2024-12-30      2\n",
       "261a092d-8440-4317-95a8-c1d8a2322300  2024-10-22      2\n",
       "3bbefcd9-ad61-462c-bacf-1c78b3a65ed5  2025-01-15      2\n",
       "3c6388fc-f50c-4196-ad78-58fe867c0919  2024-10-19      2\n",
       "483ae855-84c2-400b-ae8a-28825777dbf5  2025-03-15      2\n",
       "Name: amount, dtype: int64"
      ]
     },
     "execution_count": 56,
     "metadata": {},
     "output_type": "execute_result"
    }
   ],
   "source": [
    "split_payments.head()"
   ]
  },
  {
   "cell_type": "markdown",
   "id": "3f9d0066",
   "metadata": {},
   "source": [
    "### Top Vendors by Amount Paid"
   ]
  },
  {
   "cell_type": "code",
   "execution_count": 57,
   "id": "92d23024",
   "metadata": {},
   "outputs": [
    {
     "name": "stdout",
     "output_type": "stream",
     "text": [
      "vendor_id\n",
      "e7ac4fe5-69a9-4e8c-9cbc-d71db2f9cd1d    101018.27\n",
      "899f4d6a-4ee3-4130-ba3b-44dd574bc706     89988.28\n",
      "f953a74c-d90f-4baf-a4b9-f7b6fba0e5fa     84969.61\n",
      "354e3586-d172-4f79-8a23-38c07de8c029     78232.52\n",
      "97aab957-8804-486f-a5ac-27dd46628da1     75670.57\n",
      "Name: amount, dtype: float64\n"
     ]
    }
   ],
   "source": [
    "top_vendors = payments_df.groupby('vendor_id')['amount'].sum().sort_values(ascending=False).head(5)\n",
    "\n",
    "\"Top 5 vendors by total payment amount:\"\n",
    "print(top_vendors)"
   ]
  },
  {
   "cell_type": "markdown",
   "id": "4228e17d",
   "metadata": {},
   "source": [
    "## Employee Expense Audit Checks\n",
    "\n",
    "### Duplicate expense claims"
   ]
  },
  {
   "cell_type": "code",
   "execution_count": 59,
   "id": "dd67f74f",
   "metadata": {},
   "outputs": [
    {
     "data": {
      "text/plain": [
       "'Found 0 duplicate expense claims'"
      ]
     },
     "execution_count": 59,
     "metadata": {},
     "output_type": "execute_result"
    }
   ],
   "source": [
    "# Duplicate check based on employee_id, date and amount\n",
    "duplicate_expenses = expenses_df[\n",
    "    expenses_df.duplicated(subset=[\"employee_id\", \"date\", \"amount\"], keep=False)\n",
    "]\n",
    "\n",
    "f\"Found {len(duplicate_expenses)} duplicate expense claims\"\n",
    "\n",
    "# duplicate_expenses.sort_values(by=\"date\").head() # run if expenses claims > 0"
   ]
  },
  {
   "cell_type": "markdown",
   "id": "68bf1c46",
   "metadata": {},
   "source": [
    "### Expenses above policy limits\n",
    "\n",
    "Assuming:\n",
    "* Meals: max 100\n",
    "* Travel: max 1000\n",
    "* Lodging: max 500"
   ]
  },
  {
   "cell_type": "code",
   "execution_count": 61,
   "id": "be5d0228",
   "metadata": {},
   "outputs": [
    {
     "data": {
      "text/plain": [
       "'Found 0 expense claims above policy limits'"
      ]
     },
     "execution_count": 61,
     "metadata": {},
     "output_type": "execute_result"
    }
   ],
   "source": [
    "policy_limits = {\n",
    "    'meals': 100,\n",
    "    'travel': 1000,\n",
    "    'lodging': 500\n",
    "}\n",
    "\n",
    "# Flag Policy Violations\n",
    "policy_violations = expenses_df[\n",
    "    expenses_df.apply(lambda row: row['amount'] > policy_limits.get(row['category'], 999999), axis=1)\n",
    "]\n",
    "\n",
    "f\"Found {len(policy_violations)} expense claims above policy limits\"\n",
    "# policy_violations[['employee_id', 'category', 'amount', 'description']].head() # run if expense claims > 0 "
   ]
  },
  {
   "cell_type": "markdown",
   "id": "87eeee85",
   "metadata": {},
   "source": [
    "### Claims on weekends"
   ]
  },
  {
   "cell_type": "code",
   "execution_count": 62,
   "id": "ead6e44a",
   "metadata": {},
   "outputs": [
    {
     "data": {
      "text/plain": [
       "'Found 90 expense claims made on weekends'"
      ]
     },
     "execution_count": 62,
     "metadata": {},
     "output_type": "execute_result"
    }
   ],
   "source": [
    "expenses_df['weekday'] = expenses_df['date'].dt.weekday\n",
    "weekend_claims = expenses_df[expenses_df['weekday'] >= 5]\n",
    "\n",
    "f\"Found {len(weekend_claims)} expense claims made on weekends\""
   ]
  },
  {
   "cell_type": "code",
   "execution_count": 63,
   "id": "85262b46",
   "metadata": {},
   "outputs": [
    {
     "data": {
      "application/vnd.microsoft.datawrangler.viewer.v0+json": {
       "columns": [
        {
         "name": "index",
         "rawType": "int64",
         "type": "integer"
        },
        {
         "name": "employee_id",
         "rawType": "int64",
         "type": "integer"
        },
        {
         "name": "category",
         "rawType": "object",
         "type": "string"
        },
        {
         "name": "amount",
         "rawType": "float64",
         "type": "float"
        },
        {
         "name": "date",
         "rawType": "datetime64[ns]",
         "type": "datetime"
        }
       ],
       "conversionMethod": "pd.DataFrame",
       "ref": "a3b35c21-64b5-4da8-acf3-a92d4538aab2",
       "rows": [
        [
         "9",
         "3349",
         "Entertainment",
         "1933.95",
         "2025-02-02 00:00:00"
        ],
        [
         "12",
         "6792",
         "Travel",
         "524.89",
         "2025-04-06 00:00:00"
        ],
        [
         "13",
         "8657",
         "Meals",
         "897.1",
         "2024-11-24 00:00:00"
        ],
        [
         "14",
         "5758",
         "Entertainment",
         "931.5",
         "2024-12-29 00:00:00"
        ],
        [
         "19",
         "2853",
         "Meals",
         "703.17",
         "2024-11-30 00:00:00"
        ]
       ],
       "shape": {
        "columns": 4,
        "rows": 5
       }
      },
      "text/html": [
       "<div>\n",
       "<style scoped>\n",
       "    .dataframe tbody tr th:only-of-type {\n",
       "        vertical-align: middle;\n",
       "    }\n",
       "\n",
       "    .dataframe tbody tr th {\n",
       "        vertical-align: top;\n",
       "    }\n",
       "\n",
       "    .dataframe thead th {\n",
       "        text-align: right;\n",
       "    }\n",
       "</style>\n",
       "<table border=\"1\" class=\"dataframe\">\n",
       "  <thead>\n",
       "    <tr style=\"text-align: right;\">\n",
       "      <th></th>\n",
       "      <th>employee_id</th>\n",
       "      <th>category</th>\n",
       "      <th>amount</th>\n",
       "      <th>date</th>\n",
       "    </tr>\n",
       "  </thead>\n",
       "  <tbody>\n",
       "    <tr>\n",
       "      <th>9</th>\n",
       "      <td>3349</td>\n",
       "      <td>Entertainment</td>\n",
       "      <td>1933.95</td>\n",
       "      <td>2025-02-02</td>\n",
       "    </tr>\n",
       "    <tr>\n",
       "      <th>12</th>\n",
       "      <td>6792</td>\n",
       "      <td>Travel</td>\n",
       "      <td>524.89</td>\n",
       "      <td>2025-04-06</td>\n",
       "    </tr>\n",
       "    <tr>\n",
       "      <th>13</th>\n",
       "      <td>8657</td>\n",
       "      <td>Meals</td>\n",
       "      <td>897.10</td>\n",
       "      <td>2024-11-24</td>\n",
       "    </tr>\n",
       "    <tr>\n",
       "      <th>14</th>\n",
       "      <td>5758</td>\n",
       "      <td>Entertainment</td>\n",
       "      <td>931.50</td>\n",
       "      <td>2024-12-29</td>\n",
       "    </tr>\n",
       "    <tr>\n",
       "      <th>19</th>\n",
       "      <td>2853</td>\n",
       "      <td>Meals</td>\n",
       "      <td>703.17</td>\n",
       "      <td>2024-11-30</td>\n",
       "    </tr>\n",
       "  </tbody>\n",
       "</table>\n",
       "</div>"
      ],
      "text/plain": [
       "    employee_id       category   amount       date\n",
       "9          3349  Entertainment  1933.95 2025-02-02\n",
       "12         6792         Travel   524.89 2025-04-06\n",
       "13         8657          Meals   897.10 2024-11-24\n",
       "14         5758  Entertainment   931.50 2024-12-29\n",
       "19         2853          Meals   703.17 2024-11-30"
      ]
     },
     "execution_count": 63,
     "metadata": {},
     "output_type": "execute_result"
    }
   ],
   "source": [
    "weekend_claims[['employee_id', 'category', 'amount', 'date']].head()"
   ]
  },
  {
   "cell_type": "markdown",
   "id": "e28ac753",
   "metadata": {},
   "source": [
    "### Suspicious or Vague descriptions"
   ]
  },
  {
   "cell_type": "code",
   "execution_count": 65,
   "id": "d4af235f",
   "metadata": {},
   "outputs": [
    {
     "name": "stdout",
     "output_type": "stream",
     "text": [
      "18 expense claims have vague or suspicious descriptions\n"
     ]
    },
    {
     "data": {
      "application/vnd.microsoft.datawrangler.viewer.v0+json": {
       "columns": [
        {
         "name": "index",
         "rawType": "int64",
         "type": "integer"
        },
        {
         "name": "employee_id",
         "rawType": "int64",
         "type": "integer"
        },
        {
         "name": "amount",
         "rawType": "float64",
         "type": "float"
        },
        {
         "name": "description",
         "rawType": "object",
         "type": "string"
        }
       ],
       "conversionMethod": "pd.DataFrame",
       "ref": "3319703c-0151-4839-9a2c-ab5e4d1a6284",
       "rows": [
        [
         "12",
         "6792",
         "524.89",
         "Improve thing task international forward."
        ],
        [
         "45",
         "7044",
         "710.45",
         "National option baby industry leg."
        ],
        [
         "89",
         "9019",
         "585.77",
         "Light soon activity fall power professional."
        ],
        [
         "96",
         "6124",
         "1658.68",
         "Position scientist card something analysis."
        ],
        [
         "99",
         "7223",
         "909.46",
         "Usually week religious property although natural."
        ]
       ],
       "shape": {
        "columns": 3,
        "rows": 5
       }
      },
      "text/html": [
       "<div>\n",
       "<style scoped>\n",
       "    .dataframe tbody tr th:only-of-type {\n",
       "        vertical-align: middle;\n",
       "    }\n",
       "\n",
       "    .dataframe tbody tr th {\n",
       "        vertical-align: top;\n",
       "    }\n",
       "\n",
       "    .dataframe thead th {\n",
       "        text-align: right;\n",
       "    }\n",
       "</style>\n",
       "<table border=\"1\" class=\"dataframe\">\n",
       "  <thead>\n",
       "    <tr style=\"text-align: right;\">\n",
       "      <th></th>\n",
       "      <th>employee_id</th>\n",
       "      <th>amount</th>\n",
       "      <th>description</th>\n",
       "    </tr>\n",
       "  </thead>\n",
       "  <tbody>\n",
       "    <tr>\n",
       "      <th>12</th>\n",
       "      <td>6792</td>\n",
       "      <td>524.89</td>\n",
       "      <td>Improve thing task international forward.</td>\n",
       "    </tr>\n",
       "    <tr>\n",
       "      <th>45</th>\n",
       "      <td>7044</td>\n",
       "      <td>710.45</td>\n",
       "      <td>National option baby industry leg.</td>\n",
       "    </tr>\n",
       "    <tr>\n",
       "      <th>89</th>\n",
       "      <td>9019</td>\n",
       "      <td>585.77</td>\n",
       "      <td>Light soon activity fall power professional.</td>\n",
       "    </tr>\n",
       "    <tr>\n",
       "      <th>96</th>\n",
       "      <td>6124</td>\n",
       "      <td>1658.68</td>\n",
       "      <td>Position scientist card something analysis.</td>\n",
       "    </tr>\n",
       "    <tr>\n",
       "      <th>99</th>\n",
       "      <td>7223</td>\n",
       "      <td>909.46</td>\n",
       "      <td>Usually week religious property although natural.</td>\n",
       "    </tr>\n",
       "  </tbody>\n",
       "</table>\n",
       "</div>"
      ],
      "text/plain": [
       "    employee_id   amount                                        description\n",
       "12         6792   524.89          Improve thing task international forward.\n",
       "45         7044   710.45                 National option baby industry leg.\n",
       "89         9019   585.77       Light soon activity fall power professional.\n",
       "96         6124  1658.68        Position scientist card something analysis.\n",
       "99         7223   909.46  Usually week religious property although natural."
      ]
     },
     "execution_count": 65,
     "metadata": {},
     "output_type": "execute_result"
    }
   ],
   "source": [
    "vague_keywords = ['misc', 'test', 'n/a', 'adjustment', 'na']\n",
    "\n",
    "expenses_df['desc_clean'] = expenses_df['description'].fillna('').str.lower()\n",
    "\n",
    "vague_expenses = expenses_df[\n",
    "    expenses_df['desc_clean'].str.strip().eq('') |\n",
    "    expenses_df['desc_clean'].str.contains('|'.join(vague_keywords))\n",
    "]\n",
    "\n",
    "print(f\"{len(vague_expenses)} expense claims have vague or suspicious descriptions\")\n",
    "vague_expenses[['employee_id', 'amount', 'description']].head()\n"
   ]
  },
  {
   "cell_type": "markdown",
   "id": "2cdbd7be",
   "metadata": {},
   "source": [
    "### Round-amount claims"
   ]
  },
  {
   "cell_type": "code",
   "execution_count": 67,
   "id": "05d11c6c",
   "metadata": {},
   "outputs": [
    {
     "data": {
      "text/plain": [
       "'0 claims are round hundreds - investigate estimates/fraud'"
      ]
     },
     "execution_count": 67,
     "metadata": {},
     "output_type": "execute_result"
    }
   ],
   "source": [
    "round_expenses = expenses_df[expenses_df['amount'] % 100 == 0]\n",
    "\n",
    "f\"{len(round_expenses)} claims are round hundreds - investigate estimates/fraud\"\n",
    "# round_expenses[['employee_id', 'category', 'amount']].head() # run if claims > 0"
   ]
  },
  {
   "cell_type": "markdown",
   "id": "d60a27c0",
   "metadata": {},
   "source": [
    "### Frequent small claims (threshold alert)"
   ]
  },
  {
   "cell_type": "code",
   "execution_count": 70,
   "id": "b17d35ef",
   "metadata": {},
   "outputs": [
    {
     "name": "stdout",
     "output_type": "stream",
     "text": [
      "Employees with 3+ small claims (<= 25):\n"
     ]
    },
    {
     "data": {
      "text/plain": [
       "Series([], Name: count, dtype: int64)"
      ]
     },
     "execution_count": 70,
     "metadata": {},
     "output_type": "execute_result"
    }
   ],
   "source": [
    "# set small claims limit\n",
    "small_claims = expenses_df[expenses_df['amount'] <= 25]\n",
    "\n",
    "frequent_small_claims = small_claims['employee_id'].value_counts()\n",
    "frequent_small_claims = frequent_small_claims[frequent_small_claims >= 3]\n",
    "\n",
    "print(f\"Employees with 3+ small claims (<= 25):\")\n",
    "frequent_small_claims"
   ]
  },
  {
   "cell_type": "markdown",
   "id": "eeeeceb2",
   "metadata": {},
   "source": [
    "### Top spenders by total claim amount"
   ]
  },
  {
   "cell_type": "code",
   "execution_count": 71,
   "id": "7e3d16ba",
   "metadata": {},
   "outputs": [
    {
     "name": "stdout",
     "output_type": "stream",
     "text": [
      "Top 5 employees by total expense claimed:\n"
     ]
    },
    {
     "data": {
      "text/plain": [
       "employee_id\n",
       "8916    1995.60\n",
       "5176    1983.76\n",
       "4670    1978.91\n",
       "4342    1973.90\n",
       "1330    1948.88\n",
       "Name: amount, dtype: float64"
      ]
     },
     "execution_count": 71,
     "metadata": {},
     "output_type": "execute_result"
    }
   ],
   "source": [
    "top_claimers = expenses_df.groupby('employee_id')['amount'].sum().sort_values(ascending=False).head(5)\n",
    "\n",
    "print(\"Top 5 employees by total expense claimed:\")\n",
    "top_claimers"
   ]
  },
  {
   "cell_type": "markdown",
   "id": "3502b33f",
   "metadata": {},
   "source": [
    "### Expense timing (late night or backdated claims)"
   ]
  },
  {
   "cell_type": "code",
   "execution_count": 74,
   "id": "4b7c80b7",
   "metadata": {},
   "outputs": [
    {
     "data": {
      "text/plain": [
       "'Found 300 late-night expense claims'"
      ]
     },
     "execution_count": 74,
     "metadata": {},
     "output_type": "execute_result"
    }
   ],
   "source": [
    "# Claims after 10PM or backdated by more than 30 days are red flags\n",
    "# Time Check\n",
    "expenses_df['hour'] = pd.to_datetime(expenses_df['date'], format='%H:%M:%S').dt.hour\n",
    "\n",
    "late_night_claims = expenses_df[(expenses_df['hour'] >= 22) | (expenses_df['hour'] <= 5)]\n",
    "\n",
    "f\"Found {len(late_night_claims)} late-night expense claims\""
   ]
  },
  {
   "cell_type": "code",
   "execution_count": 76,
   "id": "594f64f9",
   "metadata": {},
   "outputs": [
    {
     "data": {
      "application/vnd.microsoft.datawrangler.viewer.v0+json": {
       "columns": [
        {
         "name": "index",
         "rawType": "int64",
         "type": "integer"
        },
        {
         "name": "employee_id",
         "rawType": "int64",
         "type": "integer"
        },
        {
         "name": "amount",
         "rawType": "float64",
         "type": "float"
        },
        {
         "name": "date",
         "rawType": "datetime64[ns]",
         "type": "datetime"
        }
       ],
       "conversionMethod": "pd.DataFrame",
       "ref": "bf69389b-d507-4a66-8a4a-b60105c7e713",
       "rows": [
        [
         "0",
         "9994",
         "1580.26",
         "2024-11-26 00:00:00"
        ],
        [
         "1",
         "1635",
         "903.64",
         "2025-03-07 00:00:00"
        ],
        [
         "2",
         "5151",
         "1168.67",
         "2024-12-05 00:00:00"
        ],
        [
         "3",
         "1778",
         "1091.85",
         "2025-01-16 00:00:00"
        ],
        [
         "4",
         "2900",
         "1406.25",
         "2024-11-12 00:00:00"
        ]
       ],
       "shape": {
        "columns": 3,
        "rows": 5
       }
      },
      "text/html": [
       "<div>\n",
       "<style scoped>\n",
       "    .dataframe tbody tr th:only-of-type {\n",
       "        vertical-align: middle;\n",
       "    }\n",
       "\n",
       "    .dataframe tbody tr th {\n",
       "        vertical-align: top;\n",
       "    }\n",
       "\n",
       "    .dataframe thead th {\n",
       "        text-align: right;\n",
       "    }\n",
       "</style>\n",
       "<table border=\"1\" class=\"dataframe\">\n",
       "  <thead>\n",
       "    <tr style=\"text-align: right;\">\n",
       "      <th></th>\n",
       "      <th>employee_id</th>\n",
       "      <th>amount</th>\n",
       "      <th>date</th>\n",
       "    </tr>\n",
       "  </thead>\n",
       "  <tbody>\n",
       "    <tr>\n",
       "      <th>0</th>\n",
       "      <td>9994</td>\n",
       "      <td>1580.26</td>\n",
       "      <td>2024-11-26</td>\n",
       "    </tr>\n",
       "    <tr>\n",
       "      <th>1</th>\n",
       "      <td>1635</td>\n",
       "      <td>903.64</td>\n",
       "      <td>2025-03-07</td>\n",
       "    </tr>\n",
       "    <tr>\n",
       "      <th>2</th>\n",
       "      <td>5151</td>\n",
       "      <td>1168.67</td>\n",
       "      <td>2024-12-05</td>\n",
       "    </tr>\n",
       "    <tr>\n",
       "      <th>3</th>\n",
       "      <td>1778</td>\n",
       "      <td>1091.85</td>\n",
       "      <td>2025-01-16</td>\n",
       "    </tr>\n",
       "    <tr>\n",
       "      <th>4</th>\n",
       "      <td>2900</td>\n",
       "      <td>1406.25</td>\n",
       "      <td>2024-11-12</td>\n",
       "    </tr>\n",
       "  </tbody>\n",
       "</table>\n",
       "</div>"
      ],
      "text/plain": [
       "   employee_id   amount       date\n",
       "0         9994  1580.26 2024-11-26\n",
       "1         1635   903.64 2025-03-07\n",
       "2         5151  1168.67 2024-12-05\n",
       "3         1778  1091.85 2025-01-16\n",
       "4         2900  1406.25 2024-11-12"
      ]
     },
     "execution_count": 76,
     "metadata": {},
     "output_type": "execute_result"
    }
   ],
   "source": [
    "late_night_claims[['employee_id', 'amount', 'date']].head()"
   ]
  },
  {
   "cell_type": "markdown",
   "id": "cc6ffc1d",
   "metadata": {},
   "source": [
    "## Exporting all the data we generated for creation of Dashboard in Excel"
   ]
  },
  {
   "cell_type": "code",
   "execution_count": 79,
   "id": "52e2ed19",
   "metadata": {},
   "outputs": [],
   "source": [
    "# Create folders if not exists\n",
    "import os\n",
    "\n",
    "os.makedirs(\"../audit_report\", exist_ok=True)\n",
    "\n",
    "excel_path = \"../audit_report/audit_analysis_report.xlsx\"\n",
    "\n",
    "with pd.ExcelWriter(excel_path, engine=\"openpyxl\") as writer:\n",
    "    gl_df.to_excel(writer, sheet_name=\"General Ledger\", index=False)\n",
    "    payments_df.to_excel(writer, sheet_name=\"Vendor Payments\", index=False)\n",
    "    expenses_df.to_excel(writer, sheet_name=\"Employee Expenses\", index=False)"
   ]
  }
 ],
 "metadata": {
  "kernelspec": {
   "display_name": "da",
   "language": "python",
   "name": "python3"
  },
  "language_info": {
   "codemirror_mode": {
    "name": "ipython",
    "version": 3
   },
   "file_extension": ".py",
   "mimetype": "text/x-python",
   "name": "python",
   "nbconvert_exporter": "python",
   "pygments_lexer": "ipython3",
   "version": "3.12.3"
  }
 },
 "nbformat": 4,
 "nbformat_minor": 5
}
