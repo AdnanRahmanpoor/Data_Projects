{
 "cells": [
  {
   "cell_type": "markdown",
   "id": "66c41c52",
   "metadata": {},
   "source": [
    "# Real Estate Market Performance Analysis - Dubai (2023 vs 2024)\n",
    "\n",
    "**Objectives**:\n",
    "To analyze and compare Dubai’s real estate market performance between the years 2023 and 2024, focusing on price trends, listing volume, and regional pricing insights\n",
    "\n",
    "**Dataset Source:**  \n",
    "Dubai Real Estate Sales Insights - Kaggle  \n",
    "https://www.kaggle.com/datasets/azharsaleem/dubai-real-estate-sales-insights\n",
    "\n",
    "*Reason for Exclusion of 2021 and 2022 from the dataset*: Data for years 2021 and 2022 is limited (only 2 and 69 records respectively), with skewed outliers. These years are excluded to ensure data reliability.\n",
    "\n",
    "**Key KPIs:**\n",
    "- Average Property Price\n",
    "- Price per SqFt\n",
    "- Listings Trend Over Time\n",
    "- Property Type Distribution\n",
    "- Price by Location\n",
    "- Completion Status vs Price"
   ]
  },
  {
   "cell_type": "markdown",
   "id": "0efaee79",
   "metadata": {},
   "source": [
    "## Importing Libraries"
   ]
  },
  {
   "cell_type": "code",
   "execution_count": 1,
   "id": "08b44c3d",
   "metadata": {},
   "outputs": [],
   "source": [
    "import numpy as np\n",
    "import pandas as pd\n",
    "import matplotlib.pyplot as plt\n",
    "import seaborn as sns\n",
    "from datetime import datetime"
   ]
  },
  {
   "cell_type": "markdown",
   "id": "4452a041",
   "metadata": {},
   "source": [
    "## Import the Dateset"
   ]
  },
  {
   "cell_type": "code",
   "execution_count": 2,
   "id": "2f304aa2",
   "metadata": {},
   "outputs": [
    {
     "data": {
      "application/vnd.microsoft.datawrangler.viewer.v0+json": {
       "columns": [
        {
         "name": "index",
         "rawType": "int64",
         "type": "integer"
        },
        {
         "name": "price",
         "rawType": "int64",
         "type": "integer"
        },
        {
         "name": "price_category",
         "rawType": "object",
         "type": "string"
        },
        {
         "name": "type",
         "rawType": "object",
         "type": "string"
        },
        {
         "name": "beds",
         "rawType": "int64",
         "type": "integer"
        },
        {
         "name": "baths",
         "rawType": "int64",
         "type": "integer"
        },
        {
         "name": "address",
         "rawType": "object",
         "type": "string"
        },
        {
         "name": "furnishing",
         "rawType": "object",
         "type": "string"
        },
        {
         "name": "completion_status",
         "rawType": "object",
         "type": "string"
        },
        {
         "name": "post_date",
         "rawType": "object",
         "type": "string"
        },
        {
         "name": "average_rent",
         "rawType": "int64",
         "type": "integer"
        },
        {
         "name": "building_name",
         "rawType": "object",
         "type": "string"
        },
        {
         "name": "year_of_completion",
         "rawType": "int64",
         "type": "integer"
        },
        {
         "name": "total_parking_spaces",
         "rawType": "int64",
         "type": "integer"
        },
        {
         "name": "total_floors",
         "rawType": "int64",
         "type": "integer"
        },
        {
         "name": "total_building_area_sqft",
         "rawType": "int64",
         "type": "integer"
        },
        {
         "name": "elevators",
         "rawType": "int64",
         "type": "integer"
        },
        {
         "name": "area_name",
         "rawType": "object",
         "type": "string"
        },
        {
         "name": "city",
         "rawType": "object",
         "type": "string"
        },
        {
         "name": "country",
         "rawType": "object",
         "type": "string"
        },
        {
         "name": "Latitude",
         "rawType": "float64",
         "type": "float"
        },
        {
         "name": "Longitude",
         "rawType": "float64",
         "type": "float"
        },
        {
         "name": "purpose",
         "rawType": "object",
         "type": "string"
        }
       ],
       "conversionMethod": "pd.DataFrame",
       "ref": "d7521882-23fb-4e7b-b9dd-10ee2c5fb830",
       "rows": [
        [
         "0",
         "1450000",
         "Medium",
         "Apartment",
         "1",
         "2",
         "The Bay, Business Bay, Dubai",
         "Furnished",
         "Ready",
         "2024-04-15",
         "0",
         "Unknown",
         "0",
         "0",
         "0",
         "0",
         "0",
         "Business Bay",
         "Dubai",
         "UAE",
         "25.18942655",
         "55.26481901527489",
         "For Sale"
        ],
        [
         "1",
         "6600000",
         "High",
         "Townhouse",
         "5",
         "5",
         "Brookfield, DAMAC Hills, Dubai",
         "Unfurnished",
         "Ready",
         "2024-04-15",
         "0",
         "Unknown",
         "0",
         "0",
         "0",
         "0",
         "0",
         "DAMAC Hills",
         "Dubai",
         "UAE",
         "25.0281481",
         "55.264246",
         "For Sale"
        ],
        [
         "2",
         "4825000",
         "High",
         "Apartment",
         "2",
         "3",
         "Vida Residence Downtown, Downtown Dubai, Dubai",
         "Unfurnished",
         "Ready",
         "2024-04-18",
         "288929",
         "VIDA RESIDENCE DOWNTOWN",
         "2018",
         "510",
         "56",
         "1",
         "11",
         "Downtown Dubai",
         "Dubai",
         "UAE",
         "25.18668425",
         "55.27470526460112",
         "For Sale"
        ],
        [
         "3",
         "980000",
         "Average",
         "Apartment",
         "3",
         "3",
         "Building 39, Al Reef Downtown, Al Reef, Abu Dhabi",
         "Unfurnished",
         "Ready",
         "2024-01-03",
         "73384",
         "Unknown",
         "0",
         "0",
         "0",
         "0",
         "0",
         "Al Reef",
         "Abu Dhabi",
         "UAE",
         "24.4664366",
         "54.65689142777212",
         "For Sale"
        ],
        [
         "4",
         "2499999",
         "Medium",
         "Townhouse",
         "3",
         "4",
         "Nima, The Valley, Dubai",
         "Furnished",
         "Off-Plan",
         "2024-02-28",
         "0",
         "Unknown",
         "0",
         "0",
         "0",
         "0",
         "0",
         "The Valley",
         "Dubai",
         "UAE",
         "25.019221",
         "55.447201",
         "For Sale"
        ]
       ],
       "shape": {
        "columns": 22,
        "rows": 5
       }
      },
      "text/html": [
       "<div>\n",
       "<style scoped>\n",
       "    .dataframe tbody tr th:only-of-type {\n",
       "        vertical-align: middle;\n",
       "    }\n",
       "\n",
       "    .dataframe tbody tr th {\n",
       "        vertical-align: top;\n",
       "    }\n",
       "\n",
       "    .dataframe thead th {\n",
       "        text-align: right;\n",
       "    }\n",
       "</style>\n",
       "<table border=\"1\" class=\"dataframe\">\n",
       "  <thead>\n",
       "    <tr style=\"text-align: right;\">\n",
       "      <th></th>\n",
       "      <th>price</th>\n",
       "      <th>price_category</th>\n",
       "      <th>type</th>\n",
       "      <th>beds</th>\n",
       "      <th>baths</th>\n",
       "      <th>address</th>\n",
       "      <th>furnishing</th>\n",
       "      <th>completion_status</th>\n",
       "      <th>post_date</th>\n",
       "      <th>average_rent</th>\n",
       "      <th>...</th>\n",
       "      <th>total_parking_spaces</th>\n",
       "      <th>total_floors</th>\n",
       "      <th>total_building_area_sqft</th>\n",
       "      <th>elevators</th>\n",
       "      <th>area_name</th>\n",
       "      <th>city</th>\n",
       "      <th>country</th>\n",
       "      <th>Latitude</th>\n",
       "      <th>Longitude</th>\n",
       "      <th>purpose</th>\n",
       "    </tr>\n",
       "  </thead>\n",
       "  <tbody>\n",
       "    <tr>\n",
       "      <th>0</th>\n",
       "      <td>1450000</td>\n",
       "      <td>Medium</td>\n",
       "      <td>Apartment</td>\n",
       "      <td>1</td>\n",
       "      <td>2</td>\n",
       "      <td>The Bay, Business Bay, Dubai</td>\n",
       "      <td>Furnished</td>\n",
       "      <td>Ready</td>\n",
       "      <td>2024-04-15</td>\n",
       "      <td>0</td>\n",
       "      <td>...</td>\n",
       "      <td>0</td>\n",
       "      <td>0</td>\n",
       "      <td>0</td>\n",
       "      <td>0</td>\n",
       "      <td>Business Bay</td>\n",
       "      <td>Dubai</td>\n",
       "      <td>UAE</td>\n",
       "      <td>25.189427</td>\n",
       "      <td>55.264819</td>\n",
       "      <td>For Sale</td>\n",
       "    </tr>\n",
       "    <tr>\n",
       "      <th>1</th>\n",
       "      <td>6600000</td>\n",
       "      <td>High</td>\n",
       "      <td>Townhouse</td>\n",
       "      <td>5</td>\n",
       "      <td>5</td>\n",
       "      <td>Brookfield, DAMAC Hills, Dubai</td>\n",
       "      <td>Unfurnished</td>\n",
       "      <td>Ready</td>\n",
       "      <td>2024-04-15</td>\n",
       "      <td>0</td>\n",
       "      <td>...</td>\n",
       "      <td>0</td>\n",
       "      <td>0</td>\n",
       "      <td>0</td>\n",
       "      <td>0</td>\n",
       "      <td>DAMAC Hills</td>\n",
       "      <td>Dubai</td>\n",
       "      <td>UAE</td>\n",
       "      <td>25.028148</td>\n",
       "      <td>55.264246</td>\n",
       "      <td>For Sale</td>\n",
       "    </tr>\n",
       "    <tr>\n",
       "      <th>2</th>\n",
       "      <td>4825000</td>\n",
       "      <td>High</td>\n",
       "      <td>Apartment</td>\n",
       "      <td>2</td>\n",
       "      <td>3</td>\n",
       "      <td>Vida Residence Downtown, Downtown Dubai, Dubai</td>\n",
       "      <td>Unfurnished</td>\n",
       "      <td>Ready</td>\n",
       "      <td>2024-04-18</td>\n",
       "      <td>288929</td>\n",
       "      <td>...</td>\n",
       "      <td>510</td>\n",
       "      <td>56</td>\n",
       "      <td>1</td>\n",
       "      <td>11</td>\n",
       "      <td>Downtown Dubai</td>\n",
       "      <td>Dubai</td>\n",
       "      <td>UAE</td>\n",
       "      <td>25.186684</td>\n",
       "      <td>55.274705</td>\n",
       "      <td>For Sale</td>\n",
       "    </tr>\n",
       "    <tr>\n",
       "      <th>3</th>\n",
       "      <td>980000</td>\n",
       "      <td>Average</td>\n",
       "      <td>Apartment</td>\n",
       "      <td>3</td>\n",
       "      <td>3</td>\n",
       "      <td>Building 39, Al Reef Downtown, Al Reef, Abu Dhabi</td>\n",
       "      <td>Unfurnished</td>\n",
       "      <td>Ready</td>\n",
       "      <td>2024-01-03</td>\n",
       "      <td>73384</td>\n",
       "      <td>...</td>\n",
       "      <td>0</td>\n",
       "      <td>0</td>\n",
       "      <td>0</td>\n",
       "      <td>0</td>\n",
       "      <td>Al Reef</td>\n",
       "      <td>Abu Dhabi</td>\n",
       "      <td>UAE</td>\n",
       "      <td>24.466437</td>\n",
       "      <td>54.656891</td>\n",
       "      <td>For Sale</td>\n",
       "    </tr>\n",
       "    <tr>\n",
       "      <th>4</th>\n",
       "      <td>2499999</td>\n",
       "      <td>Medium</td>\n",
       "      <td>Townhouse</td>\n",
       "      <td>3</td>\n",
       "      <td>4</td>\n",
       "      <td>Nima, The Valley, Dubai</td>\n",
       "      <td>Furnished</td>\n",
       "      <td>Off-Plan</td>\n",
       "      <td>2024-02-28</td>\n",
       "      <td>0</td>\n",
       "      <td>...</td>\n",
       "      <td>0</td>\n",
       "      <td>0</td>\n",
       "      <td>0</td>\n",
       "      <td>0</td>\n",
       "      <td>The Valley</td>\n",
       "      <td>Dubai</td>\n",
       "      <td>UAE</td>\n",
       "      <td>25.019221</td>\n",
       "      <td>55.447201</td>\n",
       "      <td>For Sale</td>\n",
       "    </tr>\n",
       "  </tbody>\n",
       "</table>\n",
       "<p>5 rows × 22 columns</p>\n",
       "</div>"
      ],
      "text/plain": [
       "     price price_category       type  beds  baths  \\\n",
       "0  1450000         Medium  Apartment     1      2   \n",
       "1  6600000           High  Townhouse     5      5   \n",
       "2  4825000           High  Apartment     2      3   \n",
       "3   980000        Average  Apartment     3      3   \n",
       "4  2499999         Medium  Townhouse     3      4   \n",
       "\n",
       "                                             address   furnishing  \\\n",
       "0                       The Bay, Business Bay, Dubai    Furnished   \n",
       "1                     Brookfield, DAMAC Hills, Dubai  Unfurnished   \n",
       "2     Vida Residence Downtown, Downtown Dubai, Dubai  Unfurnished   \n",
       "3  Building 39, Al Reef Downtown, Al Reef, Abu Dhabi  Unfurnished   \n",
       "4                            Nima, The Valley, Dubai    Furnished   \n",
       "\n",
       "  completion_status   post_date  average_rent  ... total_parking_spaces  \\\n",
       "0             Ready  2024-04-15             0  ...                    0   \n",
       "1             Ready  2024-04-15             0  ...                    0   \n",
       "2             Ready  2024-04-18        288929  ...                  510   \n",
       "3             Ready  2024-01-03         73384  ...                    0   \n",
       "4          Off-Plan  2024-02-28             0  ...                    0   \n",
       "\n",
       "   total_floors  total_building_area_sqft  elevators       area_name  \\\n",
       "0             0                         0          0    Business Bay   \n",
       "1             0                         0          0     DAMAC Hills   \n",
       "2            56                         1         11  Downtown Dubai   \n",
       "3             0                         0          0         Al Reef   \n",
       "4             0                         0          0      The Valley   \n",
       "\n",
       "        city country   Latitude  Longitude   purpose  \n",
       "0      Dubai     UAE  25.189427  55.264819  For Sale  \n",
       "1      Dubai     UAE  25.028148  55.264246  For Sale  \n",
       "2      Dubai     UAE  25.186684  55.274705  For Sale  \n",
       "3  Abu Dhabi     UAE  24.466437  54.656891  For Sale  \n",
       "4      Dubai     UAE  25.019221  55.447201  For Sale  \n",
       "\n",
       "[5 rows x 22 columns]"
      ]
     },
     "execution_count": 2,
     "metadata": {},
     "output_type": "execute_result"
    }
   ],
   "source": [
    "df = pd.read_csv('data/dubai_real_estate_sales.csv')\n",
    "\n",
    "# View some data from dataset to ensure proper import of the dataset\n",
    "df.head() "
   ]
  },
  {
   "cell_type": "markdown",
   "id": "174896f9",
   "metadata": {},
   "source": [
    "## Data Cleaning & Transformation\n"
   ]
  },
  {
   "cell_type": "markdown",
   "id": "909e1798",
   "metadata": {},
   "source": [
    "### Check Basic Info"
   ]
  },
  {
   "cell_type": "code",
   "execution_count": 3,
   "id": "98ae03d1",
   "metadata": {},
   "outputs": [
    {
     "name": "stdout",
     "output_type": "stream",
     "text": [
      "<class 'pandas.core.frame.DataFrame'>\n",
      "RangeIndex: 41381 entries, 0 to 41380\n",
      "Data columns (total 22 columns):\n",
      " #   Column                    Non-Null Count  Dtype  \n",
      "---  ------                    --------------  -----  \n",
      " 0   price                     41381 non-null  int64  \n",
      " 1   price_category            41381 non-null  object \n",
      " 2   type                      41381 non-null  object \n",
      " 3   beds                      41381 non-null  int64  \n",
      " 4   baths                     41381 non-null  int64  \n",
      " 5   address                   41381 non-null  object \n",
      " 6   furnishing                41381 non-null  object \n",
      " 7   completion_status         41381 non-null  object \n",
      " 8   post_date                 41381 non-null  object \n",
      " 9   average_rent              41381 non-null  int64  \n",
      " 10  building_name             41381 non-null  object \n",
      " 11  year_of_completion        41381 non-null  int64  \n",
      " 12  total_parking_spaces      41381 non-null  int64  \n",
      " 13  total_floors              41381 non-null  int64  \n",
      " 14  total_building_area_sqft  41381 non-null  int64  \n",
      " 15  elevators                 41381 non-null  int64  \n",
      " 16  area_name                 41381 non-null  object \n",
      " 17  city                      41381 non-null  object \n",
      " 18  country                   41381 non-null  object \n",
      " 19  Latitude                  41363 non-null  float64\n",
      " 20  Longitude                 41363 non-null  float64\n",
      " 21  purpose                   41381 non-null  object \n",
      "dtypes: float64(2), int64(9), object(11)\n",
      "memory usage: 6.9+ MB\n"
     ]
    }
   ],
   "source": [
    "# Check Dataset Info\n",
    "df.info()"
   ]
  },
  {
   "cell_type": "markdown",
   "id": "9346e94f",
   "metadata": {},
   "source": [
    "### Convert Date column"
   ]
  },
  {
   "cell_type": "code",
   "execution_count": 9,
   "id": "01c46ea4",
   "metadata": {},
   "outputs": [],
   "source": [
    "df['post_date'] = pd.to_datetime(df['post_date'], errors='coerce')"
   ]
  },
  {
   "cell_type": "markdown",
   "id": "7bb372fc",
   "metadata": {},
   "source": [
    "### Drop Rows with missing price or location data (essential for proper analysis)"
   ]
  },
  {
   "cell_type": "code",
   "execution_count": 67,
   "id": "ba0484e0",
   "metadata": {},
   "outputs": [],
   "source": [
    "# Selecting the columns where we want to drop the missing data from\n",
    "df = df.dropna(subset=['price', 'city', 'Latitude', 'Longitude', 'type'])"
   ]
  },
  {
   "cell_type": "markdown",
   "id": "1046a3cb",
   "metadata": {},
   "source": [
    "### Drop Rows with City other than Dubai"
   ]
  },
  {
   "cell_type": "code",
   "execution_count": 68,
   "id": "3964be77",
   "metadata": {},
   "outputs": [],
   "source": [
    "df = df[df['city'] == 'Dubai']  "
   ]
  },
  {
   "cell_type": "markdown",
   "id": "0076228c",
   "metadata": {},
   "source": [
    "### Proper formatting for Price Column"
   ]
  },
  {
   "cell_type": "code",
   "execution_count": 69,
   "id": "038e2950",
   "metadata": {},
   "outputs": [],
   "source": [
    "df.loc[:, 'price'] = pd.to_numeric(df['price'], errors='coerce', downcast='integer')"
   ]
  },
  {
   "cell_type": "markdown",
   "id": "65f746c6",
   "metadata": {},
   "source": [
    "### Create Month and Year Columns"
   ]
  },
  {
   "cell_type": "code",
   "execution_count": 70,
   "id": "18598a9f",
   "metadata": {},
   "outputs": [],
   "source": [
    "# Ensure the post_date column is in datetime format before extracting year and month\n",
    "df.loc[:, 'year'] = df['post_date'].dt.year\n",
    "df.loc[:, 'month'] = df['post_date'].dt.month"
   ]
  },
  {
   "cell_type": "markdown",
   "id": "7d932ea0",
   "metadata": {},
   "source": [
    "### Filter the Dataset for the required years, i.e 2023 and 2024"
   ]
  },
  {
   "cell_type": "code",
   "execution_count": 71,
   "id": "29a819df",
   "metadata": {},
   "outputs": [],
   "source": [
    "df = df[df['year'].isin([2023, 2024])]"
   ]
  },
  {
   "cell_type": "markdown",
   "id": "4eeb6528",
   "metadata": {},
   "source": [
    "### Create Price/SqFT if area available"
   ]
  },
  {
   "cell_type": "code",
   "execution_count": 72,
   "id": "39d02f4b",
   "metadata": {},
   "outputs": [],
   "source": [
    "# Multiply Price x Area\n",
    "df.loc[: ,'price_per_sqft'] = df['price'] / df['total_building_area_sqft']\n",
    "\n",
    "# Remove incorrect data to NaN\n",
    "df.loc[:, 'price_per_sqft'] = df['price_per_sqft'].replace([np.inf, -np.inf], np.nan)"
   ]
  },
  {
   "cell_type": "markdown",
   "id": "e4cc01f2",
   "metadata": {},
   "source": [
    "## Exploratory Data Analysis (EDA)\n",
    "\n",
    "### Average Price by year"
   ]
  },
  {
   "cell_type": "code",
   "execution_count": 73,
   "id": "86e119ff",
   "metadata": {},
   "outputs": [
    {
     "data": {
      "image/png": "[encoded data removed]",
      "text/plain": [
       "<Figure size 640x480 with 1 Axes>"
      ]
     },
     "metadata": {},
     "output_type": "display_data"
    }
   ],
   "source": [
    "avg_price = df.groupby('year')['price'].mean().reset_index()\n",
    "\n",
    "# Setting the Theme for the plots\n",
    "sns.set(style=\"whitegrid\")\n",
    "\n",
    "# Create a function to format numbers with commas and no decimals\n",
    "def format_price(x):\n",
    "    return f\"{int(x):,}\"\n",
    "\n",
    "# Create the formatted labels beforehand\n",
    "formatted_prices = [format_price(price) for price in avg_price['price']]\n",
    "\n",
    "ax = sns.barplot(data=avg_price, x='year', y='price')\n",
    "ax.bar_label(ax.containers[0], labels=formatted_prices)\n",
    "plt.title(\"Average Price by Year\")\n",
    "plt.xlabel(\"Year\")\n",
    "plt.ylabel(\"Price (AED)\")\n",
    "plt.show()"
   ]
  },
  {
   "cell_type": "markdown",
   "id": "c38a379d",
   "metadata": {},
   "source": [
    "### Listings Volume by Year"
   ]
  },
  {
   "cell_type": "code",
   "execution_count": 74,
   "id": "8d00f266",
   "metadata": {},
   "outputs": [
    {
     "data": {
      "image/png": "[encoded data removed]",
      "text/plain": [
       "<Figure size 640x480 with 1 Axes>"
      ]
     },
     "metadata": {},
     "output_type": "display_data"
    }
   ],
   "source": [
    "listings_by_year = df.groupby('year').size().reset_index(name='count')\n",
    "\n",
    "sns.barplot(data=listings_by_year, x='year', y='count')\n",
    "plt.title(\"Total Property Listings: 2023 vs 2024\")\n",
    "plt.ylabel(\"Number of Listings\")\n",
    "plt.xlabel(\"Year\")\n",
    "plt.show()"
   ]
  },
  {
   "cell_type": "markdown",
   "id": "95adb984",
   "metadata": {},
   "source": [
    "### Top 10 Areas by Avg Price (Per Year)"
   ]
  },
  {
   "cell_type": "code",
   "execution_count": 75,
   "id": "f6d80883",
   "metadata": {},
   "outputs": [
    {
     "data": {
      "image/png": "[encoded data removed]",
      "text/plain": [
       "<Figure size 1600x600 with 2 Axes>"
      ]
     },
     "metadata": {},
     "output_type": "display_data"
    }
   ],
   "source": [
    "top_areas = df.groupby(['year', 'area_name'])['price'].mean().reset_index()\n",
    "top_areas = top_areas.sort_values(['year', 'price'], ascending=[True, False])\n",
    "\n",
    "# Pick top 10 areas for each year\n",
    "top_2023 = top_areas[top_areas['year'] == 2023].head(10)\n",
    "top_2024 = top_areas[top_areas['year'] == 2024].head(10)\n",
    "\n",
    "fig, axes = plt.subplots(1, 2, figsize=(16, 6))\n",
    "sns.barplot(data=top_2023, x='price', y='area_name', ax=axes[0])\n",
    "axes[0].set_title(\"Top 10 Expensive Areas - 2023\")\n",
    "axes[0].set_xlabel(\"Avg Price (AED in Millions)\")\n",
    "axes[0].set_ylabel(\"Area\")\n",
    "\n",
    "sns.barplot(data=top_2024, x='price', y='area_name', ax=axes[1])\n",
    "axes[1].set_title(\"Top 10 Expensive Areas - 2024\")\n",
    "axes[1].set_xlabel(\"Avg Price (AED in Millions)\")\n",
    "axes[1].set_ylabel(\"Area\")\n",
    "\n",
    "\n",
    "plt.tight_layout()\n",
    "plt.show()\n"
   ]
  },
  {
   "cell_type": "markdown",
   "id": "d0446616",
   "metadata": {},
   "source": [
    "### Property Type Share Comparison"
   ]
  },
  {
   "cell_type": "code",
   "execution_count": 80,
   "id": "c336b18e",
   "metadata": {},
   "outputs": [
    {
     "name": "stderr",
     "output_type": "stream",
     "text": [
      "C:\\Users\\adnan\\AppData\\Local\\Temp\\ipykernel_18708\\2780309638.py:8: UserWarning: set_ticklabels() should only be used with a fixed number of ticks, i.e. after set_ticks() or using a FixedLocator.\n",
      "  ax[0].set_xticklabels(ax[0].get_xticklabels(), rotation=45)\n",
      "C:\\Users\\adnan\\AppData\\Local\\Temp\\ipykernel_18708\\2780309638.py:12: UserWarning: set_ticklabels() should only be used with a fixed number of ticks, i.e. after set_ticks() or using a FixedLocator.\n",
      "  ax[1].set_xticklabels(ax[0].get_xticklabels(), rotation=45)\n"
     ]
    },
    {
     "data": {
      "text/plain": [
       "[Text(0, 0, 'Apartment'),\n",
       " Text(1, 0, 'Hotel Apartment'),\n",
       " Text(2, 0, 'Penthouse'),\n",
       " Text(3, 0, 'Residential Building'),\n",
       " Text(4, 0, 'Residential Floor'),\n",
       " Text(5, 0, 'Residential Plot'),\n",
       " Text(6, 0, 'Townhouse'),\n",
       " Text(7, 0, 'Villa'),\n",
       " Text(8, 0, '')]"
      ]
     },
     "execution_count": 80,
     "metadata": {},
     "output_type": "execute_result"
    },
    {
     "data": {
      "image/png": "[encoded data removed]",
      "text/plain": [
       "<Figure size 1400x600 with 2 Axes>"
      ]
     },
     "metadata": {},
     "output_type": "display_data"
    }
   ],
   "source": [
    "type_share = df.groupby(['year', 'type']).size().reset_index(name='count')\n",
    "type_share['percent'] = type_share.groupby('year')['count'].transform(lambda x: x / x.sum() * 100)\n",
    "\n",
    "# Plot for 2023 vs 2024\n",
    "fig, ax = plt.subplots(1, 2, figsize=(14, 6))\n",
    "sns.barplot(data=type_share[type_share['year'] == 2023], x='type', y='percent', ax=ax[0])\n",
    "ax[0].set_title(\"Property Type Share - 2023\")\n",
    "ax[0].set_xticklabels(ax[0].get_xticklabels(), rotation=45)\n",
    "\n",
    "sns.barplot(data=type_share[type_share['year'] == 2024], x='type', y='percent', ax=ax[1])\n",
    "ax[1].set_title(\"Property Type Share - 2024\")\n",
    "ax[1].set_xticklabels(ax[0].get_xticklabels(), rotation=45)\n"
   ]
  },
  {
   "cell_type": "markdown",
   "id": "755f19e7",
   "metadata": {},
   "source": [
    "# Key Insights:\n",
    "\n",
    "- The average property price remained stable from 2023 to 2024 (~4.2M AED), with a slight increase in luxury listings.\n",
    "- Listings volume increased significantly in 2024, especially in high-end areas.\n",
    "- Area-wise price rankings changed — with new areas entering the top 10 in 2024.\n",
    "- Apartment share dropped slightly in 2024 as villa and townhome listings increased.\n",
    "\n",
    "This comparison reveals changing demand and supply patterns in Dubai’s property market post-COVID.\n"
   ]
  },
  {
   "cell_type": "code",
   "execution_count": null,
   "id": "e04d4172",
   "metadata": {},
   "outputs": [],
   "source": []
  }
 ],
 "metadata": {
  "kernelspec": {
   "display_name": "da",
   "language": "python",
   "name": "python3"
  },
  "language_info": {
   "codemirror_mode": {
    "name": "ipython",
    "version": 3
   },
   "file_extension": ".py",
   "mimetype": "text/x-python",
   "name": "python",
   "nbconvert_exporter": "python",
   "pygments_lexer": "ipython3",
   "version": "3.12.3"
  }
 },
 "nbformat": 4,
 "nbformat_minor": 5
}
