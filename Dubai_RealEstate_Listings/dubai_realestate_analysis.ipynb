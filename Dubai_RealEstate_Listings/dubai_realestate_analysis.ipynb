{
 "cells": [
  {
   "cell_type": "markdown",
   "id": "88033455",
   "metadata": {},
   "source": [
    "# Dubai Real Estate Property Listings Analysis\n",
    "In this project we will look at latest (Apr 2025) property listings in Dubai.\n",
    "\n",
    "## About the Dataset\n",
    "*Source*: [Kaggle - Dubai Property Listings](https://www.kaggle.com/datasets/thapasajan/dubai-real-estate-property-listings)\n",
    "> This dataset contains curated property listings from Dubai, UAE, showcasing various real estate options including apartments, studios, and townhouses. The data provides a snapshot of the vibrant Dubai property market, covering a range of attributes such as price, size, number of bedrooms and bathrooms, furnishing status, and project handover dates."
   ]
  },
  {
   "cell_type": "markdown",
   "id": "b2ca2873",
   "metadata": {},
   "source": [
    "## 1. Importing of the Libraries and the Dataset\n"
   ]
  },
  {
   "cell_type": "code",
   "execution_count": 3,
   "id": "69ca86b8",
   "metadata": {},
   "outputs": [
    {
     "name": "stdout",
     "output_type": "stream",
     "text": [
      "Libraries imported successfully\n"
     ]
    }
   ],
   "source": [
    "# Importing of Libraries\n",
    "import numpy as np\n",
    "import pandas as pd\n",
    "import matplotlib.pyplot as plt\n",
    "import matplotlib.ticker as ticker\n",
    "import seaborn as sns\n",
    "import plotly.express as px\n",
    "\n",
    "print('Libraries imported successfully')"
   ]
  },
  {
   "cell_type": "code",
   "execution_count": 4,
   "id": "454f801d",
   "metadata": {},
   "outputs": [
    {
     "name": "stdout",
     "output_type": "stream",
     "text": [
      "Dataset imported successfully\n"
     ]
    }
   ],
   "source": [
    "# Importing of Dataset\n",
    "df = pd.read_csv('data/dubai_realestate_dataset.csv')\n",
    "\n",
    "print(\"Dataset imported successfully\")"
   ]
  },
  {
   "cell_type": "markdown",
   "id": "323f966b",
   "metadata": {},
   "source": [
    "## 2. Data Overview"
   ]
  },
  {
   "cell_type": "code",
   "execution_count": 5,
   "id": "0ddf37f2",
   "metadata": {},
   "outputs": [
    {
     "data": {
      "application/vnd.microsoft.datawrangler.viewer.v0+json": {
       "columns": [
        {
         "name": "index",
         "rawType": "int64",
         "type": "integer"
        },
        {
         "name": "price",
         "rawType": "object",
         "type": "string"
        },
        {
         "name": "bedroom",
         "rawType": "object",
         "type": "string"
        },
        {
         "name": "bathroom",
         "rawType": "object",
         "type": "string"
        },
        {
         "name": "area(sqft)",
         "rawType": "object",
         "type": "string"
        },
        {
         "name": "country",
         "rawType": "object",
         "type": "string"
        },
        {
         "name": "city",
         "rawType": "object",
         "type": "string"
        },
        {
         "name": "address",
         "rawType": "object",
         "type": "string"
        },
        {
         "name": "propert_type",
         "rawType": "object",
         "type": "string"
        },
        {
         "name": "purpose",
         "rawType": "object",
         "type": "string"
        },
        {
         "name": "furnishing",
         "rawType": "object",
         "type": "string"
        },
        {
         "name": "completion_status",
         "rawType": "object",
         "type": "string"
        },
        {
         "name": "handover",
         "rawType": "object",
         "type": "string"
        },
        {
         "name": "project_name",
         "rawType": "object",
         "type": "string"
        }
       ],
       "conversionMethod": "pd.DataFrame",
       "ref": "ff701e0b-2de3-4a65-885d-7edde7bd34b1",
       "rows": [
        [
         "0",
         "1,800,000",
         "3 beds",
         "4 baths",
         "1,208 sqft",
         " UAE",
         " Dubai",
         " DAMAC Hills 2 (Akoya by DAMAC)",
         "Townhouse",
         "Sale",
         "Unfurnished",
         "Off-Plan",
         "Q2 2025",
         "Camelia Villas"
        ],
        [
         "1",
         "325,000",
         "Studio",
         "1 bath",
         "483 sqft",
         " UAE",
         " Dubai",
         " International City",
         "Apartment",
         "Sale",
         "Unfurnished",
         "Ready",
         "Q2 2025",
         "Camelia Villas"
        ],
        [
         "2",
         "470,000",
         "Studio",
         "1 bath",
         "428 sqft",
         " UAE",
         " Dubai",
         " Arjan",
         "Apartment",
         "Sale",
         "Furnished",
         "Ready",
         "Q2 2025",
         "Camelia Villas"
        ],
        [
         "3",
         "1,120,000",
         "1 bed",
         "1 bath",
         "706 sqft",
         " UAE",
         " Dubai",
         " Dubai South",
         "Apartment",
         "Sale",
         "Unfurnished",
         "Off-Plan",
         "Q3 2029",
         "Camelia Villas"
        ],
        [
         "4",
         "2,127,888",
         "2 beds",
         "2 baths",
         "1,149 sqft",
         " UAE",
         " Dubai",
         " Dubai South",
         "Apartment",
         "Sale",
         "Unfurnished",
         "Off-Plan",
         "Q3 2029",
         "Camelia Villas"
        ]
       ],
       "shape": {
        "columns": 13,
        "rows": 5
       }
      },
      "text/html": [
       "<div>\n",
       "<style scoped>\n",
       "    .dataframe tbody tr th:only-of-type {\n",
       "        vertical-align: middle;\n",
       "    }\n",
       "\n",
       "    .dataframe tbody tr th {\n",
       "        vertical-align: top;\n",
       "    }\n",
       "\n",
       "    .dataframe thead th {\n",
       "        text-align: right;\n",
       "    }\n",
       "</style>\n",
       "<table border=\"1\" class=\"dataframe\">\n",
       "  <thead>\n",
       "    <tr style=\"text-align: right;\">\n",
       "      <th></th>\n",
       "      <th>price</th>\n",
       "      <th>bedroom</th>\n",
       "      <th>bathroom</th>\n",
       "      <th>area(sqft)</th>\n",
       "      <th>country</th>\n",
       "      <th>city</th>\n",
       "      <th>address</th>\n",
       "      <th>propert_type</th>\n",
       "      <th>purpose</th>\n",
       "      <th>furnishing</th>\n",
       "      <th>completion_status</th>\n",
       "      <th>handover</th>\n",
       "      <th>project_name</th>\n",
       "    </tr>\n",
       "  </thead>\n",
       "  <tbody>\n",
       "    <tr>\n",
       "      <th>0</th>\n",
       "      <td>1,800,000</td>\n",
       "      <td>3 beds</td>\n",
       "      <td>4 baths</td>\n",
       "      <td>1,208 sqft</td>\n",
       "      <td>UAE</td>\n",
       "      <td>Dubai</td>\n",
       "      <td>DAMAC Hills 2 (Akoya by DAMAC)</td>\n",
       "      <td>Townhouse</td>\n",
       "      <td>Sale</td>\n",
       "      <td>Unfurnished</td>\n",
       "      <td>Off-Plan</td>\n",
       "      <td>Q2 2025</td>\n",
       "      <td>Camelia Villas</td>\n",
       "    </tr>\n",
       "    <tr>\n",
       "      <th>1</th>\n",
       "      <td>325,000</td>\n",
       "      <td>Studio</td>\n",
       "      <td>1 bath</td>\n",
       "      <td>483 sqft</td>\n",
       "      <td>UAE</td>\n",
       "      <td>Dubai</td>\n",
       "      <td>International City</td>\n",
       "      <td>Apartment</td>\n",
       "      <td>Sale</td>\n",
       "      <td>Unfurnished</td>\n",
       "      <td>Ready</td>\n",
       "      <td>Q2 2025</td>\n",
       "      <td>Camelia Villas</td>\n",
       "    </tr>\n",
       "    <tr>\n",
       "      <th>2</th>\n",
       "      <td>470,000</td>\n",
       "      <td>Studio</td>\n",
       "      <td>1 bath</td>\n",
       "      <td>428 sqft</td>\n",
       "      <td>UAE</td>\n",
       "      <td>Dubai</td>\n",
       "      <td>Arjan</td>\n",
       "      <td>Apartment</td>\n",
       "      <td>Sale</td>\n",
       "      <td>Furnished</td>\n",
       "      <td>Ready</td>\n",
       "      <td>Q2 2025</td>\n",
       "      <td>Camelia Villas</td>\n",
       "    </tr>\n",
       "    <tr>\n",
       "      <th>3</th>\n",
       "      <td>1,120,000</td>\n",
       "      <td>1 bed</td>\n",
       "      <td>1 bath</td>\n",
       "      <td>706 sqft</td>\n",
       "      <td>UAE</td>\n",
       "      <td>Dubai</td>\n",
       "      <td>Dubai South</td>\n",
       "      <td>Apartment</td>\n",
       "      <td>Sale</td>\n",
       "      <td>Unfurnished</td>\n",
       "      <td>Off-Plan</td>\n",
       "      <td>Q3 2029</td>\n",
       "      <td>Camelia Villas</td>\n",
       "    </tr>\n",
       "    <tr>\n",
       "      <th>4</th>\n",
       "      <td>2,127,888</td>\n",
       "      <td>2 beds</td>\n",
       "      <td>2 baths</td>\n",
       "      <td>1,149 sqft</td>\n",
       "      <td>UAE</td>\n",
       "      <td>Dubai</td>\n",
       "      <td>Dubai South</td>\n",
       "      <td>Apartment</td>\n",
       "      <td>Sale</td>\n",
       "      <td>Unfurnished</td>\n",
       "      <td>Off-Plan</td>\n",
       "      <td>Q3 2029</td>\n",
       "      <td>Camelia Villas</td>\n",
       "    </tr>\n",
       "  </tbody>\n",
       "</table>\n",
       "</div>"
      ],
      "text/plain": [
       "       price bedroom bathroom  area(sqft) country    city  \\\n",
       "0  1,800,000  3 beds  4 baths  1,208 sqft     UAE   Dubai   \n",
       "1    325,000  Studio   1 bath    483 sqft     UAE   Dubai   \n",
       "2    470,000  Studio   1 bath    428 sqft     UAE   Dubai   \n",
       "3  1,120,000   1 bed   1 bath    706 sqft     UAE   Dubai   \n",
       "4  2,127,888  2 beds  2 baths  1,149 sqft     UAE   Dubai   \n",
       "\n",
       "                           address propert_type purpose   furnishing  \\\n",
       "0   DAMAC Hills 2 (Akoya by DAMAC)    Townhouse    Sale  Unfurnished   \n",
       "1               International City    Apartment    Sale  Unfurnished   \n",
       "2                            Arjan    Apartment    Sale    Furnished   \n",
       "3                      Dubai South    Apartment    Sale  Unfurnished   \n",
       "4                      Dubai South    Apartment    Sale  Unfurnished   \n",
       "\n",
       "  completion_status handover    project_name  \n",
       "0          Off-Plan  Q2 2025  Camelia Villas  \n",
       "1             Ready  Q2 2025  Camelia Villas  \n",
       "2             Ready  Q2 2025  Camelia Villas  \n",
       "3          Off-Plan  Q3 2029  Camelia Villas  \n",
       "4          Off-Plan  Q3 2029  Camelia Villas  "
      ]
     },
     "execution_count": 5,
     "metadata": {},
     "output_type": "execute_result"
    }
   ],
   "source": [
    "# View Data\n",
    "df.head()"
   ]
  },
  {
   "cell_type": "code",
   "execution_count": 6,
   "id": "a7c8cf3f",
   "metadata": {},
   "outputs": [
    {
     "name": "stdout",
     "output_type": "stream",
     "text": [
      "Dataset Shape (rows, cols): (5380, 13)\n",
      "Column Names:\n",
      " ['price', 'bedroom', 'bathroom', 'area(sqft)', 'country', 'city', 'address', 'propert_type', 'purpose', 'furnishing', 'completion_status', 'handover', 'project_name']\n"
     ]
    }
   ],
   "source": [
    "# Check dataset shape\n",
    "print(f\"Dataset Shape (rows, cols): {df.shape}\")\n",
    "\n",
    "# check dataset column names\n",
    "print(\"Column Names:\\n\", df.columns.tolist())"
   ]
  },
  {
   "cell_type": "code",
   "execution_count": 7,
   "id": "d3915238",
   "metadata": {},
   "outputs": [
    {
     "name": "stdout",
     "output_type": "stream",
     "text": [
      "<class 'pandas.core.frame.DataFrame'>\n",
      "RangeIndex: 5380 entries, 0 to 5379\n",
      "Data columns (total 13 columns):\n",
      " #   Column             Non-Null Count  Dtype \n",
      "---  ------             --------------  ----- \n",
      " 0   price              5380 non-null   object\n",
      " 1   bedroom            5380 non-null   object\n",
      " 2   bathroom           5380 non-null   object\n",
      " 3   area(sqft)         5380 non-null   object\n",
      " 4   country            5380 non-null   object\n",
      " 5   city               5380 non-null   object\n",
      " 6   address            5380 non-null   object\n",
      " 7   propert_type       5380 non-null   object\n",
      " 8   purpose            5380 non-null   object\n",
      " 9   furnishing         5380 non-null   object\n",
      " 10  completion_status  5380 non-null   object\n",
      " 11  handover           5380 non-null   object\n",
      " 12  project_name       5380 non-null   object\n",
      "dtypes: object(13)\n",
      "memory usage: 546.5+ KB\n"
     ]
    }
   ],
   "source": [
    "# Info about dataset (types and non-null values)\n",
    "df.info()"
   ]
  },
  {
   "cell_type": "code",
   "execution_count": 8,
   "id": "f3102bd1",
   "metadata": {},
   "outputs": [
    {
     "data": {
      "application/vnd.microsoft.datawrangler.viewer.v0+json": {
       "columns": [
        {
         "name": "index",
         "rawType": "object",
         "type": "string"
        },
        {
         "name": "price",
         "rawType": "object",
         "type": "unknown"
        },
        {
         "name": "bedroom",
         "rawType": "object",
         "type": "unknown"
        },
        {
         "name": "bathroom",
         "rawType": "object",
         "type": "unknown"
        },
        {
         "name": "area(sqft)",
         "rawType": "object",
         "type": "unknown"
        },
        {
         "name": "country",
         "rawType": "object",
         "type": "unknown"
        },
        {
         "name": "city",
         "rawType": "object",
         "type": "unknown"
        },
        {
         "name": "address",
         "rawType": "object",
         "type": "unknown"
        },
        {
         "name": "propert_type",
         "rawType": "object",
         "type": "unknown"
        },
        {
         "name": "purpose",
         "rawType": "object",
         "type": "unknown"
        },
        {
         "name": "furnishing",
         "rawType": "object",
         "type": "unknown"
        },
        {
         "name": "completion_status",
         "rawType": "object",
         "type": "unknown"
        },
        {
         "name": "handover",
         "rawType": "object",
         "type": "unknown"
        },
        {
         "name": "project_name",
         "rawType": "object",
         "type": "unknown"
        }
       ],
       "conversionMethod": "pd.DataFrame",
       "ref": "f00c5485-e817-419b-8fe4-87fb912b6e8c",
       "rows": [
        [
         "count",
         "5380",
         "5380",
         "5380",
         "5380",
         "5380",
         "5380",
         "5380",
         "5380",
         "5380",
         "5380",
         "5380",
         "5380",
         "5380"
        ],
        [
         "unique",
         "1315",
         "11",
         "12",
         "1601",
         "1",
         "1",
         "119",
         "6",
         "1",
         "2",
         "2",
         "25",
         "868"
        ],
        [
         "top",
         "1,800,000",
         "1 bed",
         "2 baths",
         "792 sqft",
         " UAE",
         " Dubai",
         " Business Bay",
         "Apartment",
         "Sale",
         "Unfurnished",
         "Ready",
         "Q4 2026",
         "The Cosmopolitan (Damac Maison)"
        ],
        [
         "freq",
         "70",
         "1811",
         "1739",
         "26",
         "5380",
         "5380",
         "585",
         "4404",
         "5380",
         "3821",
         "2758",
         "723",
         "94"
        ]
       ],
       "shape": {
        "columns": 13,
        "rows": 4
       }
      },
      "text/html": [
       "<div>\n",
       "<style scoped>\n",
       "    .dataframe tbody tr th:only-of-type {\n",
       "        vertical-align: middle;\n",
       "    }\n",
       "\n",
       "    .dataframe tbody tr th {\n",
       "        vertical-align: top;\n",
       "    }\n",
       "\n",
       "    .dataframe thead th {\n",
       "        text-align: right;\n",
       "    }\n",
       "</style>\n",
       "<table border=\"1\" class=\"dataframe\">\n",
       "  <thead>\n",
       "    <tr style=\"text-align: right;\">\n",
       "      <th></th>\n",
       "      <th>price</th>\n",
       "      <th>bedroom</th>\n",
       "      <th>bathroom</th>\n",
       "      <th>area(sqft)</th>\n",
       "      <th>country</th>\n",
       "      <th>city</th>\n",
       "      <th>address</th>\n",
       "      <th>propert_type</th>\n",
       "      <th>purpose</th>\n",
       "      <th>furnishing</th>\n",
       "      <th>completion_status</th>\n",
       "      <th>handover</th>\n",
       "      <th>project_name</th>\n",
       "    </tr>\n",
       "  </thead>\n",
       "  <tbody>\n",
       "    <tr>\n",
       "      <th>count</th>\n",
       "      <td>5380</td>\n",
       "      <td>5380</td>\n",
       "      <td>5380</td>\n",
       "      <td>5380</td>\n",
       "      <td>5380</td>\n",
       "      <td>5380</td>\n",
       "      <td>5380</td>\n",
       "      <td>5380</td>\n",
       "      <td>5380</td>\n",
       "      <td>5380</td>\n",
       "      <td>5380</td>\n",
       "      <td>5380</td>\n",
       "      <td>5380</td>\n",
       "    </tr>\n",
       "    <tr>\n",
       "      <th>unique</th>\n",
       "      <td>1315</td>\n",
       "      <td>11</td>\n",
       "      <td>12</td>\n",
       "      <td>1601</td>\n",
       "      <td>1</td>\n",
       "      <td>1</td>\n",
       "      <td>119</td>\n",
       "      <td>6</td>\n",
       "      <td>1</td>\n",
       "      <td>2</td>\n",
       "      <td>2</td>\n",
       "      <td>25</td>\n",
       "      <td>868</td>\n",
       "    </tr>\n",
       "    <tr>\n",
       "      <th>top</th>\n",
       "      <td>1,800,000</td>\n",
       "      <td>1 bed</td>\n",
       "      <td>2 baths</td>\n",
       "      <td>792 sqft</td>\n",
       "      <td>UAE</td>\n",
       "      <td>Dubai</td>\n",
       "      <td>Business Bay</td>\n",
       "      <td>Apartment</td>\n",
       "      <td>Sale</td>\n",
       "      <td>Unfurnished</td>\n",
       "      <td>Ready</td>\n",
       "      <td>Q4 2026</td>\n",
       "      <td>The Cosmopolitan (Damac Maison)</td>\n",
       "    </tr>\n",
       "    <tr>\n",
       "      <th>freq</th>\n",
       "      <td>70</td>\n",
       "      <td>1811</td>\n",
       "      <td>1739</td>\n",
       "      <td>26</td>\n",
       "      <td>5380</td>\n",
       "      <td>5380</td>\n",
       "      <td>585</td>\n",
       "      <td>4404</td>\n",
       "      <td>5380</td>\n",
       "      <td>3821</td>\n",
       "      <td>2758</td>\n",
       "      <td>723</td>\n",
       "      <td>94</td>\n",
       "    </tr>\n",
       "  </tbody>\n",
       "</table>\n",
       "</div>"
      ],
      "text/plain": [
       "            price bedroom bathroom area(sqft) country    city        address  \\\n",
       "count        5380    5380     5380       5380    5380    5380           5380   \n",
       "unique       1315      11       12       1601       1       1            119   \n",
       "top     1,800,000   1 bed  2 baths   792 sqft     UAE   Dubai   Business Bay   \n",
       "freq           70    1811     1739         26    5380    5380            585   \n",
       "\n",
       "       propert_type purpose   furnishing completion_status handover  \\\n",
       "count          5380    5380         5380              5380     5380   \n",
       "unique            6       1            2                 2       25   \n",
       "top       Apartment    Sale  Unfurnished             Ready  Q4 2026   \n",
       "freq           4404    5380         3821              2758      723   \n",
       "\n",
       "                           project_name  \n",
       "count                              5380  \n",
       "unique                              868  \n",
       "top     The Cosmopolitan (Damac Maison)  \n",
       "freq                                 94  "
      ]
     },
     "execution_count": 8,
     "metadata": {},
     "output_type": "execute_result"
    }
   ],
   "source": [
    "# Basic Statistics\n",
    "df.describe(include='all')"
   ]
  },
  {
   "cell_type": "markdown",
   "id": "1172ee8d",
   "metadata": {},
   "source": [
    "## 3. Data Cleaning & Transformation\n",
    "\n",
    "### Column Names Edits"
   ]
  },
  {
   "cell_type": "code",
   "execution_count": 9,
   "id": "8d28f2ab",
   "metadata": {},
   "outputs": [
    {
     "data": {
      "text/plain": [
       "Index(['price', 'bedroom', 'bathroom', 'areasqft', 'country', 'city',\n",
       "       'address', 'propert_type', 'purpose', 'furnishing', 'completion_status',\n",
       "       'handover', 'project_name'],\n",
       "      dtype='object')"
      ]
     },
     "execution_count": 9,
     "metadata": {},
     "output_type": "execute_result"
    }
   ],
   "source": [
    "# make column names consistent (lowercase and underscore)\n",
    "df.columns = df.columns.str.strip().str.lower().str.replace(\" \", \"_\").str.replace(\"(\", \"\").str.replace(\")\", \"\")\n",
    "\n",
    "df.columns"
   ]
  },
  {
   "cell_type": "code",
   "execution_count": 10,
   "id": "f161d107",
   "metadata": {},
   "outputs": [
    {
     "data": {
      "text/plain": [
       "Index(['price', 'bedroom', 'bathroom', 'area_sqft', 'country', 'city',\n",
       "       'address', 'propert_type', 'purpose', 'furnishing', 'completion_status',\n",
       "       'handover', 'project_name'],\n",
       "      dtype='object')"
      ]
     },
     "execution_count": 10,
     "metadata": {},
     "output_type": "execute_result"
    }
   ],
   "source": [
    "# change areasqft col to area_sqft\n",
    "df.rename(columns={\"areasqft\": \"area_sqft\"}, inplace=True)\n",
    "\n",
    "df.columns"
   ]
  },
  {
   "cell_type": "code",
   "execution_count": 11,
   "id": "729f73d0",
   "metadata": {},
   "outputs": [
    {
     "data": {
      "text/plain": [
       "Index(['price', 'bedroom', 'bathroom', 'area_sqft', 'country', 'city',\n",
       "       'address', 'property_type', 'purpose', 'furnishing',\n",
       "       'completion_status', 'handover', 'project_name'],\n",
       "      dtype='object')"
      ]
     },
     "execution_count": 11,
     "metadata": {},
     "output_type": "execute_result"
    }
   ],
   "source": [
    "# change propert_type to property_type\n",
    "df.rename(columns={'propert_type': 'property_type'}, inplace=True)\n",
    "\n",
    "df.columns"
   ]
  },
  {
   "cell_type": "markdown",
   "id": "5ea64feb",
   "metadata": {},
   "source": [
    "### Numeric Columns Edits"
   ]
  },
  {
   "cell_type": "code",
   "execution_count": 12,
   "id": "911606ac",
   "metadata": {},
   "outputs": [
    {
     "name": "stdout",
     "output_type": "stream",
     "text": [
      "Before transformation: 0    1,800,000\n",
      "Name: price, dtype: object\n",
      "After transformation: 0    1800000.0\n",
      "Name: price, dtype: float64\n"
     ]
    }
   ],
   "source": [
    "# Removing commas and convert to numeric values\n",
    "print(f\"Before transformation: {df['price'].head(1)}\")\n",
    "\n",
    "df['price'] = df['price'].replace(r'[\\D]', '', regex=True).astype(float)\n",
    "\n",
    "print(f\"After transformation: {df['price'].head(1)}\")"
   ]
  },
  {
   "cell_type": "code",
   "execution_count": 13,
   "id": "0284ef10",
   "metadata": {},
   "outputs": [
    {
     "name": "stdout",
     "output_type": "stream",
     "text": [
      "0    3.0\n",
      "1    NaN\n",
      "2    NaN\n",
      "3    1.0\n",
      "4    2.0\n",
      "Name: bedrooms, dtype: float64\n",
      "0    4.0\n",
      "1    1.0\n",
      "2    1.0\n",
      "3    1.0\n",
      "4    2.0\n",
      "Name: bathrooms, dtype: float64\n",
      "0    1208.0\n",
      "1     483.0\n",
      "2     428.0\n",
      "3     706.0\n",
      "4    1149.0\n",
      "Name: area_sqft, dtype: float64\n"
     ]
    }
   ],
   "source": [
    "# Extract numeric values from 'bedroom','bathroom' and 'area' cols\n",
    "df['bedrooms'] = df['bedroom'].str.extract(r'(\\d+)').astype(float)\n",
    "df['bathrooms'] = df['bathroom'].str.extract(r'(\\d+)').astype(float)\n",
    "df['area_sqft'] = df['area_sqft'].str.replace(',', '').str.extract(r'(\\d+(?:\\.\\d+)?)').astype(float)\n",
    "\n",
    "print(df[\"bedrooms\"].head())\n",
    "print(df[\"bathrooms\"].head())\n",
    "print(df[\"area_sqft\"].head())"
   ]
  },
  {
   "cell_type": "code",
   "execution_count": 14,
   "id": "5b968e55",
   "metadata": {},
   "outputs": [
    {
     "data": {
      "text/plain": [
       "price                  0\n",
       "bedroom                0\n",
       "bathroom               0\n",
       "area_sqft              0\n",
       "country                0\n",
       "city                   0\n",
       "address                0\n",
       "property_type          0\n",
       "purpose                0\n",
       "furnishing             0\n",
       "completion_status      0\n",
       "handover               0\n",
       "project_name           0\n",
       "bedrooms             769\n",
       "bathrooms              0\n",
       "dtype: int64"
      ]
     },
     "execution_count": 14,
     "metadata": {},
     "output_type": "execute_result"
    }
   ],
   "source": [
    "# Check for NaN values\n",
    "df.isna().sum()"
   ]
  },
  {
   "cell_type": "code",
   "execution_count": 15,
   "id": "bb09c7d9",
   "metadata": {},
   "outputs": [
    {
     "data": {
      "text/plain": [
       "price                0\n",
       "bedroom              0\n",
       "bathroom             0\n",
       "area_sqft            0\n",
       "country              0\n",
       "city                 0\n",
       "address              0\n",
       "property_type        0\n",
       "purpose              0\n",
       "furnishing           0\n",
       "completion_status    0\n",
       "handover             0\n",
       "project_name         0\n",
       "bedrooms             0\n",
       "bathrooms            0\n",
       "dtype: int64"
      ]
     },
     "execution_count": 15,
     "metadata": {},
     "output_type": "execute_result"
    }
   ],
   "source": [
    "# The reason for NaN values in the bedroom column is because the property type is 'studio', so we will change those to 0\n",
    "df['bedrooms'] = df['bedrooms'].fillna(0)\n",
    "\n",
    "df.isna().sum()"
   ]
  },
  {
   "cell_type": "markdown",
   "id": "ee755f39",
   "metadata": {},
   "source": [
    "### Clean Location Data"
   ]
  },
  {
   "cell_type": "code",
   "execution_count": 16,
   "id": "75621dca",
   "metadata": {},
   "outputs": [],
   "source": [
    "# Strip Whitespaces\n",
    "df['country'] = df['country'].str.strip()\n",
    "df['city'] = df['city'].str.strip()\n",
    "df['address'] = df['address'].str.strip()"
   ]
  },
  {
   "cell_type": "markdown",
   "id": "315955b8",
   "metadata": {},
   "source": [
    "### Standardize Categorical Columns"
   ]
  },
  {
   "cell_type": "code",
   "execution_count": 17,
   "id": "03d2af55",
   "metadata": {},
   "outputs": [
    {
     "data": {
      "application/vnd.microsoft.datawrangler.viewer.v0+json": {
       "columns": [
        {
         "name": "index",
         "rawType": "int64",
         "type": "integer"
        },
        {
         "name": "property_type",
         "rawType": "object",
         "type": "string"
        },
        {
         "name": "purpose",
         "rawType": "object",
         "type": "string"
        },
        {
         "name": "furnishing",
         "rawType": "object",
         "type": "string"
        },
        {
         "name": "completion_status",
         "rawType": "object",
         "type": "string"
        }
       ],
       "conversionMethod": "pd.DataFrame",
       "ref": "f250a596-4dd7-4244-8f92-b636177f1f3e",
       "rows": [
        [
         "0",
         "Townhouse",
         "Sale",
         "Unfurnished",
         "Off Plan"
        ],
        [
         "1",
         "Apartment",
         "Sale",
         "Unfurnished",
         "Ready"
        ],
        [
         "2",
         "Apartment",
         "Sale",
         "Furnished",
         "Ready"
        ],
        [
         "3",
         "Apartment",
         "Sale",
         "Unfurnished",
         "Off Plan"
        ],
        [
         "4",
         "Apartment",
         "Sale",
         "Unfurnished",
         "Off Plan"
        ]
       ],
       "shape": {
        "columns": 4,
        "rows": 5
       }
      },
      "text/html": [
       "<div>\n",
       "<style scoped>\n",
       "    .dataframe tbody tr th:only-of-type {\n",
       "        vertical-align: middle;\n",
       "    }\n",
       "\n",
       "    .dataframe tbody tr th {\n",
       "        vertical-align: top;\n",
       "    }\n",
       "\n",
       "    .dataframe thead th {\n",
       "        text-align: right;\n",
       "    }\n",
       "</style>\n",
       "<table border=\"1\" class=\"dataframe\">\n",
       "  <thead>\n",
       "    <tr style=\"text-align: right;\">\n",
       "      <th></th>\n",
       "      <th>property_type</th>\n",
       "      <th>purpose</th>\n",
       "      <th>furnishing</th>\n",
       "      <th>completion_status</th>\n",
       "    </tr>\n",
       "  </thead>\n",
       "  <tbody>\n",
       "    <tr>\n",
       "      <th>0</th>\n",
       "      <td>Townhouse</td>\n",
       "      <td>Sale</td>\n",
       "      <td>Unfurnished</td>\n",
       "      <td>Off Plan</td>\n",
       "    </tr>\n",
       "    <tr>\n",
       "      <th>1</th>\n",
       "      <td>Apartment</td>\n",
       "      <td>Sale</td>\n",
       "      <td>Unfurnished</td>\n",
       "      <td>Ready</td>\n",
       "    </tr>\n",
       "    <tr>\n",
       "      <th>2</th>\n",
       "      <td>Apartment</td>\n",
       "      <td>Sale</td>\n",
       "      <td>Furnished</td>\n",
       "      <td>Ready</td>\n",
       "    </tr>\n",
       "    <tr>\n",
       "      <th>3</th>\n",
       "      <td>Apartment</td>\n",
       "      <td>Sale</td>\n",
       "      <td>Unfurnished</td>\n",
       "      <td>Off Plan</td>\n",
       "    </tr>\n",
       "    <tr>\n",
       "      <th>4</th>\n",
       "      <td>Apartment</td>\n",
       "      <td>Sale</td>\n",
       "      <td>Unfurnished</td>\n",
       "      <td>Off Plan</td>\n",
       "    </tr>\n",
       "  </tbody>\n",
       "</table>\n",
       "</div>"
      ],
      "text/plain": [
       "  property_type purpose   furnishing completion_status\n",
       "0     Townhouse    Sale  Unfurnished          Off Plan\n",
       "1     Apartment    Sale  Unfurnished             Ready\n",
       "2     Apartment    Sale    Furnished             Ready\n",
       "3     Apartment    Sale  Unfurnished          Off Plan\n",
       "4     Apartment    Sale  Unfurnished          Off Plan"
      ]
     },
     "execution_count": 17,
     "metadata": {},
     "output_type": "execute_result"
    }
   ],
   "source": [
    "categorical_cols = ['property_type', 'purpose', 'furnishing', 'completion_status']\n",
    "\n",
    "for col in categorical_cols:\n",
    "    df[col] = df[col].str.strip().str.lower().str.replace(\"-\", \" \").replace(\"_\", \" \")\n",
    "\n",
    "# capitalize\n",
    "df['purpose'] = df['purpose'].str.title()\n",
    "df['furnishing'] = df['furnishing'].str.title()\n",
    "df['property_type'] = df['property_type'].str.title()\n",
    "df['completion_status'] = df['completion_status'].str.title()\n",
    "\n",
    "# review\n",
    "df[['property_type', 'purpose', 'furnishing', 'completion_status']].head()"
   ]
  },
  {
   "cell_type": "markdown",
   "id": "5845b6d0",
   "metadata": {},
   "source": [
    "### Parsing Dates"
   ]
  },
  {
   "cell_type": "code",
   "execution_count": 18,
   "id": "b5a4fe3a",
   "metadata": {},
   "outputs": [
    {
     "data": {
      "application/vnd.microsoft.datawrangler.viewer.v0+json": {
       "columns": [
        {
         "name": "index",
         "rawType": "int64",
         "type": "integer"
        },
        {
         "name": "price",
         "rawType": "float64",
         "type": "float"
        },
        {
         "name": "bedroom",
         "rawType": "object",
         "type": "string"
        },
        {
         "name": "bathroom",
         "rawType": "object",
         "type": "string"
        },
        {
         "name": "area_sqft",
         "rawType": "float64",
         "type": "float"
        },
        {
         "name": "country",
         "rawType": "object",
         "type": "string"
        },
        {
         "name": "city",
         "rawType": "object",
         "type": "string"
        },
        {
         "name": "address",
         "rawType": "object",
         "type": "string"
        },
        {
         "name": "property_type",
         "rawType": "object",
         "type": "string"
        },
        {
         "name": "purpose",
         "rawType": "object",
         "type": "string"
        },
        {
         "name": "furnishing",
         "rawType": "object",
         "type": "string"
        },
        {
         "name": "completion_status",
         "rawType": "object",
         "type": "string"
        },
        {
         "name": "handover",
         "rawType": "object",
         "type": "string"
        },
        {
         "name": "project_name",
         "rawType": "object",
         "type": "string"
        },
        {
         "name": "bedrooms",
         "rawType": "float64",
         "type": "float"
        },
        {
         "name": "bathrooms",
         "rawType": "float64",
         "type": "float"
        },
        {
         "name": "handover_quarter",
         "rawType": "object",
         "type": "string"
        },
        {
         "name": "handover_year",
         "rawType": "object",
         "type": "string"
        }
       ],
       "conversionMethod": "pd.DataFrame",
       "ref": "86f8ce2e-7339-433e-9bde-e631bb2362c7",
       "rows": [
        [
         "0",
         "1800000.0",
         "3 beds",
         "4 baths",
         "1208.0",
         "UAE",
         "Dubai",
         "DAMAC Hills 2 (Akoya by DAMAC)",
         "Townhouse",
         "Sale",
         "Unfurnished",
         "Off Plan",
         "Q2 2025",
         "Camelia Villas",
         "3.0",
         "4.0",
         "Q2",
         "2025"
        ],
        [
         "1",
         "325000.0",
         "Studio",
         "1 bath",
         "483.0",
         "UAE",
         "Dubai",
         "International City",
         "Apartment",
         "Sale",
         "Unfurnished",
         "Ready",
         "Q2 2025",
         "Camelia Villas",
         "0.0",
         "1.0",
         "Q2",
         "2025"
        ],
        [
         "2",
         "470000.0",
         "Studio",
         "1 bath",
         "428.0",
         "UAE",
         "Dubai",
         "Arjan",
         "Apartment",
         "Sale",
         "Furnished",
         "Ready",
         "Q2 2025",
         "Camelia Villas",
         "0.0",
         "1.0",
         "Q2",
         "2025"
        ],
        [
         "3",
         "1120000.0",
         "1 bed",
         "1 bath",
         "706.0",
         "UAE",
         "Dubai",
         "Dubai South",
         "Apartment",
         "Sale",
         "Unfurnished",
         "Off Plan",
         "Q3 2029",
         "Camelia Villas",
         "1.0",
         "1.0",
         "Q3",
         "2029"
        ],
        [
         "4",
         "2127888.0",
         "2 beds",
         "2 baths",
         "1149.0",
         "UAE",
         "Dubai",
         "Dubai South",
         "Apartment",
         "Sale",
         "Unfurnished",
         "Off Plan",
         "Q3 2029",
         "Camelia Villas",
         "2.0",
         "2.0",
         "Q3",
         "2029"
        ]
       ],
       "shape": {
        "columns": 17,
        "rows": 5
       }
      },
      "text/html": [
       "<div>\n",
       "<style scoped>\n",
       "    .dataframe tbody tr th:only-of-type {\n",
       "        vertical-align: middle;\n",
       "    }\n",
       "\n",
       "    .dataframe tbody tr th {\n",
       "        vertical-align: top;\n",
       "    }\n",
       "\n",
       "    .dataframe thead th {\n",
       "        text-align: right;\n",
       "    }\n",
       "</style>\n",
       "<table border=\"1\" class=\"dataframe\">\n",
       "  <thead>\n",
       "    <tr style=\"text-align: right;\">\n",
       "      <th></th>\n",
       "      <th>price</th>\n",
       "      <th>bedroom</th>\n",
       "      <th>bathroom</th>\n",
       "      <th>area_sqft</th>\n",
       "      <th>country</th>\n",
       "      <th>city</th>\n",
       "      <th>address</th>\n",
       "      <th>property_type</th>\n",
       "      <th>purpose</th>\n",
       "      <th>furnishing</th>\n",
       "      <th>completion_status</th>\n",
       "      <th>handover</th>\n",
       "      <th>project_name</th>\n",
       "      <th>bedrooms</th>\n",
       "      <th>bathrooms</th>\n",
       "      <th>handover_quarter</th>\n",
       "      <th>handover_year</th>\n",
       "    </tr>\n",
       "  </thead>\n",
       "  <tbody>\n",
       "    <tr>\n",
       "      <th>0</th>\n",
       "      <td>1800000.0</td>\n",
       "      <td>3 beds</td>\n",
       "      <td>4 baths</td>\n",
       "      <td>1208.0</td>\n",
       "      <td>UAE</td>\n",
       "      <td>Dubai</td>\n",
       "      <td>DAMAC Hills 2 (Akoya by DAMAC)</td>\n",
       "      <td>Townhouse</td>\n",
       "      <td>Sale</td>\n",
       "      <td>Unfurnished</td>\n",
       "      <td>Off Plan</td>\n",
       "      <td>Q2 2025</td>\n",
       "      <td>Camelia Villas</td>\n",
       "      <td>3.0</td>\n",
       "      <td>4.0</td>\n",
       "      <td>Q2</td>\n",
       "      <td>2025</td>\n",
       "    </tr>\n",
       "    <tr>\n",
       "      <th>1</th>\n",
       "      <td>325000.0</td>\n",
       "      <td>Studio</td>\n",
       "      <td>1 bath</td>\n",
       "      <td>483.0</td>\n",
       "      <td>UAE</td>\n",
       "      <td>Dubai</td>\n",
       "      <td>International City</td>\n",
       "      <td>Apartment</td>\n",
       "      <td>Sale</td>\n",
       "      <td>Unfurnished</td>\n",
       "      <td>Ready</td>\n",
       "      <td>Q2 2025</td>\n",
       "      <td>Camelia Villas</td>\n",
       "      <td>0.0</td>\n",
       "      <td>1.0</td>\n",
       "      <td>Q2</td>\n",
       "      <td>2025</td>\n",
       "    </tr>\n",
       "    <tr>\n",
       "      <th>2</th>\n",
       "      <td>470000.0</td>\n",
       "      <td>Studio</td>\n",
       "      <td>1 bath</td>\n",
       "      <td>428.0</td>\n",
       "      <td>UAE</td>\n",
       "      <td>Dubai</td>\n",
       "      <td>Arjan</td>\n",
       "      <td>Apartment</td>\n",
       "      <td>Sale</td>\n",
       "      <td>Furnished</td>\n",
       "      <td>Ready</td>\n",
       "      <td>Q2 2025</td>\n",
       "      <td>Camelia Villas</td>\n",
       "      <td>0.0</td>\n",
       "      <td>1.0</td>\n",
       "      <td>Q2</td>\n",
       "      <td>2025</td>\n",
       "    </tr>\n",
       "    <tr>\n",
       "      <th>3</th>\n",
       "      <td>1120000.0</td>\n",
       "      <td>1 bed</td>\n",
       "      <td>1 bath</td>\n",
       "      <td>706.0</td>\n",
       "      <td>UAE</td>\n",
       "      <td>Dubai</td>\n",
       "      <td>Dubai South</td>\n",
       "      <td>Apartment</td>\n",
       "      <td>Sale</td>\n",
       "      <td>Unfurnished</td>\n",
       "      <td>Off Plan</td>\n",
       "      <td>Q3 2029</td>\n",
       "      <td>Camelia Villas</td>\n",
       "      <td>1.0</td>\n",
       "      <td>1.0</td>\n",
       "      <td>Q3</td>\n",
       "      <td>2029</td>\n",
       "    </tr>\n",
       "    <tr>\n",
       "      <th>4</th>\n",
       "      <td>2127888.0</td>\n",
       "      <td>2 beds</td>\n",
       "      <td>2 baths</td>\n",
       "      <td>1149.0</td>\n",
       "      <td>UAE</td>\n",
       "      <td>Dubai</td>\n",
       "      <td>Dubai South</td>\n",
       "      <td>Apartment</td>\n",
       "      <td>Sale</td>\n",
       "      <td>Unfurnished</td>\n",
       "      <td>Off Plan</td>\n",
       "      <td>Q3 2029</td>\n",
       "      <td>Camelia Villas</td>\n",
       "      <td>2.0</td>\n",
       "      <td>2.0</td>\n",
       "      <td>Q3</td>\n",
       "      <td>2029</td>\n",
       "    </tr>\n",
       "  </tbody>\n",
       "</table>\n",
       "</div>"
      ],
      "text/plain": [
       "       price bedroom bathroom  area_sqft country   city  \\\n",
       "0  1800000.0  3 beds  4 baths     1208.0     UAE  Dubai   \n",
       "1   325000.0  Studio   1 bath      483.0     UAE  Dubai   \n",
       "2   470000.0  Studio   1 bath      428.0     UAE  Dubai   \n",
       "3  1120000.0   1 bed   1 bath      706.0     UAE  Dubai   \n",
       "4  2127888.0  2 beds  2 baths     1149.0     UAE  Dubai   \n",
       "\n",
       "                          address property_type purpose   furnishing  \\\n",
       "0  DAMAC Hills 2 (Akoya by DAMAC)     Townhouse    Sale  Unfurnished   \n",
       "1              International City     Apartment    Sale  Unfurnished   \n",
       "2                           Arjan     Apartment    Sale    Furnished   \n",
       "3                     Dubai South     Apartment    Sale  Unfurnished   \n",
       "4                     Dubai South     Apartment    Sale  Unfurnished   \n",
       "\n",
       "  completion_status handover    project_name  bedrooms  bathrooms  \\\n",
       "0          Off Plan  Q2 2025  Camelia Villas       3.0        4.0   \n",
       "1             Ready  Q2 2025  Camelia Villas       0.0        1.0   \n",
       "2             Ready  Q2 2025  Camelia Villas       0.0        1.0   \n",
       "3          Off Plan  Q3 2029  Camelia Villas       1.0        1.0   \n",
       "4          Off Plan  Q3 2029  Camelia Villas       2.0        2.0   \n",
       "\n",
       "  handover_quarter handover_year  \n",
       "0               Q2          2025  \n",
       "1               Q2          2025  \n",
       "2               Q2          2025  \n",
       "3               Q3          2029  \n",
       "4               Q3          2029  "
      ]
     },
     "execution_count": 18,
     "metadata": {},
     "output_type": "execute_result"
    }
   ],
   "source": [
    "# Split \"Q2 2025\" into quarter and year\n",
    "df[['handover_quarter', 'handover_year']] = df['handover'].str.extract(r\"(Q\\d)\\s+(\\d{4})\")\n",
    "df.head()"
   ]
  },
  {
   "cell_type": "code",
   "execution_count": 19,
   "id": "cb0fed18",
   "metadata": {},
   "outputs": [],
   "source": [
    "# Convert year into int\n",
    "df['handover_year'] = df['handover_year'].astype(int)"
   ]
  },
  {
   "cell_type": "markdown",
   "id": "bf9ccabc",
   "metadata": {},
   "source": [
    "### Check for missing or duplicates"
   ]
  },
  {
   "cell_type": "code",
   "execution_count": 20,
   "id": "20ac7791",
   "metadata": {},
   "outputs": [
    {
     "name": "stdout",
     "output_type": "stream",
     "text": [
      "Missing Values:\n",
      " Series([], dtype: int64)\n"
     ]
    }
   ],
   "source": [
    "missing = df.isnull().sum()\n",
    "print(\"Missing Values:\\n\", missing[missing > 0])"
   ]
  },
  {
   "cell_type": "code",
   "execution_count": 21,
   "id": "be30e48c",
   "metadata": {},
   "outputs": [
    {
     "name": "stdout",
     "output_type": "stream",
     "text": [
      "Number of duplicate rows: 1942\n"
     ]
    }
   ],
   "source": [
    "# duplicates\n",
    "duplicates = df.duplicated().sum()\n",
    "\n",
    "print(f\"Number of duplicate rows: {duplicates}\")"
   ]
  },
  {
   "cell_type": "code",
   "execution_count": 22,
   "id": "5dc2502a",
   "metadata": {},
   "outputs": [
    {
     "name": "stdout",
     "output_type": "stream",
     "text": [
      "           price bedroom bathroom  area_sqft country   city  \\\n",
      "1969    330000.0  Studio   1 bath      380.0     UAE  Dubai   \n",
      "2037    330000.0  Studio   1 bath      380.0     UAE  Dubai   \n",
      "3375    440000.0  Studio   1 bath      475.0     UAE  Dubai   \n",
      "3383    440000.0  Studio   1 bath      475.0     UAE  Dubai   \n",
      "1945    475000.0  Studio   1 bath      484.0     UAE  Dubai   \n",
      "...          ...     ...      ...        ...     ...    ...   \n",
      "837   57500000.0  4 beds  5 baths     7191.0     UAE  Dubai   \n",
      "1031  57500000.0  4 beds  5 baths     7191.0     UAE  Dubai   \n",
      "1160  57500000.0  4 beds  5 baths     7191.0     UAE  Dubai   \n",
      "297   60808800.0  4 beds  6 baths    15202.0     UAE  Dubai   \n",
      "342   60808800.0  4 beds  6 baths    15202.0     UAE  Dubai   \n",
      "\n",
      "                          address property_type purpose   furnishing  \\\n",
      "1969  Dubai Investment Park (DIP)     Apartment    Sale  Unfurnished   \n",
      "2037  Dubai Investment Park (DIP)     Apartment    Sale  Unfurnished   \n",
      "3375  Dubai Investment Park (DIP)     Apartment    Sale  Unfurnished   \n",
      "3383  Dubai Investment Park (DIP)     Apartment    Sale  Unfurnished   \n",
      "1945            Discovery Gardens     Apartment    Sale  Unfurnished   \n",
      "...                           ...           ...     ...          ...   \n",
      "837                 Palm Jumeirah     Apartment    Sale    Furnished   \n",
      "1031                Palm Jumeirah     Apartment    Sale    Furnished   \n",
      "1160                Palm Jumeirah     Apartment    Sale    Furnished   \n",
      "297                 Palm Jumeirah     Apartment    Sale    Furnished   \n",
      "342                 Palm Jumeirah     Apartment    Sale    Furnished   \n",
      "\n",
      "     completion_status handover             project_name  bedrooms  bathrooms  \\\n",
      "1969          Off Plan  Q2 2026      Verdana Residence 2       0.0        1.0   \n",
      "2037          Off Plan  Q2 2026      Verdana Residence 2       0.0        1.0   \n",
      "3375             Ready  Q2 2027         ELM at Park Five       0.0        1.0   \n",
      "3383             Ready  Q2 2027         ELM at Park Five       0.0        1.0   \n",
      "1945             Ready  Q4 2025            Mediterranean       0.0        1.0   \n",
      "...                ...      ...                      ...       ...        ...   \n",
      "837           Off Plan  Q4 2026  Armani Beach Residences       4.0        5.0   \n",
      "1031          Off Plan  Q4 2026  Armani Beach Residences       4.0        5.0   \n",
      "1160          Off Plan  Q4 2026  Armani Beach Residences       4.0        5.0   \n",
      "297           Off Plan  Q4 2026      Palm Beach Towers 3       4.0        6.0   \n",
      "342           Off Plan  Q4 2026      Palm Beach Towers 3       4.0        6.0   \n",
      "\n",
      "     handover_quarter  handover_year  \n",
      "1969               Q2           2026  \n",
      "2037               Q2           2026  \n",
      "3375               Q2           2027  \n",
      "3383               Q2           2027  \n",
      "1945               Q4           2025  \n",
      "...               ...            ...  \n",
      "837                Q4           2026  \n",
      "1031               Q4           2026  \n",
      "1160               Q4           2026  \n",
      "297                Q4           2026  \n",
      "342                Q4           2026  \n",
      "\n",
      "[2696 rows x 17 columns]\n"
     ]
    }
   ],
   "source": [
    "all_duplicated = df[df.duplicated(keep=False)]\n",
    "# Sort these rows to group duplicates together\n",
    "all_duplicated_sorted = all_duplicated.sort_values(by=all_duplicated.columns.tolist())\n",
    "print(all_duplicated_sorted)"
   ]
  },
  {
   "cell_type": "code",
   "execution_count": 23,
   "id": "a1ff7183",
   "metadata": {},
   "outputs": [],
   "source": [
    "# remove duplicates\n",
    "df.drop_duplicates(inplace=True)"
   ]
  },
  {
   "cell_type": "markdown",
   "id": "acdc2d1a",
   "metadata": {},
   "source": [
    "### Exporting Final CSV for Dashboard"
   ]
  },
  {
   "cell_type": "code",
   "execution_count": 24,
   "id": "5c6444d0",
   "metadata": {},
   "outputs": [
    {
     "name": "stdout",
     "output_type": "stream",
     "text": [
      "✅ Data cleaning complete and saved as 'dubai_realestate_cleaned.csv'\n"
     ]
    }
   ],
   "source": [
    "df.to_csv('data/dubai_realestate_cleaned.csv', index=False)\n",
    "print(\"✅ Data cleaning complete and saved as 'dubai_realestate_cleaned.csv'\")"
   ]
  },
  {
   "cell_type": "markdown",
   "id": "7b8ee2c7",
   "metadata": {},
   "source": [
    "## 4. Exploratory Data Analysis (EDA)\n",
    "### Distribution of Property Prices"
   ]
  },
  {
   "cell_type": "code",
   "execution_count": 25,
   "id": "463bd42f",
   "metadata": {},
   "outputs": [
    {
     "data": {
      "image/png": "[encoded data removed]",
      "text/plain": [
       "<Figure size 640x480 with 1 Axes>"
      ]
     },
     "metadata": {},
     "output_type": "display_data"
    }
   ],
   "source": [
    "ax = sns.histplot(df['price'], bins=30, kde=True)\n",
    "\n",
    "# format x axis\n",
    "def format_aed(x, pos):\n",
    "    return f'{int(x):,}'\n",
    "\n",
    "ax.xaxis.set_major_formatter(ticker.FuncFormatter(format_aed))\n",
    "\n",
    "plt.title(\"Distribution of Property Prices (AED)\")\n",
    "plt.xticks(rotation=45)\n",
    "plt.xlabel(\"Price (AED)\")\n",
    "plt.ylabel(\"Count\")\n",
    "plt.tight_layout()\n",
    "plt.show()"
   ]
  },
  {
   "cell_type": "markdown",
   "id": "cc2a2d6a",
   "metadata": {},
   "source": [
    "### Average Price by Property Type"
   ]
  },
  {
   "cell_type": "code",
   "execution_count": 26,
   "id": "bf613fb4",
   "metadata": {},
   "outputs": [
    {
     "data": {
      "image/png": "[encoded data removed]",
      "text/plain": [
       "<Figure size 640x480 with 1 Axes>"
      ]
     },
     "metadata": {},
     "output_type": "display_data"
    }
   ],
   "source": [
    "avg_price = df.groupby('property_type')['price'].mean().sort_values(ascending=False)\n",
    "ax = sns.barplot(x=avg_price.values, y=avg_price.index)\n",
    "\n",
    "# format x axis\n",
    "def format_aed(x, pos):\n",
    "    return f'{int(x):,}'\n",
    "\n",
    "ax.xaxis.set_major_formatter(ticker.FuncFormatter(format_aed))\n",
    "\n",
    "plt.title(\"Average Price by Property Type\")\n",
    "plt.xlabel(\"Average Price (AED)\")\n",
    "plt.ylabel(\"Property Type\")\n",
    "plt.show()"
   ]
  },
  {
   "cell_type": "markdown",
   "id": "ffaa64f1",
   "metadata": {},
   "source": [
    "### Top 10 most expensive projects"
   ]
  },
  {
   "cell_type": "code",
   "execution_count": 27,
   "id": "e8580d08",
   "metadata": {},
   "outputs": [
    {
     "data": {
      "image/png": "[encoded data removed]",
      "text/plain": [
       "<Figure size 640x480 with 1 Axes>"
      ]
     },
     "metadata": {},
     "output_type": "display_data"
    }
   ],
   "source": [
    "top_projects = df.groupby('project_name')['price'].mean().sort_values(ascending=False).head(10)\n",
    "ax = sns.barplot(x=top_projects.values, y=top_projects.index, hue=top_projects.values)\n",
    "\n",
    "# format x axis\n",
    "def format_aed(x, pos):\n",
    "    return f'{int(x):,}'\n",
    "\n",
    "ax.xaxis.set_major_formatter(ticker.FuncFormatter(format_aed))\n",
    "\n",
    "plt.title(\"Top 10 Projects by Avg Price\")\n",
    "plt.xticks(rotation=45)\n",
    "plt.xlabel(\"Average Price (AED)\")\n",
    "plt.ylabel(\"Project Name\")\n",
    "plt.show()"
   ]
  },
  {
   "cell_type": "markdown",
   "id": "a4960d8a",
   "metadata": {},
   "source": [
    "### Completion Status"
   ]
  },
  {
   "cell_type": "code",
   "execution_count": 28,
   "id": "1882497c",
   "metadata": {},
   "outputs": [
    {
     "data": {
      "image/png": "[encoded data removed]",
      "text/plain": [
       "<Figure size 640x480 with 1 Axes>"
      ]
     },
     "metadata": {},
     "output_type": "display_data"
    }
   ],
   "source": [
    "sns.countplot(x='completion_status', hue=\"completion_status\", data=df)\n",
    "plt.title(\"Count of Off-Plan vs Ready Properties\")\n",
    "plt.xlabel(\"Completion Status\")\n",
    "plt.ylabel(\"Number of Properties\")\n",
    "plt.show()"
   ]
  },
  {
   "cell_type": "markdown",
   "id": "b05d413c",
   "metadata": {},
   "source": [
    "### Number of Listing by Handover"
   ]
  },
  {
   "cell_type": "code",
   "execution_count": 29,
   "id": "86f6b410",
   "metadata": {},
   "outputs": [
    {
     "data": {
      "image/png": "[encoded data removed]",
      "text/plain": [
       "<Figure size 640x480 with 1 Axes>"
      ]
     },
     "metadata": {},
     "output_type": "display_data"
    }
   ],
   "source": [
    "handover_counts = df['handover_year'].value_counts().sort_index()\n",
    "sns.barplot(x=handover_counts.index, y=handover_counts.values, palette='husl', hue=handover_counts.index)\n",
    "plt.title(\"Number of Properties by Handover Year\")\n",
    "plt.xlabel(\"Handover Year\")\n",
    "plt.ylabel(\"Number of Listings\")\n",
    "plt.show()"
   ]
  }
 ],
 "metadata": {
  "kernelspec": {
   "display_name": "da",
   "language": "python",
   "name": "python3"
  },
  "language_info": {
   "codemirror_mode": {
    "name": "ipython",
    "version": 3
   },
   "file_extension": ".py",
   "mimetype": "text/x-python",
   "name": "python",
   "nbconvert_exporter": "python",
   "pygments_lexer": "ipython3",
   "version": "3.12.3"
  }
 },
 "nbformat": 4,
 "nbformat_minor": 5
}
