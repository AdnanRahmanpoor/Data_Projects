{
 "cells": [
  {
   "cell_type": "markdown",
   "id": "ccad78bc",
   "metadata": {},
   "source": [
    "# Egg Price Analysis in the U.S (2015-2025)\n",
    "*Adjusted for Inflation Using CPI (Real Price Analysis*\n",
    "\n",
    "## 1. Introduction & Objectives\n",
    "In this project, we analyze the average monthly prices of Grade A large eggs in the U.S. from 2015 to 2025.\n",
    "\n",
    "Our goals are:\n",
    "- To visualize the trends in egg prices over time.\n",
    "- To adjust nominal prices for inflation using CPI data.\n",
    "- To understand how the *real* cost of eggs has changed for customers.\n",
    "\n",
    "We use CPI (Consumer Price Index) data to convert nominal prices into real 2025-equivalent dollars."
   ]
  },
  {
   "cell_type": "markdown",
   "id": "14ff3981",
   "metadata": {},
   "source": [
    "## 2. Dataset Overview\n",
    "\n",
    "We are using two datasets:\n",
    "\n",
    "- **Egg Price Dataset**: Average monthly retail price (in USD) of a dozen Grade A large eggs.\n",
    "- **CPI Dataset**: Monthly Consumer Price Index for All Urban Consumers (CPI-U), not seasonally adjusted, U.S. city average.\n",
    "\n",
    "Both datasets span from **January 2015 to the latest available month in 2025 (March)**"
   ]
  },
  {
   "cell_type": "markdown",
   "id": "2b25a2bd",
   "metadata": {},
   "source": [
    "## 3. Analysis\n",
    "### Import Libraries"
   ]
  },
  {
   "cell_type": "code",
   "execution_count": 1,
   "id": "382eae0c",
   "metadata": {},
   "outputs": [],
   "source": [
    "import pandas as pd\n",
    "import matplotlib.pyplot as plt\n",
    "import seaborn as sns"
   ]
  },
  {
   "cell_type": "code",
   "execution_count": 2,
   "id": "50090cbc",
   "metadata": {},
   "outputs": [],
   "source": [
    "# Display settings for plots\n",
    "sns.set(style='whitegrid')\n",
    "plt.rcParams['figure.figsize'] = (12, 6)"
   ]
  },
  {
   "cell_type": "markdown",
   "id": "35415fcc",
   "metadata": {},
   "source": [
    "### Loading the Egg Dataset + Preparation"
   ]
  },
  {
   "cell_type": "code",
   "execution_count": 6,
   "id": "b93d406d",
   "metadata": {},
   "outputs": [
    {
     "data": {
      "application/vnd.microsoft.datawrangler.viewer.v0+json": {
       "columns": [
        {
         "name": "index",
         "rawType": "int64",
         "type": "integer"
        },
        {
         "name": "observation_date",
         "rawType": "object",
         "type": "string"
        },
        {
         "name": "APU0000708111",
         "rawType": "float64",
         "type": "float"
        }
       ],
       "conversionMethod": "pd.DataFrame",
       "ref": "9304fadf-5925-4912-a66a-66af5cfca723",
       "rows": [
        [
         "420",
         "2015-01-01",
         "2.113"
        ],
        [
         "421",
         "2015-02-01",
         "2.088"
        ],
        [
         "422",
         "2015-03-01",
         "2.133"
        ],
        [
         "423",
         "2015-04-01",
         "2.065"
        ],
        [
         "424",
         "2015-05-01",
         "1.962"
        ]
       ],
       "shape": {
        "columns": 2,
        "rows": 5
       }
      },
      "text/html": [
       "<div>\n",
       "<style scoped>\n",
       "    .dataframe tbody tr th:only-of-type {\n",
       "        vertical-align: middle;\n",
       "    }\n",
       "\n",
       "    .dataframe tbody tr th {\n",
       "        vertical-align: top;\n",
       "    }\n",
       "\n",
       "    .dataframe thead th {\n",
       "        text-align: right;\n",
       "    }\n",
       "</style>\n",
       "<table border=\"1\" class=\"dataframe\">\n",
       "  <thead>\n",
       "    <tr style=\"text-align: right;\">\n",
       "      <th></th>\n",
       "      <th>observation_date</th>\n",
       "      <th>APU0000708111</th>\n",
       "    </tr>\n",
       "  </thead>\n",
       "  <tbody>\n",
       "    <tr>\n",
       "      <th>420</th>\n",
       "      <td>2015-01-01</td>\n",
       "      <td>2.113</td>\n",
       "    </tr>\n",
       "    <tr>\n",
       "      <th>421</th>\n",
       "      <td>2015-02-01</td>\n",
       "      <td>2.088</td>\n",
       "    </tr>\n",
       "    <tr>\n",
       "      <th>422</th>\n",
       "      <td>2015-03-01</td>\n",
       "      <td>2.133</td>\n",
       "    </tr>\n",
       "    <tr>\n",
       "      <th>423</th>\n",
       "      <td>2015-04-01</td>\n",
       "      <td>2.065</td>\n",
       "    </tr>\n",
       "    <tr>\n",
       "      <th>424</th>\n",
       "      <td>2015-05-01</td>\n",
       "      <td>1.962</td>\n",
       "    </tr>\n",
       "  </tbody>\n",
       "</table>\n",
       "</div>"
      ],
      "text/plain": [
       "    observation_date  APU0000708111\n",
       "420       2015-01-01          2.113\n",
       "421       2015-02-01          2.088\n",
       "422       2015-03-01          2.133\n",
       "423       2015-04-01          2.065\n",
       "424       2015-05-01          1.962"
      ]
     },
     "execution_count": 6,
     "metadata": {},
     "output_type": "execute_result"
    }
   ],
   "source": [
    "# Egg Dataset\n",
    "df_egg = pd.read_csv('data/egg_prices.csv')\n",
    "\n",
    "# Set the date from 2015\n",
    "df_egg = df_egg[df_egg['observation_date'] >= '2015-01-01']\n",
    "\n",
    "df_egg.head()"
   ]
  },
  {
   "cell_type": "code",
   "execution_count": 8,
   "id": "d9470808",
   "metadata": {},
   "outputs": [],
   "source": [
    "# Renaming the Columns\n",
    "df_egg.rename(columns={\"observation_date\": \"Date\", \"APU0000708111\": \"Nominal_Price_USD\"}, inplace=True)\n",
    "\n",
    "# Reformat Date column to Datetime\n",
    "df_egg[\"Date\"] = pd.to_datetime(df_egg[\"Date\"])\n",
    "\n",
    "# Set Date column as index\n",
    "df_egg.set_index(\"Date\", inplace=True)"
   ]
  },
  {
   "cell_type": "markdown",
   "id": "f37dbd9f",
   "metadata": {},
   "source": [
    "### Loading CPI dataset + Preparation"
   ]
  },
  {
   "cell_type": "code",
   "execution_count": 10,
   "id": "ae2bc1ae",
   "metadata": {},
   "outputs": [
    {
     "data": {
      "application/vnd.microsoft.datawrangler.viewer.v0+json": {
       "columns": [
        {
         "name": "index",
         "rawType": "int64",
         "type": "integer"
        },
        {
         "name": "Year",
         "rawType": "int64",
         "type": "integer"
        },
        {
         "name": "Jan",
         "rawType": "float64",
         "type": "float"
        },
        {
         "name": "Feb",
         "rawType": "float64",
         "type": "float"
        },
        {
         "name": "Mar",
         "rawType": "float64",
         "type": "float"
        },
        {
         "name": "Apr",
         "rawType": "float64",
         "type": "float"
        },
        {
         "name": "May",
         "rawType": "float64",
         "type": "float"
        },
        {
         "name": "Jun",
         "rawType": "float64",
         "type": "float"
        },
        {
         "name": "Jul",
         "rawType": "float64",
         "type": "float"
        },
        {
         "name": "Aug",
         "rawType": "float64",
         "type": "float"
        },
        {
         "name": "Sep",
         "rawType": "float64",
         "type": "float"
        },
        {
         "name": "Oct",
         "rawType": "float64",
         "type": "float"
        },
        {
         "name": "Nov",
         "rawType": "float64",
         "type": "float"
        },
        {
         "name": "Dec",
         "rawType": "float64",
         "type": "float"
        },
        {
         "name": "HALF1",
         "rawType": "float64",
         "type": "float"
        },
        {
         "name": "HALF2",
         "rawType": "float64",
         "type": "float"
        }
       ],
       "conversionMethod": "pd.DataFrame",
       "ref": "d72ff6f7-8718-4697-a621-837e79fa1c49",
       "rows": [
        [
         "0",
         "2015",
         "233.707",
         "234.722",
         "236.119",
         "236.599",
         "237.805",
         "238.638",
         "238.654",
         "238.316",
         "237.945",
         "237.838",
         "237.336",
         "236.525",
         "236.265",
         "237.769"
        ],
        [
         "1",
         "2016",
         "236.916",
         "237.111",
         "238.132",
         "239.261",
         "240.229",
         "241.018",
         "240.628",
         "240.849",
         "241.428",
         "241.729",
         "241.353",
         "241.432",
         "238.778",
         "241.237"
        ],
        [
         "2",
         "2017",
         "242.839",
         "243.603",
         "243.801",
         "244.524",
         "244.733",
         "244.955",
         "244.786",
         "245.519",
         "246.819",
         "246.663",
         "246.669",
         "246.524",
         "244.076",
         "246.163"
        ],
        [
         "3",
         "2018",
         "247.867",
         "248.991",
         "249.554",
         "250.546",
         "251.588",
         "251.989",
         "252.006",
         "252.146",
         "252.439",
         "252.885",
         "252.038",
         "251.233",
         "250.089",
         "252.125"
        ],
        [
         "4",
         "2019",
         "251.712",
         "252.776",
         "254.202",
         "255.548",
         "256.092",
         "256.143",
         "256.571",
         "256.558",
         "256.759",
         "257.346",
         "257.208",
         "256.974",
         "254.412",
         "256.903"
        ]
       ],
       "shape": {
        "columns": 15,
        "rows": 5
       }
      },
      "text/html": [
       "<div>\n",
       "<style scoped>\n",
       "    .dataframe tbody tr th:only-of-type {\n",
       "        vertical-align: middle;\n",
       "    }\n",
       "\n",
       "    .dataframe tbody tr th {\n",
       "        vertical-align: top;\n",
       "    }\n",
       "\n",
       "    .dataframe thead th {\n",
       "        text-align: right;\n",
       "    }\n",
       "</style>\n",
       "<table border=\"1\" class=\"dataframe\">\n",
       "  <thead>\n",
       "    <tr style=\"text-align: right;\">\n",
       "      <th></th>\n",
       "      <th>Year</th>\n",
       "      <th>Jan</th>\n",
       "      <th>Feb</th>\n",
       "      <th>Mar</th>\n",
       "      <th>Apr</th>\n",
       "      <th>May</th>\n",
       "      <th>Jun</th>\n",
       "      <th>Jul</th>\n",
       "      <th>Aug</th>\n",
       "      <th>Sep</th>\n",
       "      <th>Oct</th>\n",
       "      <th>Nov</th>\n",
       "      <th>Dec</th>\n",
       "      <th>HALF1</th>\n",
       "      <th>HALF2</th>\n",
       "    </tr>\n",
       "  </thead>\n",
       "  <tbody>\n",
       "    <tr>\n",
       "      <th>0</th>\n",
       "      <td>2015</td>\n",
       "      <td>233.707</td>\n",
       "      <td>234.722</td>\n",
       "      <td>236.119</td>\n",
       "      <td>236.599</td>\n",
       "      <td>237.805</td>\n",
       "      <td>238.638</td>\n",
       "      <td>238.654</td>\n",
       "      <td>238.316</td>\n",
       "      <td>237.945</td>\n",
       "      <td>237.838</td>\n",
       "      <td>237.336</td>\n",
       "      <td>236.525</td>\n",
       "      <td>236.265</td>\n",
       "      <td>237.769</td>\n",
       "    </tr>\n",
       "    <tr>\n",
       "      <th>1</th>\n",
       "      <td>2016</td>\n",
       "      <td>236.916</td>\n",
       "      <td>237.111</td>\n",
       "      <td>238.132</td>\n",
       "      <td>239.261</td>\n",
       "      <td>240.229</td>\n",
       "      <td>241.018</td>\n",
       "      <td>240.628</td>\n",
       "      <td>240.849</td>\n",
       "      <td>241.428</td>\n",
       "      <td>241.729</td>\n",
       "      <td>241.353</td>\n",
       "      <td>241.432</td>\n",
       "      <td>238.778</td>\n",
       "      <td>241.237</td>\n",
       "    </tr>\n",
       "    <tr>\n",
       "      <th>2</th>\n",
       "      <td>2017</td>\n",
       "      <td>242.839</td>\n",
       "      <td>243.603</td>\n",
       "      <td>243.801</td>\n",
       "      <td>244.524</td>\n",
       "      <td>244.733</td>\n",
       "      <td>244.955</td>\n",
       "      <td>244.786</td>\n",
       "      <td>245.519</td>\n",
       "      <td>246.819</td>\n",
       "      <td>246.663</td>\n",
       "      <td>246.669</td>\n",
       "      <td>246.524</td>\n",
       "      <td>244.076</td>\n",
       "      <td>246.163</td>\n",
       "    </tr>\n",
       "    <tr>\n",
       "      <th>3</th>\n",
       "      <td>2018</td>\n",
       "      <td>247.867</td>\n",
       "      <td>248.991</td>\n",
       "      <td>249.554</td>\n",
       "      <td>250.546</td>\n",
       "      <td>251.588</td>\n",
       "      <td>251.989</td>\n",
       "      <td>252.006</td>\n",
       "      <td>252.146</td>\n",
       "      <td>252.439</td>\n",
       "      <td>252.885</td>\n",
       "      <td>252.038</td>\n",
       "      <td>251.233</td>\n",
       "      <td>250.089</td>\n",
       "      <td>252.125</td>\n",
       "    </tr>\n",
       "    <tr>\n",
       "      <th>4</th>\n",
       "      <td>2019</td>\n",
       "      <td>251.712</td>\n",
       "      <td>252.776</td>\n",
       "      <td>254.202</td>\n",
       "      <td>255.548</td>\n",
       "      <td>256.092</td>\n",
       "      <td>256.143</td>\n",
       "      <td>256.571</td>\n",
       "      <td>256.558</td>\n",
       "      <td>256.759</td>\n",
       "      <td>257.346</td>\n",
       "      <td>257.208</td>\n",
       "      <td>256.974</td>\n",
       "      <td>254.412</td>\n",
       "      <td>256.903</td>\n",
       "    </tr>\n",
       "  </tbody>\n",
       "</table>\n",
       "</div>"
      ],
      "text/plain": [
       "   Year      Jan      Feb      Mar      Apr      May      Jun      Jul  \\\n",
       "0  2015  233.707  234.722  236.119  236.599  237.805  238.638  238.654   \n",
       "1  2016  236.916  237.111  238.132  239.261  240.229  241.018  240.628   \n",
       "2  2017  242.839  243.603  243.801  244.524  244.733  244.955  244.786   \n",
       "3  2018  247.867  248.991  249.554  250.546  251.588  251.989  252.006   \n",
       "4  2019  251.712  252.776  254.202  255.548  256.092  256.143  256.571   \n",
       "\n",
       "       Aug      Sep      Oct      Nov      Dec    HALF1    HALF2  \n",
       "0  238.316  237.945  237.838  237.336  236.525  236.265  237.769  \n",
       "1  240.849  241.428  241.729  241.353  241.432  238.778  241.237  \n",
       "2  245.519  246.819  246.663  246.669  246.524  244.076  246.163  \n",
       "3  252.146  252.439  252.885  252.038  251.233  250.089  252.125  \n",
       "4  256.558  256.759  257.346  257.208  256.974  254.412  256.903  "
      ]
     },
     "execution_count": 10,
     "metadata": {},
     "output_type": "execute_result"
    }
   ],
   "source": [
    "# Import the CPI Dataset\n",
    "df_cpi = pd.read_excel(\"data/CPI-march2025.xlsx\")\n",
    "\n",
    "df_cpi.head()"
   ]
  },
  {
   "cell_type": "code",
   "execution_count": 11,
   "id": "6d1a71f9",
   "metadata": {},
   "outputs": [],
   "source": [
    "# Drop the columns that are not needed\n",
    "df_cpi = df_cpi.drop(columns=[\"HALF1\", \"HALF2\"], errors=\"ignore\")"
   ]
  },
  {
   "cell_type": "code",
   "execution_count": 12,
   "id": "56bcf6db",
   "metadata": {},
   "outputs": [],
   "source": [
    "# Transform Wide format to Long Format\n",
    "cpi_long = df_cpi.melt(id_vars=[\"Year\"], var_name=\"Month\", value_name=\"CPI_All_Items\")"
   ]
  },
  {
   "cell_type": "code",
   "execution_count": 13,
   "id": "7936a8ba",
   "metadata": {},
   "outputs": [
    {
     "data": {
      "application/vnd.microsoft.datawrangler.viewer.v0+json": {
       "columns": [
        {
         "name": "index",
         "rawType": "int64",
         "type": "integer"
        },
        {
         "name": "Year",
         "rawType": "int64",
         "type": "integer"
        },
        {
         "name": "Month",
         "rawType": "object",
         "type": "string"
        },
        {
         "name": "CPI_All_Items",
         "rawType": "float64",
         "type": "float"
        }
       ],
       "conversionMethod": "pd.DataFrame",
       "ref": "e809f15a-8f2d-4674-91a4-c35289d5ca01",
       "rows": [
        [
         "0",
         "2015",
         "Jan",
         "233.707"
        ],
        [
         "1",
         "2016",
         "Jan",
         "236.916"
        ],
        [
         "2",
         "2017",
         "Jan",
         "242.839"
        ],
        [
         "3",
         "2018",
         "Jan",
         "247.867"
        ],
        [
         "4",
         "2019",
         "Jan",
         "251.712"
        ],
        [
         "5",
         "2020",
         "Jan",
         "257.971"
        ],
        [
         "6",
         "2021",
         "Jan",
         "261.582"
        ],
        [
         "7",
         "2022",
         "Jan",
         "281.148"
        ],
        [
         "8",
         "2023",
         "Jan",
         "299.17"
        ],
        [
         "9",
         "2024",
         "Jan",
         "308.417"
        ],
        [
         "10",
         "2025",
         "Jan",
         "317.671"
        ],
        [
         "11",
         "2015",
         "Feb",
         "234.722"
        ],
        [
         "12",
         "2016",
         "Feb",
         "237.111"
        ],
        [
         "13",
         "2017",
         "Feb",
         "243.603"
        ],
        [
         "14",
         "2018",
         "Feb",
         "248.991"
        ],
        [
         "15",
         "2019",
         "Feb",
         "252.776"
        ],
        [
         "16",
         "2020",
         "Feb",
         "258.678"
        ],
        [
         "17",
         "2021",
         "Feb",
         "263.014"
        ],
        [
         "18",
         "2022",
         "Feb",
         "283.716"
        ],
        [
         "19",
         "2023",
         "Feb",
         "300.84"
        ],
        [
         "20",
         "2024",
         "Feb",
         "310.326"
        ],
        [
         "21",
         "2025",
         "Feb",
         "319.082"
        ],
        [
         "22",
         "2015",
         "Mar",
         "236.119"
        ],
        [
         "23",
         "2016",
         "Mar",
         "238.132"
        ],
        [
         "24",
         "2017",
         "Mar",
         "243.801"
        ],
        [
         "25",
         "2018",
         "Mar",
         "249.554"
        ],
        [
         "26",
         "2019",
         "Mar",
         "254.202"
        ],
        [
         "27",
         "2020",
         "Mar",
         "258.115"
        ],
        [
         "28",
         "2021",
         "Mar",
         "264.877"
        ],
        [
         "29",
         "2022",
         "Mar",
         "287.504"
        ],
        [
         "30",
         "2023",
         "Mar",
         "301.836"
        ],
        [
         "31",
         "2024",
         "Mar",
         "312.332"
        ],
        [
         "32",
         "2025",
         "Mar",
         "319.799"
        ],
        [
         "33",
         "2015",
         "Apr",
         "236.599"
        ],
        [
         "34",
         "2016",
         "Apr",
         "239.261"
        ],
        [
         "35",
         "2017",
         "Apr",
         "244.524"
        ],
        [
         "36",
         "2018",
         "Apr",
         "250.546"
        ],
        [
         "37",
         "2019",
         "Apr",
         "255.548"
        ],
        [
         "38",
         "2020",
         "Apr",
         "256.389"
        ],
        [
         "39",
         "2021",
         "Apr",
         "267.054"
        ],
        [
         "40",
         "2022",
         "Apr",
         "289.109"
        ],
        [
         "41",
         "2023",
         "Apr",
         "303.363"
        ],
        [
         "42",
         "2024",
         "Apr",
         "313.548"
        ],
        [
         "44",
         "2015",
         "May",
         "237.805"
        ],
        [
         "45",
         "2016",
         "May",
         "240.229"
        ],
        [
         "46",
         "2017",
         "May",
         "244.733"
        ],
        [
         "47",
         "2018",
         "May",
         "251.588"
        ],
        [
         "48",
         "2019",
         "May",
         "256.092"
        ],
        [
         "49",
         "2020",
         "May",
         "256.394"
        ],
        [
         "50",
         "2021",
         "May",
         "269.195"
        ]
       ],
       "shape": {
        "columns": 3,
        "rows": 123
       }
      },
      "text/html": [
       "<div>\n",
       "<style scoped>\n",
       "    .dataframe tbody tr th:only-of-type {\n",
       "        vertical-align: middle;\n",
       "    }\n",
       "\n",
       "    .dataframe tbody tr th {\n",
       "        vertical-align: top;\n",
       "    }\n",
       "\n",
       "    .dataframe thead th {\n",
       "        text-align: right;\n",
       "    }\n",
       "</style>\n",
       "<table border=\"1\" class=\"dataframe\">\n",
       "  <thead>\n",
       "    <tr style=\"text-align: right;\">\n",
       "      <th></th>\n",
       "      <th>Year</th>\n",
       "      <th>Month</th>\n",
       "      <th>CPI_All_Items</th>\n",
       "    </tr>\n",
       "  </thead>\n",
       "  <tbody>\n",
       "    <tr>\n",
       "      <th>0</th>\n",
       "      <td>2015</td>\n",
       "      <td>Jan</td>\n",
       "      <td>233.707</td>\n",
       "    </tr>\n",
       "    <tr>\n",
       "      <th>1</th>\n",
       "      <td>2016</td>\n",
       "      <td>Jan</td>\n",
       "      <td>236.916</td>\n",
       "    </tr>\n",
       "    <tr>\n",
       "      <th>2</th>\n",
       "      <td>2017</td>\n",
       "      <td>Jan</td>\n",
       "      <td>242.839</td>\n",
       "    </tr>\n",
       "    <tr>\n",
       "      <th>3</th>\n",
       "      <td>2018</td>\n",
       "      <td>Jan</td>\n",
       "      <td>247.867</td>\n",
       "    </tr>\n",
       "    <tr>\n",
       "      <th>4</th>\n",
       "      <td>2019</td>\n",
       "      <td>Jan</td>\n",
       "      <td>251.712</td>\n",
       "    </tr>\n",
       "    <tr>\n",
       "      <th>...</th>\n",
       "      <td>...</td>\n",
       "      <td>...</td>\n",
       "      <td>...</td>\n",
       "    </tr>\n",
       "    <tr>\n",
       "      <th>126</th>\n",
       "      <td>2020</td>\n",
       "      <td>Dec</td>\n",
       "      <td>260.474</td>\n",
       "    </tr>\n",
       "    <tr>\n",
       "      <th>127</th>\n",
       "      <td>2021</td>\n",
       "      <td>Dec</td>\n",
       "      <td>278.802</td>\n",
       "    </tr>\n",
       "    <tr>\n",
       "      <th>128</th>\n",
       "      <td>2022</td>\n",
       "      <td>Dec</td>\n",
       "      <td>296.797</td>\n",
       "    </tr>\n",
       "    <tr>\n",
       "      <th>129</th>\n",
       "      <td>2023</td>\n",
       "      <td>Dec</td>\n",
       "      <td>306.746</td>\n",
       "    </tr>\n",
       "    <tr>\n",
       "      <th>130</th>\n",
       "      <td>2024</td>\n",
       "      <td>Dec</td>\n",
       "      <td>315.605</td>\n",
       "    </tr>\n",
       "  </tbody>\n",
       "</table>\n",
       "<p>123 rows × 3 columns</p>\n",
       "</div>"
      ],
      "text/plain": [
       "     Year Month  CPI_All_Items\n",
       "0    2015   Jan        233.707\n",
       "1    2016   Jan        236.916\n",
       "2    2017   Jan        242.839\n",
       "3    2018   Jan        247.867\n",
       "4    2019   Jan        251.712\n",
       "..    ...   ...            ...\n",
       "126  2020   Dec        260.474\n",
       "127  2021   Dec        278.802\n",
       "128  2022   Dec        296.797\n",
       "129  2023   Dec        306.746\n",
       "130  2024   Dec        315.605\n",
       "\n",
       "[123 rows x 3 columns]"
      ]
     },
     "execution_count": 13,
     "metadata": {},
     "output_type": "execute_result"
    }
   ],
   "source": [
    "# Filter out empty rows\n",
    "cpi_long.dropna(subset=[\"CPI_All_Items\"], inplace=True)\n",
    "\n",
    "cpi_long"
   ]
  },
  {
   "cell_type": "code",
   "execution_count": 14,
   "id": "18ae64eb",
   "metadata": {},
   "outputs": [
    {
     "data": {
      "application/vnd.microsoft.datawrangler.viewer.v0+json": {
       "columns": [
        {
         "name": "index",
         "rawType": "int64",
         "type": "integer"
        },
        {
         "name": "Year",
         "rawType": "int64",
         "type": "integer"
        },
        {
         "name": "Month",
         "rawType": "int64",
         "type": "integer"
        },
        {
         "name": "CPI_All_Items",
         "rawType": "float64",
         "type": "float"
        }
       ],
       "conversionMethod": "pd.DataFrame",
       "ref": "62a97f3c-5536-49db-82ae-bd22d91d5464",
       "rows": [
        [
         "0",
         "2015",
         "1",
         "233.707"
        ],
        [
         "1",
         "2016",
         "1",
         "236.916"
        ],
        [
         "2",
         "2017",
         "1",
         "242.839"
        ],
        [
         "3",
         "2018",
         "1",
         "247.867"
        ],
        [
         "4",
         "2019",
         "1",
         "251.712"
        ],
        [
         "5",
         "2020",
         "1",
         "257.971"
        ],
        [
         "6",
         "2021",
         "1",
         "261.582"
        ],
        [
         "7",
         "2022",
         "1",
         "281.148"
        ],
        [
         "8",
         "2023",
         "1",
         "299.17"
        ],
        [
         "9",
         "2024",
         "1",
         "308.417"
        ],
        [
         "10",
         "2025",
         "1",
         "317.671"
        ],
        [
         "11",
         "2015",
         "2",
         "234.722"
        ],
        [
         "12",
         "2016",
         "2",
         "237.111"
        ],
        [
         "13",
         "2017",
         "2",
         "243.603"
        ],
        [
         "14",
         "2018",
         "2",
         "248.991"
        ],
        [
         "15",
         "2019",
         "2",
         "252.776"
        ],
        [
         "16",
         "2020",
         "2",
         "258.678"
        ],
        [
         "17",
         "2021",
         "2",
         "263.014"
        ],
        [
         "18",
         "2022",
         "2",
         "283.716"
        ],
        [
         "19",
         "2023",
         "2",
         "300.84"
        ],
        [
         "20",
         "2024",
         "2",
         "310.326"
        ],
        [
         "21",
         "2025",
         "2",
         "319.082"
        ],
        [
         "22",
         "2015",
         "3",
         "236.119"
        ],
        [
         "23",
         "2016",
         "3",
         "238.132"
        ],
        [
         "24",
         "2017",
         "3",
         "243.801"
        ],
        [
         "25",
         "2018",
         "3",
         "249.554"
        ],
        [
         "26",
         "2019",
         "3",
         "254.202"
        ],
        [
         "27",
         "2020",
         "3",
         "258.115"
        ],
        [
         "28",
         "2021",
         "3",
         "264.877"
        ],
        [
         "29",
         "2022",
         "3",
         "287.504"
        ],
        [
         "30",
         "2023",
         "3",
         "301.836"
        ],
        [
         "31",
         "2024",
         "3",
         "312.332"
        ],
        [
         "32",
         "2025",
         "3",
         "319.799"
        ],
        [
         "33",
         "2015",
         "4",
         "236.599"
        ],
        [
         "34",
         "2016",
         "4",
         "239.261"
        ],
        [
         "35",
         "2017",
         "4",
         "244.524"
        ],
        [
         "36",
         "2018",
         "4",
         "250.546"
        ],
        [
         "37",
         "2019",
         "4",
         "255.548"
        ],
        [
         "38",
         "2020",
         "4",
         "256.389"
        ],
        [
         "39",
         "2021",
         "4",
         "267.054"
        ],
        [
         "40",
         "2022",
         "4",
         "289.109"
        ],
        [
         "41",
         "2023",
         "4",
         "303.363"
        ],
        [
         "42",
         "2024",
         "4",
         "313.548"
        ],
        [
         "44",
         "2015",
         "5",
         "237.805"
        ],
        [
         "45",
         "2016",
         "5",
         "240.229"
        ],
        [
         "46",
         "2017",
         "5",
         "244.733"
        ],
        [
         "47",
         "2018",
         "5",
         "251.588"
        ],
        [
         "48",
         "2019",
         "5",
         "256.092"
        ],
        [
         "49",
         "2020",
         "5",
         "256.394"
        ],
        [
         "50",
         "2021",
         "5",
         "269.195"
        ]
       ],
       "shape": {
        "columns": 3,
        "rows": 123
       }
      },
      "text/html": [
       "<div>\n",
       "<style scoped>\n",
       "    .dataframe tbody tr th:only-of-type {\n",
       "        vertical-align: middle;\n",
       "    }\n",
       "\n",
       "    .dataframe tbody tr th {\n",
       "        vertical-align: top;\n",
       "    }\n",
       "\n",
       "    .dataframe thead th {\n",
       "        text-align: right;\n",
       "    }\n",
       "</style>\n",
       "<table border=\"1\" class=\"dataframe\">\n",
       "  <thead>\n",
       "    <tr style=\"text-align: right;\">\n",
       "      <th></th>\n",
       "      <th>Year</th>\n",
       "      <th>Month</th>\n",
       "      <th>CPI_All_Items</th>\n",
       "    </tr>\n",
       "  </thead>\n",
       "  <tbody>\n",
       "    <tr>\n",
       "      <th>0</th>\n",
       "      <td>2015</td>\n",
       "      <td>1</td>\n",
       "      <td>233.707</td>\n",
       "    </tr>\n",
       "    <tr>\n",
       "      <th>1</th>\n",
       "      <td>2016</td>\n",
       "      <td>1</td>\n",
       "      <td>236.916</td>\n",
       "    </tr>\n",
       "    <tr>\n",
       "      <th>2</th>\n",
       "      <td>2017</td>\n",
       "      <td>1</td>\n",
       "      <td>242.839</td>\n",
       "    </tr>\n",
       "    <tr>\n",
       "      <th>3</th>\n",
       "      <td>2018</td>\n",
       "      <td>1</td>\n",
       "      <td>247.867</td>\n",
       "    </tr>\n",
       "    <tr>\n",
       "      <th>4</th>\n",
       "      <td>2019</td>\n",
       "      <td>1</td>\n",
       "      <td>251.712</td>\n",
       "    </tr>\n",
       "    <tr>\n",
       "      <th>...</th>\n",
       "      <td>...</td>\n",
       "      <td>...</td>\n",
       "      <td>...</td>\n",
       "    </tr>\n",
       "    <tr>\n",
       "      <th>126</th>\n",
       "      <td>2020</td>\n",
       "      <td>12</td>\n",
       "      <td>260.474</td>\n",
       "    </tr>\n",
       "    <tr>\n",
       "      <th>127</th>\n",
       "      <td>2021</td>\n",
       "      <td>12</td>\n",
       "      <td>278.802</td>\n",
       "    </tr>\n",
       "    <tr>\n",
       "      <th>128</th>\n",
       "      <td>2022</td>\n",
       "      <td>12</td>\n",
       "      <td>296.797</td>\n",
       "    </tr>\n",
       "    <tr>\n",
       "      <th>129</th>\n",
       "      <td>2023</td>\n",
       "      <td>12</td>\n",
       "      <td>306.746</td>\n",
       "    </tr>\n",
       "    <tr>\n",
       "      <th>130</th>\n",
       "      <td>2024</td>\n",
       "      <td>12</td>\n",
       "      <td>315.605</td>\n",
       "    </tr>\n",
       "  </tbody>\n",
       "</table>\n",
       "<p>123 rows × 3 columns</p>\n",
       "</div>"
      ],
      "text/plain": [
       "     Year  Month  CPI_All_Items\n",
       "0    2015      1        233.707\n",
       "1    2016      1        236.916\n",
       "2    2017      1        242.839\n",
       "3    2018      1        247.867\n",
       "4    2019      1        251.712\n",
       "..    ...    ...            ...\n",
       "126  2020     12        260.474\n",
       "127  2021     12        278.802\n",
       "128  2022     12        296.797\n",
       "129  2023     12        306.746\n",
       "130  2024     12        315.605\n",
       "\n",
       "[123 rows x 3 columns]"
      ]
     },
     "execution_count": 14,
     "metadata": {},
     "output_type": "execute_result"
    }
   ],
   "source": [
    "# Convert month names into month numbers\n",
    "month_map = {\n",
    "    \"Jan\": 1, \"Feb\": 2, \"Mar\":3, \"Apr\": 4,\n",
    "    \"May\": 5, \"Jun\": 6, \"Jul\": 7, \"Aug\": 8,\n",
    "    \"Sep\": 9, \"Oct\": 10, \"Nov\": 11, \"Dec\": 12,\n",
    "}\n",
    "\n",
    "cpi_long[\"Month\"] = cpi_long[\"Month\"].map(month_map)\n",
    "\n",
    "cpi_long"
   ]
  },
  {
   "cell_type": "code",
   "execution_count": 16,
   "id": "1ebd755e",
   "metadata": {},
   "outputs": [
    {
     "data": {
      "application/vnd.microsoft.datawrangler.viewer.v0+json": {
       "columns": [
        {
         "name": "Date",
         "rawType": "datetime64[ns]",
         "type": "datetime"
        },
        {
         "name": "Year",
         "rawType": "int64",
         "type": "integer"
        },
        {
         "name": "Month",
         "rawType": "int64",
         "type": "integer"
        },
        {
         "name": "CPI_All_Items",
         "rawType": "float64",
         "type": "float"
        }
       ],
       "conversionMethod": "pd.DataFrame",
       "ref": "d876fb7d-2ef8-44a2-92bd-d9a58fd71839",
       "rows": [
        [
         "2015-01-01 00:00:00",
         "2015",
         "1",
         "233.707"
        ],
        [
         "2015-02-01 00:00:00",
         "2015",
         "2",
         "234.722"
        ],
        [
         "2015-03-01 00:00:00",
         "2015",
         "3",
         "236.119"
        ],
        [
         "2015-04-01 00:00:00",
         "2015",
         "4",
         "236.599"
        ],
        [
         "2015-05-01 00:00:00",
         "2015",
         "5",
         "237.805"
        ],
        [
         "2015-06-01 00:00:00",
         "2015",
         "6",
         "238.638"
        ],
        [
         "2015-07-01 00:00:00",
         "2015",
         "7",
         "238.654"
        ],
        [
         "2015-08-01 00:00:00",
         "2015",
         "8",
         "238.316"
        ],
        [
         "2015-09-01 00:00:00",
         "2015",
         "9",
         "237.945"
        ],
        [
         "2015-10-01 00:00:00",
         "2015",
         "10",
         "237.838"
        ],
        [
         "2015-11-01 00:00:00",
         "2015",
         "11",
         "237.336"
        ],
        [
         "2015-12-01 00:00:00",
         "2015",
         "12",
         "236.525"
        ],
        [
         "2016-01-01 00:00:00",
         "2016",
         "1",
         "236.916"
        ],
        [
         "2016-02-01 00:00:00",
         "2016",
         "2",
         "237.111"
        ],
        [
         "2016-03-01 00:00:00",
         "2016",
         "3",
         "238.132"
        ],
        [
         "2016-04-01 00:00:00",
         "2016",
         "4",
         "239.261"
        ],
        [
         "2016-05-01 00:00:00",
         "2016",
         "5",
         "240.229"
        ],
        [
         "2016-06-01 00:00:00",
         "2016",
         "6",
         "241.018"
        ],
        [
         "2016-07-01 00:00:00",
         "2016",
         "7",
         "240.628"
        ],
        [
         "2016-08-01 00:00:00",
         "2016",
         "8",
         "240.849"
        ],
        [
         "2016-09-01 00:00:00",
         "2016",
         "9",
         "241.428"
        ],
        [
         "2016-10-01 00:00:00",
         "2016",
         "10",
         "241.729"
        ],
        [
         "2016-11-01 00:00:00",
         "2016",
         "11",
         "241.353"
        ],
        [
         "2016-12-01 00:00:00",
         "2016",
         "12",
         "241.432"
        ],
        [
         "2017-01-01 00:00:00",
         "2017",
         "1",
         "242.839"
        ],
        [
         "2017-02-01 00:00:00",
         "2017",
         "2",
         "243.603"
        ],
        [
         "2017-03-01 00:00:00",
         "2017",
         "3",
         "243.801"
        ],
        [
         "2017-04-01 00:00:00",
         "2017",
         "4",
         "244.524"
        ],
        [
         "2017-05-01 00:00:00",
         "2017",
         "5",
         "244.733"
        ],
        [
         "2017-06-01 00:00:00",
         "2017",
         "6",
         "244.955"
        ],
        [
         "2017-07-01 00:00:00",
         "2017",
         "7",
         "244.786"
        ],
        [
         "2017-08-01 00:00:00",
         "2017",
         "8",
         "245.519"
        ],
        [
         "2017-09-01 00:00:00",
         "2017",
         "9",
         "246.819"
        ],
        [
         "2017-10-01 00:00:00",
         "2017",
         "10",
         "246.663"
        ],
        [
         "2017-11-01 00:00:00",
         "2017",
         "11",
         "246.669"
        ],
        [
         "2017-12-01 00:00:00",
         "2017",
         "12",
         "246.524"
        ],
        [
         "2018-01-01 00:00:00",
         "2018",
         "1",
         "247.867"
        ],
        [
         "2018-02-01 00:00:00",
         "2018",
         "2",
         "248.991"
        ],
        [
         "2018-03-01 00:00:00",
         "2018",
         "3",
         "249.554"
        ],
        [
         "2018-04-01 00:00:00",
         "2018",
         "4",
         "250.546"
        ],
        [
         "2018-05-01 00:00:00",
         "2018",
         "5",
         "251.588"
        ],
        [
         "2018-06-01 00:00:00",
         "2018",
         "6",
         "251.989"
        ],
        [
         "2018-07-01 00:00:00",
         "2018",
         "7",
         "252.006"
        ],
        [
         "2018-08-01 00:00:00",
         "2018",
         "8",
         "252.146"
        ],
        [
         "2018-09-01 00:00:00",
         "2018",
         "9",
         "252.439"
        ],
        [
         "2018-10-01 00:00:00",
         "2018",
         "10",
         "252.885"
        ],
        [
         "2018-11-01 00:00:00",
         "2018",
         "11",
         "252.038"
        ],
        [
         "2018-12-01 00:00:00",
         "2018",
         "12",
         "251.233"
        ],
        [
         "2019-01-01 00:00:00",
         "2019",
         "1",
         "251.712"
        ],
        [
         "2019-02-01 00:00:00",
         "2019",
         "2",
         "252.776"
        ]
       ],
       "shape": {
        "columns": 3,
        "rows": 123
       }
      },
      "text/html": [
       "<div>\n",
       "<style scoped>\n",
       "    .dataframe tbody tr th:only-of-type {\n",
       "        vertical-align: middle;\n",
       "    }\n",
       "\n",
       "    .dataframe tbody tr th {\n",
       "        vertical-align: top;\n",
       "    }\n",
       "\n",
       "    .dataframe thead th {\n",
       "        text-align: right;\n",
       "    }\n",
       "</style>\n",
       "<table border=\"1\" class=\"dataframe\">\n",
       "  <thead>\n",
       "    <tr style=\"text-align: right;\">\n",
       "      <th></th>\n",
       "      <th>Year</th>\n",
       "      <th>Month</th>\n",
       "      <th>CPI_All_Items</th>\n",
       "    </tr>\n",
       "    <tr>\n",
       "      <th>Date</th>\n",
       "      <th></th>\n",
       "      <th></th>\n",
       "      <th></th>\n",
       "    </tr>\n",
       "  </thead>\n",
       "  <tbody>\n",
       "    <tr>\n",
       "      <th>2015-01-01</th>\n",
       "      <td>2015</td>\n",
       "      <td>1</td>\n",
       "      <td>233.707</td>\n",
       "    </tr>\n",
       "    <tr>\n",
       "      <th>2015-02-01</th>\n",
       "      <td>2015</td>\n",
       "      <td>2</td>\n",
       "      <td>234.722</td>\n",
       "    </tr>\n",
       "    <tr>\n",
       "      <th>2015-03-01</th>\n",
       "      <td>2015</td>\n",
       "      <td>3</td>\n",
       "      <td>236.119</td>\n",
       "    </tr>\n",
       "    <tr>\n",
       "      <th>2015-04-01</th>\n",
       "      <td>2015</td>\n",
       "      <td>4</td>\n",
       "      <td>236.599</td>\n",
       "    </tr>\n",
       "    <tr>\n",
       "      <th>2015-05-01</th>\n",
       "      <td>2015</td>\n",
       "      <td>5</td>\n",
       "      <td>237.805</td>\n",
       "    </tr>\n",
       "    <tr>\n",
       "      <th>...</th>\n",
       "      <td>...</td>\n",
       "      <td>...</td>\n",
       "      <td>...</td>\n",
       "    </tr>\n",
       "    <tr>\n",
       "      <th>2024-11-01</th>\n",
       "      <td>2024</td>\n",
       "      <td>11</td>\n",
       "      <td>315.493</td>\n",
       "    </tr>\n",
       "    <tr>\n",
       "      <th>2024-12-01</th>\n",
       "      <td>2024</td>\n",
       "      <td>12</td>\n",
       "      <td>315.605</td>\n",
       "    </tr>\n",
       "    <tr>\n",
       "      <th>2025-01-01</th>\n",
       "      <td>2025</td>\n",
       "      <td>1</td>\n",
       "      <td>317.671</td>\n",
       "    </tr>\n",
       "    <tr>\n",
       "      <th>2025-02-01</th>\n",
       "      <td>2025</td>\n",
       "      <td>2</td>\n",
       "      <td>319.082</td>\n",
       "    </tr>\n",
       "    <tr>\n",
       "      <th>2025-03-01</th>\n",
       "      <td>2025</td>\n",
       "      <td>3</td>\n",
       "      <td>319.799</td>\n",
       "    </tr>\n",
       "  </tbody>\n",
       "</table>\n",
       "<p>123 rows × 3 columns</p>\n",
       "</div>"
      ],
      "text/plain": [
       "            Year  Month  CPI_All_Items\n",
       "Date                                  \n",
       "2015-01-01  2015      1        233.707\n",
       "2015-02-01  2015      2        234.722\n",
       "2015-03-01  2015      3        236.119\n",
       "2015-04-01  2015      4        236.599\n",
       "2015-05-01  2015      5        237.805\n",
       "...          ...    ...            ...\n",
       "2024-11-01  2024     11        315.493\n",
       "2024-12-01  2024     12        315.605\n",
       "2025-01-01  2025      1        317.671\n",
       "2025-02-01  2025      2        319.082\n",
       "2025-03-01  2025      3        319.799\n",
       "\n",
       "[123 rows x 3 columns]"
      ]
     },
     "execution_count": 16,
     "metadata": {},
     "output_type": "execute_result"
    }
   ],
   "source": [
    "# Create proper datetime index\n",
    "cpi_long[\"Date\"] = pd.to_datetime(dict(year=cpi_long.Year, month=cpi_long.Month, day=1))\n",
    "\n",
    "# Set Date as index\n",
    "cpi_long.set_index(\"Date\", inplace=True)\n",
    "cpi_long.sort_index(inplace=True)\n",
    "\n",
    "cpi_long"
   ]
  },
  {
   "cell_type": "code",
   "execution_count": 17,
   "id": "a5ba382c",
   "metadata": {},
   "outputs": [
    {
     "data": {
      "application/vnd.microsoft.datawrangler.viewer.v0+json": {
       "columns": [
        {
         "name": "Date",
         "rawType": "datetime64[ns]",
         "type": "datetime"
        },
        {
         "name": "CPI_All_Items",
         "rawType": "float64",
         "type": "float"
        }
       ],
       "conversionMethod": "pd.DataFrame",
       "ref": "398e6b1a-3521-4d02-82f8-9c1ad7474730",
       "rows": [
        [
         "2015-01-01 00:00:00",
         "233.707"
        ],
        [
         "2015-02-01 00:00:00",
         "234.722"
        ],
        [
         "2015-03-01 00:00:00",
         "236.119"
        ],
        [
         "2015-04-01 00:00:00",
         "236.599"
        ],
        [
         "2015-05-01 00:00:00",
         "237.805"
        ],
        [
         "2015-06-01 00:00:00",
         "238.638"
        ],
        [
         "2015-07-01 00:00:00",
         "238.654"
        ],
        [
         "2015-08-01 00:00:00",
         "238.316"
        ],
        [
         "2015-09-01 00:00:00",
         "237.945"
        ],
        [
         "2015-10-01 00:00:00",
         "237.838"
        ],
        [
         "2015-11-01 00:00:00",
         "237.336"
        ],
        [
         "2015-12-01 00:00:00",
         "236.525"
        ],
        [
         "2016-01-01 00:00:00",
         "236.916"
        ],
        [
         "2016-02-01 00:00:00",
         "237.111"
        ],
        [
         "2016-03-01 00:00:00",
         "238.132"
        ],
        [
         "2016-04-01 00:00:00",
         "239.261"
        ],
        [
         "2016-05-01 00:00:00",
         "240.229"
        ],
        [
         "2016-06-01 00:00:00",
         "241.018"
        ],
        [
         "2016-07-01 00:00:00",
         "240.628"
        ],
        [
         "2016-08-01 00:00:00",
         "240.849"
        ],
        [
         "2016-09-01 00:00:00",
         "241.428"
        ],
        [
         "2016-10-01 00:00:00",
         "241.729"
        ],
        [
         "2016-11-01 00:00:00",
         "241.353"
        ],
        [
         "2016-12-01 00:00:00",
         "241.432"
        ],
        [
         "2017-01-01 00:00:00",
         "242.839"
        ],
        [
         "2017-02-01 00:00:00",
         "243.603"
        ],
        [
         "2017-03-01 00:00:00",
         "243.801"
        ],
        [
         "2017-04-01 00:00:00",
         "244.524"
        ],
        [
         "2017-05-01 00:00:00",
         "244.733"
        ],
        [
         "2017-06-01 00:00:00",
         "244.955"
        ],
        [
         "2017-07-01 00:00:00",
         "244.786"
        ],
        [
         "2017-08-01 00:00:00",
         "245.519"
        ],
        [
         "2017-09-01 00:00:00",
         "246.819"
        ],
        [
         "2017-10-01 00:00:00",
         "246.663"
        ],
        [
         "2017-11-01 00:00:00",
         "246.669"
        ],
        [
         "2017-12-01 00:00:00",
         "246.524"
        ],
        [
         "2018-01-01 00:00:00",
         "247.867"
        ],
        [
         "2018-02-01 00:00:00",
         "248.991"
        ],
        [
         "2018-03-01 00:00:00",
         "249.554"
        ],
        [
         "2018-04-01 00:00:00",
         "250.546"
        ],
        [
         "2018-05-01 00:00:00",
         "251.588"
        ],
        [
         "2018-06-01 00:00:00",
         "251.989"
        ],
        [
         "2018-07-01 00:00:00",
         "252.006"
        ],
        [
         "2018-08-01 00:00:00",
         "252.146"
        ],
        [
         "2018-09-01 00:00:00",
         "252.439"
        ],
        [
         "2018-10-01 00:00:00",
         "252.885"
        ],
        [
         "2018-11-01 00:00:00",
         "252.038"
        ],
        [
         "2018-12-01 00:00:00",
         "251.233"
        ],
        [
         "2019-01-01 00:00:00",
         "251.712"
        ],
        [
         "2019-02-01 00:00:00",
         "252.776"
        ]
       ],
       "shape": {
        "columns": 1,
        "rows": 123
       }
      },
      "text/html": [
       "<div>\n",
       "<style scoped>\n",
       "    .dataframe tbody tr th:only-of-type {\n",
       "        vertical-align: middle;\n",
       "    }\n",
       "\n",
       "    .dataframe tbody tr th {\n",
       "        vertical-align: top;\n",
       "    }\n",
       "\n",
       "    .dataframe thead th {\n",
       "        text-align: right;\n",
       "    }\n",
       "</style>\n",
       "<table border=\"1\" class=\"dataframe\">\n",
       "  <thead>\n",
       "    <tr style=\"text-align: right;\">\n",
       "      <th></th>\n",
       "      <th>CPI_All_Items</th>\n",
       "    </tr>\n",
       "    <tr>\n",
       "      <th>Date</th>\n",
       "      <th></th>\n",
       "    </tr>\n",
       "  </thead>\n",
       "  <tbody>\n",
       "    <tr>\n",
       "      <th>2015-01-01</th>\n",
       "      <td>233.707</td>\n",
       "    </tr>\n",
       "    <tr>\n",
       "      <th>2015-02-01</th>\n",
       "      <td>234.722</td>\n",
       "    </tr>\n",
       "    <tr>\n",
       "      <th>2015-03-01</th>\n",
       "      <td>236.119</td>\n",
       "    </tr>\n",
       "    <tr>\n",
       "      <th>2015-04-01</th>\n",
       "      <td>236.599</td>\n",
       "    </tr>\n",
       "    <tr>\n",
       "      <th>2015-05-01</th>\n",
       "      <td>237.805</td>\n",
       "    </tr>\n",
       "    <tr>\n",
       "      <th>...</th>\n",
       "      <td>...</td>\n",
       "    </tr>\n",
       "    <tr>\n",
       "      <th>2024-11-01</th>\n",
       "      <td>315.493</td>\n",
       "    </tr>\n",
       "    <tr>\n",
       "      <th>2024-12-01</th>\n",
       "      <td>315.605</td>\n",
       "    </tr>\n",
       "    <tr>\n",
       "      <th>2025-01-01</th>\n",
       "      <td>317.671</td>\n",
       "    </tr>\n",
       "    <tr>\n",
       "      <th>2025-02-01</th>\n",
       "      <td>319.082</td>\n",
       "    </tr>\n",
       "    <tr>\n",
       "      <th>2025-03-01</th>\n",
       "      <td>319.799</td>\n",
       "    </tr>\n",
       "  </tbody>\n",
       "</table>\n",
       "<p>123 rows × 1 columns</p>\n",
       "</div>"
      ],
      "text/plain": [
       "            CPI_All_Items\n",
       "Date                     \n",
       "2015-01-01        233.707\n",
       "2015-02-01        234.722\n",
       "2015-03-01        236.119\n",
       "2015-04-01        236.599\n",
       "2015-05-01        237.805\n",
       "...                   ...\n",
       "2024-11-01        315.493\n",
       "2024-12-01        315.605\n",
       "2025-01-01        317.671\n",
       "2025-02-01        319.082\n",
       "2025-03-01        319.799\n",
       "\n",
       "[123 rows x 1 columns]"
      ]
     },
     "execution_count": 17,
     "metadata": {},
     "output_type": "execute_result"
    }
   ],
   "source": [
    "cpi_df = cpi_long[[\"CPI_All_Items\"]]\n",
    "\n",
    "cpi_df"
   ]
  },
  {
   "cell_type": "markdown",
   "id": "34307863",
   "metadata": {},
   "source": [
    "### Merging Eggs & CPI Datasets"
   ]
  },
  {
   "cell_type": "code",
   "execution_count": 18,
   "id": "2fb4e12e",
   "metadata": {},
   "outputs": [
    {
     "data": {
      "application/vnd.microsoft.datawrangler.viewer.v0+json": {
       "columns": [
        {
         "name": "Date",
         "rawType": "datetime64[ns]",
         "type": "datetime"
        },
        {
         "name": "Nominal_Price_USD",
         "rawType": "float64",
         "type": "float"
        },
        {
         "name": "CPI_All_Items",
         "rawType": "float64",
         "type": "float"
        }
       ],
       "conversionMethod": "pd.DataFrame",
       "ref": "662b96c6-b455-47a3-b32d-09ba5e445531",
       "rows": [
        [
         "2015-01-01 00:00:00",
         "2.113",
         "233.707"
        ],
        [
         "2015-02-01 00:00:00",
         "2.088",
         "234.722"
        ],
        [
         "2015-03-01 00:00:00",
         "2.133",
         "236.119"
        ],
        [
         "2015-04-01 00:00:00",
         "2.065",
         "236.599"
        ],
        [
         "2015-05-01 00:00:00",
         "1.962",
         "237.805"
        ]
       ],
       "shape": {
        "columns": 2,
        "rows": 5
       }
      },
      "text/html": [
       "<div>\n",
       "<style scoped>\n",
       "    .dataframe tbody tr th:only-of-type {\n",
       "        vertical-align: middle;\n",
       "    }\n",
       "\n",
       "    .dataframe tbody tr th {\n",
       "        vertical-align: top;\n",
       "    }\n",
       "\n",
       "    .dataframe thead th {\n",
       "        text-align: right;\n",
       "    }\n",
       "</style>\n",
       "<table border=\"1\" class=\"dataframe\">\n",
       "  <thead>\n",
       "    <tr style=\"text-align: right;\">\n",
       "      <th></th>\n",
       "      <th>Nominal_Price_USD</th>\n",
       "      <th>CPI_All_Items</th>\n",
       "    </tr>\n",
       "    <tr>\n",
       "      <th>Date</th>\n",
       "      <th></th>\n",
       "      <th></th>\n",
       "    </tr>\n",
       "  </thead>\n",
       "  <tbody>\n",
       "    <tr>\n",
       "      <th>2015-01-01</th>\n",
       "      <td>2.113</td>\n",
       "      <td>233.707</td>\n",
       "    </tr>\n",
       "    <tr>\n",
       "      <th>2015-02-01</th>\n",
       "      <td>2.088</td>\n",
       "      <td>234.722</td>\n",
       "    </tr>\n",
       "    <tr>\n",
       "      <th>2015-03-01</th>\n",
       "      <td>2.133</td>\n",
       "      <td>236.119</td>\n",
       "    </tr>\n",
       "    <tr>\n",
       "      <th>2015-04-01</th>\n",
       "      <td>2.065</td>\n",
       "      <td>236.599</td>\n",
       "    </tr>\n",
       "    <tr>\n",
       "      <th>2015-05-01</th>\n",
       "      <td>1.962</td>\n",
       "      <td>237.805</td>\n",
       "    </tr>\n",
       "  </tbody>\n",
       "</table>\n",
       "</div>"
      ],
      "text/plain": [
       "            Nominal_Price_USD  CPI_All_Items\n",
       "Date                                        \n",
       "2015-01-01              2.113        233.707\n",
       "2015-02-01              2.088        234.722\n",
       "2015-03-01              2.133        236.119\n",
       "2015-04-01              2.065        236.599\n",
       "2015-05-01              1.962        237.805"
      ]
     },
     "execution_count": 18,
     "metadata": {},
     "output_type": "execute_result"
    }
   ],
   "source": [
    "df = df_egg.merge(cpi_df, left_index=True, right_index=True)\n",
    "df.head()"
   ]
  },
  {
   "cell_type": "markdown",
   "id": "7a1ae76d",
   "metadata": {},
   "source": [
    "### Adjusting for Inflation (Real Price in March 2025)"
   ]
  },
  {
   "cell_type": "code",
   "execution_count": 19,
   "id": "54febbe4",
   "metadata": {},
   "outputs": [
    {
     "data": {
      "application/vnd.microsoft.datawrangler.viewer.v0+json": {
       "columns": [
        {
         "name": "Date",
         "rawType": "datetime64[ns]",
         "type": "datetime"
        },
        {
         "name": "Nominal_Price_USD",
         "rawType": "float64",
         "type": "float"
        },
        {
         "name": "CPI_All_Items",
         "rawType": "float64",
         "type": "float"
        },
        {
         "name": "Real_Price_USD",
         "rawType": "float64",
         "type": "float"
        }
       ],
       "conversionMethod": "pd.DataFrame",
       "ref": "bffe0e0e-01a4-4f3e-81a8-876487769a25",
       "rows": [
        [
         "2015-01-01 00:00:00",
         "2.113",
         "233.707",
         "2.891378037457158"
        ],
        [
         "2015-02-01 00:00:00",
         "2.088",
         "234.722",
         "2.844813490000937"
        ],
        [
         "2015-03-01 00:00:00",
         "2.133",
         "236.119",
         "2.8889300183382103"
        ],
        [
         "2015-04-01 00:00:00",
         "2.065",
         "236.599",
         "2.7911569152870466"
        ],
        [
         "2015-05-01 00:00:00",
         "1.962",
         "237.805",
         "2.6384879964676937"
        ]
       ],
       "shape": {
        "columns": 3,
        "rows": 5
       }
      },
      "text/html": [
       "<div>\n",
       "<style scoped>\n",
       "    .dataframe tbody tr th:only-of-type {\n",
       "        vertical-align: middle;\n",
       "    }\n",
       "\n",
       "    .dataframe tbody tr th {\n",
       "        vertical-align: top;\n",
       "    }\n",
       "\n",
       "    .dataframe thead th {\n",
       "        text-align: right;\n",
       "    }\n",
       "</style>\n",
       "<table border=\"1\" class=\"dataframe\">\n",
       "  <thead>\n",
       "    <tr style=\"text-align: right;\">\n",
       "      <th></th>\n",
       "      <th>Nominal_Price_USD</th>\n",
       "      <th>CPI_All_Items</th>\n",
       "      <th>Real_Price_USD</th>\n",
       "    </tr>\n",
       "    <tr>\n",
       "      <th>Date</th>\n",
       "      <th></th>\n",
       "      <th></th>\n",
       "      <th></th>\n",
       "    </tr>\n",
       "  </thead>\n",
       "  <tbody>\n",
       "    <tr>\n",
       "      <th>2015-01-01</th>\n",
       "      <td>2.113</td>\n",
       "      <td>233.707</td>\n",
       "      <td>2.891378</td>\n",
       "    </tr>\n",
       "    <tr>\n",
       "      <th>2015-02-01</th>\n",
       "      <td>2.088</td>\n",
       "      <td>234.722</td>\n",
       "      <td>2.844813</td>\n",
       "    </tr>\n",
       "    <tr>\n",
       "      <th>2015-03-01</th>\n",
       "      <td>2.133</td>\n",
       "      <td>236.119</td>\n",
       "      <td>2.888930</td>\n",
       "    </tr>\n",
       "    <tr>\n",
       "      <th>2015-04-01</th>\n",
       "      <td>2.065</td>\n",
       "      <td>236.599</td>\n",
       "      <td>2.791157</td>\n",
       "    </tr>\n",
       "    <tr>\n",
       "      <th>2015-05-01</th>\n",
       "      <td>1.962</td>\n",
       "      <td>237.805</td>\n",
       "      <td>2.638488</td>\n",
       "    </tr>\n",
       "  </tbody>\n",
       "</table>\n",
       "</div>"
      ],
      "text/plain": [
       "            Nominal_Price_USD  CPI_All_Items  Real_Price_USD\n",
       "Date                                                        \n",
       "2015-01-01              2.113        233.707        2.891378\n",
       "2015-02-01              2.088        234.722        2.844813\n",
       "2015-03-01              2.133        236.119        2.888930\n",
       "2015-04-01              2.065        236.599        2.791157\n",
       "2015-05-01              1.962        237.805        2.638488"
      ]
     },
     "execution_count": 19,
     "metadata": {},
     "output_type": "execute_result"
    }
   ],
   "source": [
    "latest_cpi = df[\"CPI_All_Items\"].max()\n",
    "\n",
    "df[\"Real_Price_USD\"] = df[\"Nominal_Price_USD\"] * (latest_cpi / df[\"CPI_All_Items\"])\n",
    "\n",
    "df.head()"
   ]
  },
  {
   "cell_type": "code",
   "execution_count": 24,
   "id": "5370ab37",
   "metadata": {},
   "outputs": [
    {
     "data": {
      "application/vnd.microsoft.datawrangler.viewer.v0+json": {
       "columns": [
        {
         "name": "Date",
         "rawType": "datetime64[ns]",
         "type": "datetime"
        },
        {
         "name": "Nominal_Price_USD",
         "rawType": "float64",
         "type": "float"
        },
        {
         "name": "CPI_All_Items",
         "rawType": "float64",
         "type": "float"
        },
        {
         "name": "Real_Price_USD",
         "rawType": "float64",
         "type": "float"
        }
       ],
       "conversionMethod": "pd.DataFrame",
       "ref": "35a2583b-544e-4ff8-b686-f3395e2e4c15",
       "rows": [
        [
         "2015-01-01 00:00:00",
         "2.113",
         "233.707",
         "2.89"
        ],
        [
         "2015-02-01 00:00:00",
         "2.088",
         "234.722",
         "2.84"
        ],
        [
         "2015-03-01 00:00:00",
         "2.133",
         "236.119",
         "2.89"
        ],
        [
         "2015-04-01 00:00:00",
         "2.065",
         "236.599",
         "2.79"
        ],
        [
         "2015-05-01 00:00:00",
         "1.962",
         "237.805",
         "2.64"
        ]
       ],
       "shape": {
        "columns": 3,
        "rows": 5
       }
      },
      "text/html": [
       "<div>\n",
       "<style scoped>\n",
       "    .dataframe tbody tr th:only-of-type {\n",
       "        vertical-align: middle;\n",
       "    }\n",
       "\n",
       "    .dataframe tbody tr th {\n",
       "        vertical-align: top;\n",
       "    }\n",
       "\n",
       "    .dataframe thead th {\n",
       "        text-align: right;\n",
       "    }\n",
       "</style>\n",
       "<table border=\"1\" class=\"dataframe\">\n",
       "  <thead>\n",
       "    <tr style=\"text-align: right;\">\n",
       "      <th></th>\n",
       "      <th>Nominal_Price_USD</th>\n",
       "      <th>CPI_All_Items</th>\n",
       "      <th>Real_Price_USD</th>\n",
       "    </tr>\n",
       "    <tr>\n",
       "      <th>Date</th>\n",
       "      <th></th>\n",
       "      <th></th>\n",
       "      <th></th>\n",
       "    </tr>\n",
       "  </thead>\n",
       "  <tbody>\n",
       "    <tr>\n",
       "      <th>2015-01-01</th>\n",
       "      <td>2.113</td>\n",
       "      <td>233.707</td>\n",
       "      <td>2.89</td>\n",
       "    </tr>\n",
       "    <tr>\n",
       "      <th>2015-02-01</th>\n",
       "      <td>2.088</td>\n",
       "      <td>234.722</td>\n",
       "      <td>2.84</td>\n",
       "    </tr>\n",
       "    <tr>\n",
       "      <th>2015-03-01</th>\n",
       "      <td>2.133</td>\n",
       "      <td>236.119</td>\n",
       "      <td>2.89</td>\n",
       "    </tr>\n",
       "    <tr>\n",
       "      <th>2015-04-01</th>\n",
       "      <td>2.065</td>\n",
       "      <td>236.599</td>\n",
       "      <td>2.79</td>\n",
       "    </tr>\n",
       "    <tr>\n",
       "      <th>2015-05-01</th>\n",
       "      <td>1.962</td>\n",
       "      <td>237.805</td>\n",
       "      <td>2.64</td>\n",
       "    </tr>\n",
       "  </tbody>\n",
       "</table>\n",
       "</div>"
      ],
      "text/plain": [
       "            Nominal_Price_USD  CPI_All_Items  Real_Price_USD\n",
       "Date                                                        \n",
       "2015-01-01              2.113        233.707            2.89\n",
       "2015-02-01              2.088        234.722            2.84\n",
       "2015-03-01              2.133        236.119            2.89\n",
       "2015-04-01              2.065        236.599            2.79\n",
       "2015-05-01              1.962        237.805            2.64"
      ]
     },
     "execution_count": 24,
     "metadata": {},
     "output_type": "execute_result"
    }
   ],
   "source": [
    "# Changing the decimal in Real_Price_USD to 2 places\n",
    "df[\"Real_Price_USD\"] = df[\"Real_Price_USD\"].round(2)\n",
    "\n",
    "df.head()"
   ]
  },
  {
   "cell_type": "markdown",
   "id": "436b0c7f",
   "metadata": {},
   "source": [
    "## 4. Visualization"
   ]
  },
  {
   "cell_type": "code",
   "execution_count": 27,
   "id": "173a113a",
   "metadata": {},
   "outputs": [
    {
     "data": {
      "image/png": "[encoded data removed]",
      "text/plain": [
       "<Figure size 1200x600 with 1 Axes>"
      ]
     },
     "metadata": {},
     "output_type": "display_data"
    }
   ],
   "source": [
    "plt.figure(figsize=(12, 6))\n",
    "plt.plot(df.index, df[\"Nominal_Price_USD\"], label=\"Nominal Price\", color=\"orange\")\n",
    "plt.plot(df.index, df[\"Real_Price_USD\"], label=\"Real Price (2025 USD)\", color=\"green\")\n",
    "plt.title(\"Egg Prices in the U.S. (2015-2025)\", fontsize=16)\n",
    "plt.ylabel(\"Price per Dozen (USD)\")\n",
    "plt.xlabel(\"Date\")\n",
    "plt.grid(True)\n",
    "plt.legend()\n",
    "plt.tight_layout()\n",
    "\n",
    "# Save fig\n",
    "plt.savefig(\"egg_price_analysis.png\", dpi=300)\n",
    "\n",
    "plt.show()"
   ]
  },
  {
   "cell_type": "code",
   "execution_count": 28,
   "id": "fde33ddd",
   "metadata": {},
   "outputs": [],
   "source": [
    "# Export adjusted dataset\n",
    "df.reset_index().to_csv(\"egg_prices_real_adjusted.csv\", index=False)"
   ]
  },
  {
   "cell_type": "markdown",
   "id": "82ad5000",
   "metadata": {},
   "source": [
    "## 5. Insights\n",
    "\n",
    "Between 2015 and 2021, U.S. egg prices (even after adjusting for inflation using CPI) remained relatively stable. However, starting in 2022, egg prices spiked dramatically—far outpacing CPI-adjusted expectations. This suggests egg-specific supply shocks, such as avian flu outbreaks or supply chain disruptions, rather than general inflation. Even by 2025, prices remain well above historical norms, implying a lasting shift in market dynamics."
   ]
  }
 ],
 "metadata": {
  "kernelspec": {
   "display_name": "da",
   "language": "python",
   "name": "python3"
  },
  "language_info": {
   "codemirror_mode": {
    "name": "ipython",
    "version": 3
   },
   "file_extension": ".py",
   "mimetype": "text/x-python",
   "name": "python",
   "nbconvert_exporter": "python",
   "pygments_lexer": "ipython3",
   "version": "3.12.3"
  }
 },
 "nbformat": 4,
 "nbformat_minor": 5
}
